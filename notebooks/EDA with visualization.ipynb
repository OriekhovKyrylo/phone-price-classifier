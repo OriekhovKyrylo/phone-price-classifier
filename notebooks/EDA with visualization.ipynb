{
 "cells": [
  {
   "metadata": {
    "ExecuteTime": {
     "end_time": "2025-10-01T13:37:24.654925Z",
     "start_time": "2025-10-01T13:37:24.652598Z"
    }
   },
   "cell_type": "code",
   "source": [
    "\n",
    "# Phone Price EDA\n",
    "\n",
    "import pandas as pd\n",
    "import plotly.express as px\n",
    "import plotly.graph_objects as go"
   ],
   "id": "ff563f4568cac494",
   "outputs": [],
   "execution_count": 11
  },
  {
   "metadata": {
    "ExecuteTime": {
     "end_time": "2025-10-01T13:37:24.672686Z",
     "start_time": "2025-10-01T13:37:24.665958Z"
    }
   },
   "cell_type": "code",
   "source": [
    "# Load data\n",
    "df = pd.read_csv(\"../data/my_phone.csv\")\n",
    "print(f\"Dataset: {df.shape[0]} rows, {df.shape[1]} columns\")\n"
   ],
   "id": "20a2a020a73142fb",
   "outputs": [
    {
     "name": "stdout",
     "output_type": "stream",
     "text": [
      "Dataset: 4020 rows, 12 columns\n"
     ]
    }
   ],
   "execution_count": 12
  },
  {
   "metadata": {
    "ExecuteTime": {
     "end_time": "2025-10-01T13:37:24.688735Z",
     "start_time": "2025-10-01T13:37:24.683029Z"
    }
   },
   "cell_type": "code",
   "source": [
    "# Clean data\n",
    "df = df[df['price_range'].notnull()].copy()\n",
    "df = df.drop(\"Unnamed: 0\", axis=1)\n",
    "df['bluetooth'] = df['bluetooth'].replace({'NO': 0, 'YES': 1})\n",
    "df['dual_sim'] = df['dual_sim'].replace({'NO': 0, 'YES': 1})\n",
    "df['price_range'] = df['price_range'].round().astype(int)\n",
    "\n",
    "print(f\"After cleaning: {df.shape}\")"
   ],
   "id": "b5941f48f7351ef9",
   "outputs": [
    {
     "name": "stdout",
     "output_type": "stream",
     "text": [
      "After cleaning: (3020, 11)\n"
     ]
    },
    {
     "name": "stderr",
     "output_type": "stream",
     "text": [
      "C:\\Users\\ko133\\AppData\\Local\\Temp\\ipykernel_660\\2240752410.py:4: FutureWarning:\n",
      "\n",
      "Downcasting behavior in `replace` is deprecated and will be removed in a future version. To retain the old behavior, explicitly call `result.infer_objects(copy=False)`. To opt-in to the future behavior, set `pd.set_option('future.no_silent_downcasting', True)`\n",
      "\n"
     ]
    }
   ],
   "execution_count": 13
  },
  {
   "metadata": {
    "ExecuteTime": {
     "end_time": "2025-10-01T13:37:24.733431Z",
     "start_time": "2025-10-01T13:37:24.697059Z"
    }
   },
   "cell_type": "code",
   "source": [
    "# 1. Price distribution\n",
    "fig = px.bar(df['price_range'].value_counts().sort_index(),\n",
    "             title='Price Range Distribution',\n",
    "             labels={'index': 'Price Range', 'value': 'Count'})\n",
    "fig.show()\n",
    "\n",
    "print(\"\\nPrice counts:\")"
   ],
   "id": "3bc917d961bf71f5",
   "outputs": [
    {
     "data": {
      "application/vnd.plotly.v1+json": {
       "data": [
        {
         "hovertemplate": "variable=count<br>price_range=%{x}<br>Count=%{y}<extra></extra>",
         "legendgroup": "count",
         "marker": {
          "color": "#636efa",
          "pattern": {
           "shape": ""
          }
         },
         "name": "count",
         "orientation": "v",
         "showlegend": true,
         "textposition": "auto",
         "x": {
          "dtype": "i1",
          "bdata": "AAECAw=="
         },
         "xaxis": "x",
         "y": {
          "dtype": "i2",
          "bdata": "9AHwBfQB9AE="
         },
         "yaxis": "y",
         "type": "bar"
        }
       ],
       "layout": {
        "template": {
         "data": {
          "histogram2dcontour": [
           {
            "type": "histogram2dcontour",
            "colorbar": {
             "outlinewidth": 0,
             "ticks": ""
            },
            "colorscale": [
             [
              0.0,
              "#0d0887"
             ],
             [
              0.1111111111111111,
              "#46039f"
             ],
             [
              0.2222222222222222,
              "#7201a8"
             ],
             [
              0.3333333333333333,
              "#9c179e"
             ],
             [
              0.4444444444444444,
              "#bd3786"
             ],
             [
              0.5555555555555556,
              "#d8576b"
             ],
             [
              0.6666666666666666,
              "#ed7953"
             ],
             [
              0.7777777777777778,
              "#fb9f3a"
             ],
             [
              0.8888888888888888,
              "#fdca26"
             ],
             [
              1.0,
              "#f0f921"
             ]
            ]
           }
          ],
          "choropleth": [
           {
            "type": "choropleth",
            "colorbar": {
             "outlinewidth": 0,
             "ticks": ""
            }
           }
          ],
          "histogram2d": [
           {
            "type": "histogram2d",
            "colorbar": {
             "outlinewidth": 0,
             "ticks": ""
            },
            "colorscale": [
             [
              0.0,
              "#0d0887"
             ],
             [
              0.1111111111111111,
              "#46039f"
             ],
             [
              0.2222222222222222,
              "#7201a8"
             ],
             [
              0.3333333333333333,
              "#9c179e"
             ],
             [
              0.4444444444444444,
              "#bd3786"
             ],
             [
              0.5555555555555556,
              "#d8576b"
             ],
             [
              0.6666666666666666,
              "#ed7953"
             ],
             [
              0.7777777777777778,
              "#fb9f3a"
             ],
             [
              0.8888888888888888,
              "#fdca26"
             ],
             [
              1.0,
              "#f0f921"
             ]
            ]
           }
          ],
          "heatmap": [
           {
            "type": "heatmap",
            "colorbar": {
             "outlinewidth": 0,
             "ticks": ""
            },
            "colorscale": [
             [
              0.0,
              "#0d0887"
             ],
             [
              0.1111111111111111,
              "#46039f"
             ],
             [
              0.2222222222222222,
              "#7201a8"
             ],
             [
              0.3333333333333333,
              "#9c179e"
             ],
             [
              0.4444444444444444,
              "#bd3786"
             ],
             [
              0.5555555555555556,
              "#d8576b"
             ],
             [
              0.6666666666666666,
              "#ed7953"
             ],
             [
              0.7777777777777778,
              "#fb9f3a"
             ],
             [
              0.8888888888888888,
              "#fdca26"
             ],
             [
              1.0,
              "#f0f921"
             ]
            ]
           }
          ],
          "contourcarpet": [
           {
            "type": "contourcarpet",
            "colorbar": {
             "outlinewidth": 0,
             "ticks": ""
            }
           }
          ],
          "contour": [
           {
            "type": "contour",
            "colorbar": {
             "outlinewidth": 0,
             "ticks": ""
            },
            "colorscale": [
             [
              0.0,
              "#0d0887"
             ],
             [
              0.1111111111111111,
              "#46039f"
             ],
             [
              0.2222222222222222,
              "#7201a8"
             ],
             [
              0.3333333333333333,
              "#9c179e"
             ],
             [
              0.4444444444444444,
              "#bd3786"
             ],
             [
              0.5555555555555556,
              "#d8576b"
             ],
             [
              0.6666666666666666,
              "#ed7953"
             ],
             [
              0.7777777777777778,
              "#fb9f3a"
             ],
             [
              0.8888888888888888,
              "#fdca26"
             ],
             [
              1.0,
              "#f0f921"
             ]
            ]
           }
          ],
          "surface": [
           {
            "type": "surface",
            "colorbar": {
             "outlinewidth": 0,
             "ticks": ""
            },
            "colorscale": [
             [
              0.0,
              "#0d0887"
             ],
             [
              0.1111111111111111,
              "#46039f"
             ],
             [
              0.2222222222222222,
              "#7201a8"
             ],
             [
              0.3333333333333333,
              "#9c179e"
             ],
             [
              0.4444444444444444,
              "#bd3786"
             ],
             [
              0.5555555555555556,
              "#d8576b"
             ],
             [
              0.6666666666666666,
              "#ed7953"
             ],
             [
              0.7777777777777778,
              "#fb9f3a"
             ],
             [
              0.8888888888888888,
              "#fdca26"
             ],
             [
              1.0,
              "#f0f921"
             ]
            ]
           }
          ],
          "mesh3d": [
           {
            "type": "mesh3d",
            "colorbar": {
             "outlinewidth": 0,
             "ticks": ""
            }
           }
          ],
          "scatter": [
           {
            "marker": {
             "line": {
              "color": "#283442"
             }
            },
            "type": "scatter"
           }
          ],
          "parcoords": [
           {
            "type": "parcoords",
            "line": {
             "colorbar": {
              "outlinewidth": 0,
              "ticks": ""
             }
            }
           }
          ],
          "scatterpolargl": [
           {
            "type": "scatterpolargl",
            "marker": {
             "colorbar": {
              "outlinewidth": 0,
              "ticks": ""
             }
            }
           }
          ],
          "bar": [
           {
            "error_x": {
             "color": "#f2f5fa"
            },
            "error_y": {
             "color": "#f2f5fa"
            },
            "marker": {
             "line": {
              "color": "rgb(17,17,17)",
              "width": 0.5
             },
             "pattern": {
              "fillmode": "overlay",
              "size": 10,
              "solidity": 0.2
             }
            },
            "type": "bar"
           }
          ],
          "scattergeo": [
           {
            "type": "scattergeo",
            "marker": {
             "colorbar": {
              "outlinewidth": 0,
              "ticks": ""
             }
            }
           }
          ],
          "scatterpolar": [
           {
            "type": "scatterpolar",
            "marker": {
             "colorbar": {
              "outlinewidth": 0,
              "ticks": ""
             }
            }
           }
          ],
          "histogram": [
           {
            "marker": {
             "pattern": {
              "fillmode": "overlay",
              "size": 10,
              "solidity": 0.2
             }
            },
            "type": "histogram"
           }
          ],
          "scattergl": [
           {
            "marker": {
             "line": {
              "color": "#283442"
             }
            },
            "type": "scattergl"
           }
          ],
          "scatter3d": [
           {
            "type": "scatter3d",
            "line": {
             "colorbar": {
              "outlinewidth": 0,
              "ticks": ""
             }
            },
            "marker": {
             "colorbar": {
              "outlinewidth": 0,
              "ticks": ""
             }
            }
           }
          ],
          "scattermap": [
           {
            "type": "scattermap",
            "marker": {
             "colorbar": {
              "outlinewidth": 0,
              "ticks": ""
             }
            }
           }
          ],
          "scattermapbox": [
           {
            "type": "scattermapbox",
            "marker": {
             "colorbar": {
              "outlinewidth": 0,
              "ticks": ""
             }
            }
           }
          ],
          "scatterternary": [
           {
            "type": "scatterternary",
            "marker": {
             "colorbar": {
              "outlinewidth": 0,
              "ticks": ""
             }
            }
           }
          ],
          "scattercarpet": [
           {
            "type": "scattercarpet",
            "marker": {
             "colorbar": {
              "outlinewidth": 0,
              "ticks": ""
             }
            }
           }
          ],
          "carpet": [
           {
            "aaxis": {
             "endlinecolor": "#A2B1C6",
             "gridcolor": "#506784",
             "linecolor": "#506784",
             "minorgridcolor": "#506784",
             "startlinecolor": "#A2B1C6"
            },
            "baxis": {
             "endlinecolor": "#A2B1C6",
             "gridcolor": "#506784",
             "linecolor": "#506784",
             "minorgridcolor": "#506784",
             "startlinecolor": "#A2B1C6"
            },
            "type": "carpet"
           }
          ],
          "table": [
           {
            "cells": {
             "fill": {
              "color": "#506784"
             },
             "line": {
              "color": "rgb(17,17,17)"
             }
            },
            "header": {
             "fill": {
              "color": "#2a3f5f"
             },
             "line": {
              "color": "rgb(17,17,17)"
             }
            },
            "type": "table"
           }
          ],
          "barpolar": [
           {
            "marker": {
             "line": {
              "color": "rgb(17,17,17)",
              "width": 0.5
             },
             "pattern": {
              "fillmode": "overlay",
              "size": 10,
              "solidity": 0.2
             }
            },
            "type": "barpolar"
           }
          ],
          "pie": [
           {
            "automargin": true,
            "type": "pie"
           }
          ]
         },
         "layout": {
          "autotypenumbers": "strict",
          "colorway": [
           "#636efa",
           "#EF553B",
           "#00cc96",
           "#ab63fa",
           "#FFA15A",
           "#19d3f3",
           "#FF6692",
           "#B6E880",
           "#FF97FF",
           "#FECB52"
          ],
          "font": {
           "color": "#f2f5fa"
          },
          "hovermode": "closest",
          "hoverlabel": {
           "align": "left"
          },
          "paper_bgcolor": "rgb(17,17,17)",
          "plot_bgcolor": "rgb(17,17,17)",
          "polar": {
           "bgcolor": "rgb(17,17,17)",
           "angularaxis": {
            "gridcolor": "#506784",
            "linecolor": "#506784",
            "ticks": ""
           },
           "radialaxis": {
            "gridcolor": "#506784",
            "linecolor": "#506784",
            "ticks": ""
           }
          },
          "ternary": {
           "bgcolor": "rgb(17,17,17)",
           "aaxis": {
            "gridcolor": "#506784",
            "linecolor": "#506784",
            "ticks": ""
           },
           "baxis": {
            "gridcolor": "#506784",
            "linecolor": "#506784",
            "ticks": ""
           },
           "caxis": {
            "gridcolor": "#506784",
            "linecolor": "#506784",
            "ticks": ""
           }
          },
          "coloraxis": {
           "colorbar": {
            "outlinewidth": 0,
            "ticks": ""
           }
          },
          "colorscale": {
           "sequential": [
            [
             0.0,
             "#0d0887"
            ],
            [
             0.1111111111111111,
             "#46039f"
            ],
            [
             0.2222222222222222,
             "#7201a8"
            ],
            [
             0.3333333333333333,
             "#9c179e"
            ],
            [
             0.4444444444444444,
             "#bd3786"
            ],
            [
             0.5555555555555556,
             "#d8576b"
            ],
            [
             0.6666666666666666,
             "#ed7953"
            ],
            [
             0.7777777777777778,
             "#fb9f3a"
            ],
            [
             0.8888888888888888,
             "#fdca26"
            ],
            [
             1.0,
             "#f0f921"
            ]
           ],
           "sequentialminus": [
            [
             0.0,
             "#0d0887"
            ],
            [
             0.1111111111111111,
             "#46039f"
            ],
            [
             0.2222222222222222,
             "#7201a8"
            ],
            [
             0.3333333333333333,
             "#9c179e"
            ],
            [
             0.4444444444444444,
             "#bd3786"
            ],
            [
             0.5555555555555556,
             "#d8576b"
            ],
            [
             0.6666666666666666,
             "#ed7953"
            ],
            [
             0.7777777777777778,
             "#fb9f3a"
            ],
            [
             0.8888888888888888,
             "#fdca26"
            ],
            [
             1.0,
             "#f0f921"
            ]
           ],
           "diverging": [
            [
             0,
             "#8e0152"
            ],
            [
             0.1,
             "#c51b7d"
            ],
            [
             0.2,
             "#de77ae"
            ],
            [
             0.3,
             "#f1b6da"
            ],
            [
             0.4,
             "#fde0ef"
            ],
            [
             0.5,
             "#f7f7f7"
            ],
            [
             0.6,
             "#e6f5d0"
            ],
            [
             0.7,
             "#b8e186"
            ],
            [
             0.8,
             "#7fbc41"
            ],
            [
             0.9,
             "#4d9221"
            ],
            [
             1,
             "#276419"
            ]
           ]
          },
          "xaxis": {
           "gridcolor": "#283442",
           "linecolor": "#506784",
           "ticks": "",
           "title": {
            "standoff": 15
           },
           "zerolinecolor": "#283442",
           "automargin": true,
           "zerolinewidth": 2
          },
          "yaxis": {
           "gridcolor": "#283442",
           "linecolor": "#506784",
           "ticks": "",
           "title": {
            "standoff": 15
           },
           "zerolinecolor": "#283442",
           "automargin": true,
           "zerolinewidth": 2
          },
          "scene": {
           "xaxis": {
            "backgroundcolor": "rgb(17,17,17)",
            "gridcolor": "#506784",
            "linecolor": "#506784",
            "showbackground": true,
            "ticks": "",
            "zerolinecolor": "#C8D4E3",
            "gridwidth": 2
           },
           "yaxis": {
            "backgroundcolor": "rgb(17,17,17)",
            "gridcolor": "#506784",
            "linecolor": "#506784",
            "showbackground": true,
            "ticks": "",
            "zerolinecolor": "#C8D4E3",
            "gridwidth": 2
           },
           "zaxis": {
            "backgroundcolor": "rgb(17,17,17)",
            "gridcolor": "#506784",
            "linecolor": "#506784",
            "showbackground": true,
            "ticks": "",
            "zerolinecolor": "#C8D4E3",
            "gridwidth": 2
           }
          },
          "shapedefaults": {
           "line": {
            "color": "#f2f5fa"
           }
          },
          "annotationdefaults": {
           "arrowcolor": "#f2f5fa",
           "arrowhead": 0,
           "arrowwidth": 1
          },
          "geo": {
           "bgcolor": "rgb(17,17,17)",
           "landcolor": "rgb(17,17,17)",
           "subunitcolor": "#506784",
           "showland": true,
           "showlakes": true,
           "lakecolor": "rgb(17,17,17)"
          },
          "title": {
           "x": 0.05
          },
          "updatemenudefaults": {
           "bgcolor": "#506784",
           "borderwidth": 0
          },
          "sliderdefaults": {
           "bgcolor": "#C8D4E3",
           "borderwidth": 1,
           "bordercolor": "rgb(17,17,17)",
           "tickwidth": 0
          },
          "mapbox": {
           "style": "dark"
          }
         }
        },
        "xaxis": {
         "anchor": "y",
         "domain": [
          0.0,
          1.0
         ],
         "title": {
          "text": "price_range"
         }
        },
        "yaxis": {
         "anchor": "x",
         "domain": [
          0.0,
          1.0
         ],
         "title": {
          "text": "Count"
         }
        },
        "legend": {
         "title": {
          "text": "variable"
         },
         "tracegroupgap": 0
        },
        "title": {
         "text": "Price Range Distribution"
        },
        "barmode": "relative"
       },
       "config": {
        "plotlyServerURL": "https://plot.ly"
       }
      }
     },
     "metadata": {},
     "output_type": "display_data",
     "jetTransient": {
      "display_id": null
     }
    },
    {
     "name": "stdout",
     "output_type": "stream",
     "text": [
      "\n",
      "Price counts:\n"
     ]
    }
   ],
   "execution_count": 14
  },
  {
   "metadata": {
    "ExecuteTime": {
     "end_time": "2025-10-01T13:37:24.756716Z",
     "start_time": "2025-10-01T13:37:24.742445Z"
    }
   },
   "cell_type": "code",
   "source": [
    "# 2. Basic stats\n",
    "print(\"Basic stats:\")\n",
    "print(df.describe())"
   ],
   "id": "a9e0a4095dda61ee",
   "outputs": [
    {
     "name": "stdout",
     "output_type": "stream",
     "text": [
      "Basic stats:\n",
      "       battery_power    bluetooth       weight       memory      n_cores  \\\n",
      "count    3020.000000  3020.000000  3020.000000  3020.000000  3020.000000   \n",
      "mean     1087.287086     0.327815   139.398675    25.279801     3.843377   \n",
      "std       415.928097     0.469495    33.282882    17.622524     2.184206   \n",
      "min       501.000000     0.000000    80.000000     2.000000     1.000000   \n",
      "25%       775.000000     0.000000   111.000000    11.000000     2.000000   \n",
      "50%       843.000000     0.000000   139.000000    17.000000     4.000000   \n",
      "75%      1429.000000     1.000000   167.000000    40.000000     5.000000   \n",
      "max      1998.000000     1.000000   200.000000    64.000000     8.000000   \n",
      "\n",
      "               ram         wifi  pixel_height  pixel_width  price_range  \n",
      "count  3020.000000  3020.000000   3020.000000  3020.000000  3020.000000  \n",
      "mean   1575.831457     0.500331    687.983444  1075.495695     1.331126  \n",
      "std    1181.716841     0.500083    393.410172   458.947181     0.940227  \n",
      "min       6.000000     0.000000      0.000000   240.000000     0.000000  \n",
      "25%     577.000000     0.000000    394.000000   711.000000     1.000000  \n",
      "50%    1185.000000     1.000000    657.000000  1022.000000     1.000000  \n",
      "75%    2563.000000     1.000000    958.500000  1429.000000     2.000000  \n",
      "max    3998.000000     1.000000   1960.000000  1998.000000     3.000000  \n"
     ]
    }
   ],
   "execution_count": 15
  },
  {
   "metadata": {
    "ExecuteTime": {
     "end_time": "2025-10-01T13:37:24.958475Z",
     "start_time": "2025-10-01T13:37:24.762711Z"
    }
   },
   "cell_type": "code",
   "source": [
    "# 3. Histograms\n",
    "features = ['battery_power', 'ram', 'memory', 'weight', 'pixel_height', 'pixel_width']\n",
    "\n",
    "for feature in features:\n",
    "    fig = px.histogram(df, x=feature, title=f'{feature} distribution')\n",
    "    fig.show()"
   ],
   "id": "97e6ef7fc2793a3",
   "outputs": [
    {
     "data": {
      "application/vnd.plotly.v1+json": {
       "data": [
        {
         "bingroup": "x",
         "hovertemplate": "battery_power=%{x}<br>count=%{y}<extra></extra>",
         "legendgroup": "",
         "marker": {
          "color": "#636efa",
          "pattern": {
           "shape": ""
          }
         },
         "name": "",
         "orientation": "v",
         "showlegend": false,
         "x": {
          "dtype": "i2",
          "bdata": "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"
         },
         "xaxis": "x",
         "yaxis": "y",
         "type": "histogram"
        }
       ],
       "layout": {
        "template": {
         "data": {
          "histogram2dcontour": [
           {
            "type": "histogram2dcontour",
            "colorbar": {
             "outlinewidth": 0,
             "ticks": ""
            },
            "colorscale": [
             [
              0.0,
              "#0d0887"
             ],
             [
              0.1111111111111111,
              "#46039f"
             ],
             [
              0.2222222222222222,
              "#7201a8"
             ],
             [
              0.3333333333333333,
              "#9c179e"
             ],
             [
              0.4444444444444444,
              "#bd3786"
             ],
             [
              0.5555555555555556,
              "#d8576b"
             ],
             [
              0.6666666666666666,
              "#ed7953"
             ],
             [
              0.7777777777777778,
              "#fb9f3a"
             ],
             [
              0.8888888888888888,
              "#fdca26"
             ],
             [
              1.0,
              "#f0f921"
             ]
            ]
           }
          ],
          "choropleth": [
           {
            "type": "choropleth",
            "colorbar": {
             "outlinewidth": 0,
             "ticks": ""
            }
           }
          ],
          "histogram2d": [
           {
            "type": "histogram2d",
            "colorbar": {
             "outlinewidth": 0,
             "ticks": ""
            },
            "colorscale": [
             [
              0.0,
              "#0d0887"
             ],
             [
              0.1111111111111111,
              "#46039f"
             ],
             [
              0.2222222222222222,
              "#7201a8"
             ],
             [
              0.3333333333333333,
              "#9c179e"
             ],
             [
              0.4444444444444444,
              "#bd3786"
             ],
             [
              0.5555555555555556,
              "#d8576b"
             ],
             [
              0.6666666666666666,
              "#ed7953"
             ],
             [
              0.7777777777777778,
              "#fb9f3a"
             ],
             [
              0.8888888888888888,
              "#fdca26"
             ],
             [
              1.0,
              "#f0f921"
             ]
            ]
           }
          ],
          "heatmap": [
           {
            "type": "heatmap",
            "colorbar": {
             "outlinewidth": 0,
             "ticks": ""
            },
            "colorscale": [
             [
              0.0,
              "#0d0887"
             ],
             [
              0.1111111111111111,
              "#46039f"
             ],
             [
              0.2222222222222222,
              "#7201a8"
             ],
             [
              0.3333333333333333,
              "#9c179e"
             ],
             [
              0.4444444444444444,
              "#bd3786"
             ],
             [
              0.5555555555555556,
              "#d8576b"
             ],
             [
              0.6666666666666666,
              "#ed7953"
             ],
             [
              0.7777777777777778,
              "#fb9f3a"
             ],
             [
              0.8888888888888888,
              "#fdca26"
             ],
             [
              1.0,
              "#f0f921"
             ]
            ]
           }
          ],
          "contourcarpet": [
           {
            "type": "contourcarpet",
            "colorbar": {
             "outlinewidth": 0,
             "ticks": ""
            }
           }
          ],
          "contour": [
           {
            "type": "contour",
            "colorbar": {
             "outlinewidth": 0,
             "ticks": ""
            },
            "colorscale": [
             [
              0.0,
              "#0d0887"
             ],
             [
              0.1111111111111111,
              "#46039f"
             ],
             [
              0.2222222222222222,
              "#7201a8"
             ],
             [
              0.3333333333333333,
              "#9c179e"
             ],
             [
              0.4444444444444444,
              "#bd3786"
             ],
             [
              0.5555555555555556,
              "#d8576b"
             ],
             [
              0.6666666666666666,
              "#ed7953"
             ],
             [
              0.7777777777777778,
              "#fb9f3a"
             ],
             [
              0.8888888888888888,
              "#fdca26"
             ],
             [
              1.0,
              "#f0f921"
             ]
            ]
           }
          ],
          "surface": [
           {
            "type": "surface",
            "colorbar": {
             "outlinewidth": 0,
             "ticks": ""
            },
            "colorscale": [
             [
              0.0,
              "#0d0887"
             ],
             [
              0.1111111111111111,
              "#46039f"
             ],
             [
              0.2222222222222222,
              "#7201a8"
             ],
             [
              0.3333333333333333,
              "#9c179e"
             ],
             [
              0.4444444444444444,
              "#bd3786"
             ],
             [
              0.5555555555555556,
              "#d8576b"
             ],
             [
              0.6666666666666666,
              "#ed7953"
             ],
             [
              0.7777777777777778,
              "#fb9f3a"
             ],
             [
              0.8888888888888888,
              "#fdca26"
             ],
             [
              1.0,
              "#f0f921"
             ]
            ]
           }
          ],
          "mesh3d": [
           {
            "type": "mesh3d",
            "colorbar": {
             "outlinewidth": 0,
             "ticks": ""
            }
           }
          ],
          "scatter": [
           {
            "marker": {
             "line": {
              "color": "#283442"
             }
            },
            "type": "scatter"
           }
          ],
          "parcoords": [
           {
            "type": "parcoords",
            "line": {
             "colorbar": {
              "outlinewidth": 0,
              "ticks": ""
             }
            }
           }
          ],
          "scatterpolargl": [
           {
            "type": "scatterpolargl",
            "marker": {
             "colorbar": {
              "outlinewidth": 0,
              "ticks": ""
             }
            }
           }
          ],
          "bar": [
           {
            "error_x": {
             "color": "#f2f5fa"
            },
            "error_y": {
             "color": "#f2f5fa"
            },
            "marker": {
             "line": {
              "color": "rgb(17,17,17)",
              "width": 0.5
             },
             "pattern": {
              "fillmode": "overlay",
              "size": 10,
              "solidity": 0.2
             }
            },
            "type": "bar"
           }
          ],
          "scattergeo": [
           {
            "type": "scattergeo",
            "marker": {
             "colorbar": {
              "outlinewidth": 0,
              "ticks": ""
             }
            }
           }
          ],
          "scatterpolar": [
           {
            "type": "scatterpolar",
            "marker": {
             "colorbar": {
              "outlinewidth": 0,
              "ticks": ""
             }
            }
           }
          ],
          "histogram": [
           {
            "marker": {
             "pattern": {
              "fillmode": "overlay",
              "size": 10,
              "solidity": 0.2
             }
            },
            "type": "histogram"
           }
          ],
          "scattergl": [
           {
            "marker": {
             "line": {
              "color": "#283442"
             }
            },
            "type": "scattergl"
           }
          ],
          "scatter3d": [
           {
            "type": "scatter3d",
            "line": {
             "colorbar": {
              "outlinewidth": 0,
              "ticks": ""
             }
            },
            "marker": {
             "colorbar": {
              "outlinewidth": 0,
              "ticks": ""
             }
            }
           }
          ],
          "scattermap": [
           {
            "type": "scattermap",
            "marker": {
             "colorbar": {
              "outlinewidth": 0,
              "ticks": ""
             }
            }
           }
          ],
          "scattermapbox": [
           {
            "type": "scattermapbox",
            "marker": {
             "colorbar": {
              "outlinewidth": 0,
              "ticks": ""
             }
            }
           }
          ],
          "scatterternary": [
           {
            "type": "scatterternary",
            "marker": {
             "colorbar": {
              "outlinewidth": 0,
              "ticks": ""
             }
            }
           }
          ],
          "scattercarpet": [
           {
            "type": "scattercarpet",
            "marker": {
             "colorbar": {
              "outlinewidth": 0,
              "ticks": ""
             }
            }
           }
          ],
          "carpet": [
           {
            "aaxis": {
             "endlinecolor": "#A2B1C6",
             "gridcolor": "#506784",
             "linecolor": "#506784",
             "minorgridcolor": "#506784",
             "startlinecolor": "#A2B1C6"
            },
            "baxis": {
             "endlinecolor": "#A2B1C6",
             "gridcolor": "#506784",
             "linecolor": "#506784",
             "minorgridcolor": "#506784",
             "startlinecolor": "#A2B1C6"
            },
            "type": "carpet"
           }
          ],
          "table": [
           {
            "cells": {
             "fill": {
              "color": "#506784"
             },
             "line": {
              "color": "rgb(17,17,17)"
             }
            },
            "header": {
             "fill": {
              "color": "#2a3f5f"
             },
             "line": {
              "color": "rgb(17,17,17)"
             }
            },
            "type": "table"
           }
          ],
          "barpolar": [
           {
            "marker": {
             "line": {
              "color": "rgb(17,17,17)",
              "width": 0.5
             },
             "pattern": {
              "fillmode": "overlay",
              "size": 10,
              "solidity": 0.2
             }
            },
            "type": "barpolar"
           }
          ],
          "pie": [
           {
            "automargin": true,
            "type": "pie"
           }
          ]
         },
         "layout": {
          "autotypenumbers": "strict",
          "colorway": [
           "#636efa",
           "#EF553B",
           "#00cc96",
           "#ab63fa",
           "#FFA15A",
           "#19d3f3",
           "#FF6692",
           "#B6E880",
           "#FF97FF",
           "#FECB52"
          ],
          "font": {
           "color": "#f2f5fa"
          },
          "hovermode": "closest",
          "hoverlabel": {
           "align": "left"
          },
          "paper_bgcolor": "rgb(17,17,17)",
          "plot_bgcolor": "rgb(17,17,17)",
          "polar": {
           "bgcolor": "rgb(17,17,17)",
           "angularaxis": {
            "gridcolor": "#506784",
            "linecolor": "#506784",
            "ticks": ""
           },
           "radialaxis": {
            "gridcolor": "#506784",
            "linecolor": "#506784",
            "ticks": ""
           }
          },
          "ternary": {
           "bgcolor": "rgb(17,17,17)",
           "aaxis": {
            "gridcolor": "#506784",
            "linecolor": "#506784",
            "ticks": ""
           },
           "baxis": {
            "gridcolor": "#506784",
            "linecolor": "#506784",
            "ticks": ""
           },
           "caxis": {
            "gridcolor": "#506784",
            "linecolor": "#506784",
            "ticks": ""
           }
          },
          "coloraxis": {
           "colorbar": {
            "outlinewidth": 0,
            "ticks": ""
           }
          },
          "colorscale": {
           "sequential": [
            [
             0.0,
             "#0d0887"
            ],
            [
             0.1111111111111111,
             "#46039f"
            ],
            [
             0.2222222222222222,
             "#7201a8"
            ],
            [
             0.3333333333333333,
             "#9c179e"
            ],
            [
             0.4444444444444444,
             "#bd3786"
            ],
            [
             0.5555555555555556,
             "#d8576b"
            ],
            [
             0.6666666666666666,
             "#ed7953"
            ],
            [
             0.7777777777777778,
             "#fb9f3a"
            ],
            [
             0.8888888888888888,
             "#fdca26"
            ],
            [
             1.0,
             "#f0f921"
            ]
           ],
           "sequentialminus": [
            [
             0.0,
             "#0d0887"
            ],
            [
             0.1111111111111111,
             "#46039f"
            ],
            [
             0.2222222222222222,
             "#7201a8"
            ],
            [
             0.3333333333333333,
             "#9c179e"
            ],
            [
             0.4444444444444444,
             "#bd3786"
            ],
            [
             0.5555555555555556,
             "#d8576b"
            ],
            [
             0.6666666666666666,
             "#ed7953"
            ],
            [
             0.7777777777777778,
             "#fb9f3a"
            ],
            [
             0.8888888888888888,
             "#fdca26"
            ],
            [
             1.0,
             "#f0f921"
            ]
           ],
           "diverging": [
            [
             0,
             "#8e0152"
            ],
            [
             0.1,
             "#c51b7d"
            ],
            [
             0.2,
             "#de77ae"
            ],
            [
             0.3,
             "#f1b6da"
            ],
            [
             0.4,
             "#fde0ef"
            ],
            [
             0.5,
             "#f7f7f7"
            ],
            [
             0.6,
             "#e6f5d0"
            ],
            [
             0.7,
             "#b8e186"
            ],
            [
             0.8,
             "#7fbc41"
            ],
            [
             0.9,
             "#4d9221"
            ],
            [
             1,
             "#276419"
            ]
           ]
          },
          "xaxis": {
           "gridcolor": "#283442",
           "linecolor": "#506784",
           "ticks": "",
           "title": {
            "standoff": 15
           },
           "zerolinecolor": "#283442",
           "automargin": true,
           "zerolinewidth": 2
          },
          "yaxis": {
           "gridcolor": "#283442",
           "linecolor": "#506784",
           "ticks": "",
           "title": {
            "standoff": 15
           },
           "zerolinecolor": "#283442",
           "automargin": true,
           "zerolinewidth": 2
          },
          "scene": {
           "xaxis": {
            "backgroundcolor": "rgb(17,17,17)",
            "gridcolor": "#506784",
            "linecolor": "#506784",
            "showbackground": true,
            "ticks": "",
            "zerolinecolor": "#C8D4E3",
            "gridwidth": 2
           },
           "yaxis": {
            "backgroundcolor": "rgb(17,17,17)",
            "gridcolor": "#506784",
            "linecolor": "#506784",
            "showbackground": true,
            "ticks": "",
            "zerolinecolor": "#C8D4E3",
            "gridwidth": 2
           },
           "zaxis": {
            "backgroundcolor": "rgb(17,17,17)",
            "gridcolor": "#506784",
            "linecolor": "#506784",
            "showbackground": true,
            "ticks": "",
            "zerolinecolor": "#C8D4E3",
            "gridwidth": 2
           }
          },
          "shapedefaults": {
           "line": {
            "color": "#f2f5fa"
           }
          },
          "annotationdefaults": {
           "arrowcolor": "#f2f5fa",
           "arrowhead": 0,
           "arrowwidth": 1
          },
          "geo": {
           "bgcolor": "rgb(17,17,17)",
           "landcolor": "rgb(17,17,17)",
           "subunitcolor": "#506784",
           "showland": true,
           "showlakes": true,
           "lakecolor": "rgb(17,17,17)"
          },
          "title": {
           "x": 0.05
          },
          "updatemenudefaults": {
           "bgcolor": "#506784",
           "borderwidth": 0
          },
          "sliderdefaults": {
           "bgcolor": "#C8D4E3",
           "borderwidth": 1,
           "bordercolor": "rgb(17,17,17)",
           "tickwidth": 0
          },
          "mapbox": {
           "style": "dark"
          }
         }
        },
        "xaxis": {
         "anchor": "y",
         "domain": [
          0.0,
          1.0
         ],
         "title": {
          "text": "battery_power"
         }
        },
        "yaxis": {
         "anchor": "x",
         "domain": [
          0.0,
          1.0
         ],
         "title": {
          "text": "count"
         }
        },
        "legend": {
         "tracegroupgap": 0
        },
        "title": {
         "text": "battery_power distribution"
        },
        "barmode": "relative"
       },
       "config": {
        "plotlyServerURL": "https://plot.ly"
       }
      }
     },
     "metadata": {},
     "output_type": "display_data",
     "jetTransient": {
      "display_id": null
     }
    },
    {
     "data": {
      "application/vnd.plotly.v1+json": {
       "data": [
        {
         "bingroup": "x",
         "hovertemplate": "ram=%{x}<br>count=%{y}<extra></extra>",
         "legendgroup": "",
         "marker": {
          "color": "#636efa",
          "pattern": {
           "shape": ""
          }
         },
         "name": "",
         "orientation": "v",
         "showlegend": false,
         "x": {
          "dtype": "i2",
          "bdata": "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"
         },
         "xaxis": "x",
         "yaxis": "y",
         "type": "histogram"
        }
       ],
       "layout": {
        "template": {
         "data": {
          "histogram2dcontour": [
           {
            "type": "histogram2dcontour",
            "colorbar": {
             "outlinewidth": 0,
             "ticks": ""
            },
            "colorscale": [
             [
              0.0,
              "#0d0887"
             ],
             [
              0.1111111111111111,
              "#46039f"
             ],
             [
              0.2222222222222222,
              "#7201a8"
             ],
             [
              0.3333333333333333,
              "#9c179e"
             ],
             [
              0.4444444444444444,
              "#bd3786"
             ],
             [
              0.5555555555555556,
              "#d8576b"
             ],
             [
              0.6666666666666666,
              "#ed7953"
             ],
             [
              0.7777777777777778,
              "#fb9f3a"
             ],
             [
              0.8888888888888888,
              "#fdca26"
             ],
             [
              1.0,
              "#f0f921"
             ]
            ]
           }
          ],
          "choropleth": [
           {
            "type": "choropleth",
            "colorbar": {
             "outlinewidth": 0,
             "ticks": ""
            }
           }
          ],
          "histogram2d": [
           {
            "type": "histogram2d",
            "colorbar": {
             "outlinewidth": 0,
             "ticks": ""
            },
            "colorscale": [
             [
              0.0,
              "#0d0887"
             ],
             [
              0.1111111111111111,
              "#46039f"
             ],
             [
              0.2222222222222222,
              "#7201a8"
             ],
             [
              0.3333333333333333,
              "#9c179e"
             ],
             [
              0.4444444444444444,
              "#bd3786"
             ],
             [
              0.5555555555555556,
              "#d8576b"
             ],
             [
              0.6666666666666666,
              "#ed7953"
             ],
             [
              0.7777777777777778,
              "#fb9f3a"
             ],
             [
              0.8888888888888888,
              "#fdca26"
             ],
             [
              1.0,
              "#f0f921"
             ]
            ]
           }
          ],
          "heatmap": [
           {
            "type": "heatmap",
            "colorbar": {
             "outlinewidth": 0,
             "ticks": ""
            },
            "colorscale": [
             [
              0.0,
              "#0d0887"
             ],
             [
              0.1111111111111111,
              "#46039f"
             ],
             [
              0.2222222222222222,
              "#7201a8"
             ],
             [
              0.3333333333333333,
              "#9c179e"
             ],
             [
              0.4444444444444444,
              "#bd3786"
             ],
             [
              0.5555555555555556,
              "#d8576b"
             ],
             [
              0.6666666666666666,
              "#ed7953"
             ],
             [
              0.7777777777777778,
              "#fb9f3a"
             ],
             [
              0.8888888888888888,
              "#fdca26"
             ],
             [
              1.0,
              "#f0f921"
             ]
            ]
           }
          ],
          "contourcarpet": [
           {
            "type": "contourcarpet",
            "colorbar": {
             "outlinewidth": 0,
             "ticks": ""
            }
           }
          ],
          "contour": [
           {
            "type": "contour",
            "colorbar": {
             "outlinewidth": 0,
             "ticks": ""
            },
            "colorscale": [
             [
              0.0,
              "#0d0887"
             ],
             [
              0.1111111111111111,
              "#46039f"
             ],
             [
              0.2222222222222222,
              "#7201a8"
             ],
             [
              0.3333333333333333,
              "#9c179e"
             ],
             [
              0.4444444444444444,
              "#bd3786"
             ],
             [
              0.5555555555555556,
              "#d8576b"
             ],
             [
              0.6666666666666666,
              "#ed7953"
             ],
             [
              0.7777777777777778,
              "#fb9f3a"
             ],
             [
              0.8888888888888888,
              "#fdca26"
             ],
             [
              1.0,
              "#f0f921"
             ]
            ]
           }
          ],
          "surface": [
           {
            "type": "surface",
            "colorbar": {
             "outlinewidth": 0,
             "ticks": ""
            },
            "colorscale": [
             [
              0.0,
              "#0d0887"
             ],
             [
              0.1111111111111111,
              "#46039f"
             ],
             [
              0.2222222222222222,
              "#7201a8"
             ],
             [
              0.3333333333333333,
              "#9c179e"
             ],
             [
              0.4444444444444444,
              "#bd3786"
             ],
             [
              0.5555555555555556,
              "#d8576b"
             ],
             [
              0.6666666666666666,
              "#ed7953"
             ],
             [
              0.7777777777777778,
              "#fb9f3a"
             ],
             [
              0.8888888888888888,
              "#fdca26"
             ],
             [
              1.0,
              "#f0f921"
             ]
            ]
           }
          ],
          "mesh3d": [
           {
            "type": "mesh3d",
            "colorbar": {
             "outlinewidth": 0,
             "ticks": ""
            }
           }
          ],
          "scatter": [
           {
            "marker": {
             "line": {
              "color": "#283442"
             }
            },
            "type": "scatter"
           }
          ],
          "parcoords": [
           {
            "type": "parcoords",
            "line": {
             "colorbar": {
              "outlinewidth": 0,
              "ticks": ""
             }
            }
           }
          ],
          "scatterpolargl": [
           {
            "type": "scatterpolargl",
            "marker": {
             "colorbar": {
              "outlinewidth": 0,
              "ticks": ""
             }
            }
           }
          ],
          "bar": [
           {
            "error_x": {
             "color": "#f2f5fa"
            },
            "error_y": {
             "color": "#f2f5fa"
            },
            "marker": {
             "line": {
              "color": "rgb(17,17,17)",
              "width": 0.5
             },
             "pattern": {
              "fillmode": "overlay",
              "size": 10,
              "solidity": 0.2
             }
            },
            "type": "bar"
           }
          ],
          "scattergeo": [
           {
            "type": "scattergeo",
            "marker": {
             "colorbar": {
              "outlinewidth": 0,
              "ticks": ""
             }
            }
           }
          ],
          "scatterpolar": [
           {
            "type": "scatterpolar",
            "marker": {
             "colorbar": {
              "outlinewidth": 0,
              "ticks": ""
             }
            }
           }
          ],
          "histogram": [
           {
            "marker": {
             "pattern": {
              "fillmode": "overlay",
              "size": 10,
              "solidity": 0.2
             }
            },
            "type": "histogram"
           }
          ],
          "scattergl": [
           {
            "marker": {
             "line": {
              "color": "#283442"
             }
            },
            "type": "scattergl"
           }
          ],
          "scatter3d": [
           {
            "type": "scatter3d",
            "line": {
             "colorbar": {
              "outlinewidth": 0,
              "ticks": ""
             }
            },
            "marker": {
             "colorbar": {
              "outlinewidth": 0,
              "ticks": ""
             }
            }
           }
          ],
          "scattermap": [
           {
            "type": "scattermap",
            "marker": {
             "colorbar": {
              "outlinewidth": 0,
              "ticks": ""
             }
            }
           }
          ],
          "scattermapbox": [
           {
            "type": "scattermapbox",
            "marker": {
             "colorbar": {
              "outlinewidth": 0,
              "ticks": ""
             }
            }
           }
          ],
          "scatterternary": [
           {
            "type": "scatterternary",
            "marker": {
             "colorbar": {
              "outlinewidth": 0,
              "ticks": ""
             }
            }
           }
          ],
          "scattercarpet": [
           {
            "type": "scattercarpet",
            "marker": {
             "colorbar": {
              "outlinewidth": 0,
              "ticks": ""
             }
            }
           }
          ],
          "carpet": [
           {
            "aaxis": {
             "endlinecolor": "#A2B1C6",
             "gridcolor": "#506784",
             "linecolor": "#506784",
             "minorgridcolor": "#506784",
             "startlinecolor": "#A2B1C6"
            },
            "baxis": {
             "endlinecolor": "#A2B1C6",
             "gridcolor": "#506784",
             "linecolor": "#506784",
             "minorgridcolor": "#506784",
             "startlinecolor": "#A2B1C6"
            },
            "type": "carpet"
           }
          ],
          "table": [
           {
            "cells": {
             "fill": {
              "color": "#506784"
             },
             "line": {
              "color": "rgb(17,17,17)"
             }
            },
            "header": {
             "fill": {
              "color": "#2a3f5f"
             },
             "line": {
              "color": "rgb(17,17,17)"
             }
            },
            "type": "table"
           }
          ],
          "barpolar": [
           {
            "marker": {
             "line": {
              "color": "rgb(17,17,17)",
              "width": 0.5
             },
             "pattern": {
              "fillmode": "overlay",
              "size": 10,
              "solidity": 0.2
             }
            },
            "type": "barpolar"
           }
          ],
          "pie": [
           {
            "automargin": true,
            "type": "pie"
           }
          ]
         },
         "layout": {
          "autotypenumbers": "strict",
          "colorway": [
           "#636efa",
           "#EF553B",
           "#00cc96",
           "#ab63fa",
           "#FFA15A",
           "#19d3f3",
           "#FF6692",
           "#B6E880",
           "#FF97FF",
           "#FECB52"
          ],
          "font": {
           "color": "#f2f5fa"
          },
          "hovermode": "closest",
          "hoverlabel": {
           "align": "left"
          },
          "paper_bgcolor": "rgb(17,17,17)",
          "plot_bgcolor": "rgb(17,17,17)",
          "polar": {
           "bgcolor": "rgb(17,17,17)",
           "angularaxis": {
            "gridcolor": "#506784",
            "linecolor": "#506784",
            "ticks": ""
           },
           "radialaxis": {
            "gridcolor": "#506784",
            "linecolor": "#506784",
            "ticks": ""
           }
          },
          "ternary": {
           "bgcolor": "rgb(17,17,17)",
           "aaxis": {
            "gridcolor": "#506784",
            "linecolor": "#506784",
            "ticks": ""
           },
           "baxis": {
            "gridcolor": "#506784",
            "linecolor": "#506784",
            "ticks": ""
           },
           "caxis": {
            "gridcolor": "#506784",
            "linecolor": "#506784",
            "ticks": ""
           }
          },
          "coloraxis": {
           "colorbar": {
            "outlinewidth": 0,
            "ticks": ""
           }
          },
          "colorscale": {
           "sequential": [
            [
             0.0,
             "#0d0887"
            ],
            [
             0.1111111111111111,
             "#46039f"
            ],
            [
             0.2222222222222222,
             "#7201a8"
            ],
            [
             0.3333333333333333,
             "#9c179e"
            ],
            [
             0.4444444444444444,
             "#bd3786"
            ],
            [
             0.5555555555555556,
             "#d8576b"
            ],
            [
             0.6666666666666666,
             "#ed7953"
            ],
            [
             0.7777777777777778,
             "#fb9f3a"
            ],
            [
             0.8888888888888888,
             "#fdca26"
            ],
            [
             1.0,
             "#f0f921"
            ]
           ],
           "sequentialminus": [
            [
             0.0,
             "#0d0887"
            ],
            [
             0.1111111111111111,
             "#46039f"
            ],
            [
             0.2222222222222222,
             "#7201a8"
            ],
            [
             0.3333333333333333,
             "#9c179e"
            ],
            [
             0.4444444444444444,
             "#bd3786"
            ],
            [
             0.5555555555555556,
             "#d8576b"
            ],
            [
             0.6666666666666666,
             "#ed7953"
            ],
            [
             0.7777777777777778,
             "#fb9f3a"
            ],
            [
             0.8888888888888888,
             "#fdca26"
            ],
            [
             1.0,
             "#f0f921"
            ]
           ],
           "diverging": [
            [
             0,
             "#8e0152"
            ],
            [
             0.1,
             "#c51b7d"
            ],
            [
             0.2,
             "#de77ae"
            ],
            [
             0.3,
             "#f1b6da"
            ],
            [
             0.4,
             "#fde0ef"
            ],
            [
             0.5,
             "#f7f7f7"
            ],
            [
             0.6,
             "#e6f5d0"
            ],
            [
             0.7,
             "#b8e186"
            ],
            [
             0.8,
             "#7fbc41"
            ],
            [
             0.9,
             "#4d9221"
            ],
            [
             1,
             "#276419"
            ]
           ]
          },
          "xaxis": {
           "gridcolor": "#283442",
           "linecolor": "#506784",
           "ticks": "",
           "title": {
            "standoff": 15
           },
           "zerolinecolor": "#283442",
           "automargin": true,
           "zerolinewidth": 2
          },
          "yaxis": {
           "gridcolor": "#283442",
           "linecolor": "#506784",
           "ticks": "",
           "title": {
            "standoff": 15
           },
           "zerolinecolor": "#283442",
           "automargin": true,
           "zerolinewidth": 2
          },
          "scene": {
           "xaxis": {
            "backgroundcolor": "rgb(17,17,17)",
            "gridcolor": "#506784",
            "linecolor": "#506784",
            "showbackground": true,
            "ticks": "",
            "zerolinecolor": "#C8D4E3",
            "gridwidth": 2
           },
           "yaxis": {
            "backgroundcolor": "rgb(17,17,17)",
            "gridcolor": "#506784",
            "linecolor": "#506784",
            "showbackground": true,
            "ticks": "",
            "zerolinecolor": "#C8D4E3",
            "gridwidth": 2
           },
           "zaxis": {
            "backgroundcolor": "rgb(17,17,17)",
            "gridcolor": "#506784",
            "linecolor": "#506784",
            "showbackground": true,
            "ticks": "",
            "zerolinecolor": "#C8D4E3",
            "gridwidth": 2
           }
          },
          "shapedefaults": {
           "line": {
            "color": "#f2f5fa"
           }
          },
          "annotationdefaults": {
           "arrowcolor": "#f2f5fa",
           "arrowhead": 0,
           "arrowwidth": 1
          },
          "geo": {
           "bgcolor": "rgb(17,17,17)",
           "landcolor": "rgb(17,17,17)",
           "subunitcolor": "#506784",
           "showland": true,
           "showlakes": true,
           "lakecolor": "rgb(17,17,17)"
          },
          "title": {
           "x": 0.05
          },
          "updatemenudefaults": {
           "bgcolor": "#506784",
           "borderwidth": 0
          },
          "sliderdefaults": {
           "bgcolor": "#C8D4E3",
           "borderwidth": 1,
           "bordercolor": "rgb(17,17,17)",
           "tickwidth": 0
          },
          "mapbox": {
           "style": "dark"
          }
         }
        },
        "xaxis": {
         "anchor": "y",
         "domain": [
          0.0,
          1.0
         ],
         "title": {
          "text": "ram"
         }
        },
        "yaxis": {
         "anchor": "x",
         "domain": [
          0.0,
          1.0
         ],
         "title": {
          "text": "count"
         }
        },
        "legend": {
         "tracegroupgap": 0
        },
        "title": {
         "text": "ram distribution"
        },
        "barmode": "relative"
       },
       "config": {
        "plotlyServerURL": "https://plot.ly"
       }
      }
     },
     "metadata": {},
     "output_type": "display_data",
     "jetTransient": {
      "display_id": null
     }
    },
    {
     "data": {
      "application/vnd.plotly.v1+json": {
       "data": [
        {
         "bingroup": "x",
         "hovertemplate": "memory=%{x}<br>count=%{y}<extra></extra>",
         "legendgroup": "",
         "marker": {
          "color": "#636efa",
          "pattern": {
           "shape": ""
          }
         },
         "name": "",
         "orientation": "v",
         "showlegend": false,
         "x": {
          "dtype": "i1",
          "bdata": "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"
         },
         "xaxis": "x",
         "yaxis": "y",
         "type": "histogram"
        }
       ],
       "layout": {
        "template": {
         "data": {
          "histogram2dcontour": [
           {
            "type": "histogram2dcontour",
            "colorbar": {
             "outlinewidth": 0,
             "ticks": ""
            },
            "colorscale": [
             [
              0.0,
              "#0d0887"
             ],
             [
              0.1111111111111111,
              "#46039f"
             ],
             [
              0.2222222222222222,
              "#7201a8"
             ],
             [
              0.3333333333333333,
              "#9c179e"
             ],
             [
              0.4444444444444444,
              "#bd3786"
             ],
             [
              0.5555555555555556,
              "#d8576b"
             ],
             [
              0.6666666666666666,
              "#ed7953"
             ],
             [
              0.7777777777777778,
              "#fb9f3a"
             ],
             [
              0.8888888888888888,
              "#fdca26"
             ],
             [
              1.0,
              "#f0f921"
             ]
            ]
           }
          ],
          "choropleth": [
           {
            "type": "choropleth",
            "colorbar": {
             "outlinewidth": 0,
             "ticks": ""
            }
           }
          ],
          "histogram2d": [
           {
            "type": "histogram2d",
            "colorbar": {
             "outlinewidth": 0,
             "ticks": ""
            },
            "colorscale": [
             [
              0.0,
              "#0d0887"
             ],
             [
              0.1111111111111111,
              "#46039f"
             ],
             [
              0.2222222222222222,
              "#7201a8"
             ],
             [
              0.3333333333333333,
              "#9c179e"
             ],
             [
              0.4444444444444444,
              "#bd3786"
             ],
             [
              0.5555555555555556,
              "#d8576b"
             ],
             [
              0.6666666666666666,
              "#ed7953"
             ],
             [
              0.7777777777777778,
              "#fb9f3a"
             ],
             [
              0.8888888888888888,
              "#fdca26"
             ],
             [
              1.0,
              "#f0f921"
             ]
            ]
           }
          ],
          "heatmap": [
           {
            "type": "heatmap",
            "colorbar": {
             "outlinewidth": 0,
             "ticks": ""
            },
            "colorscale": [
             [
              0.0,
              "#0d0887"
             ],
             [
              0.1111111111111111,
              "#46039f"
             ],
             [
              0.2222222222222222,
              "#7201a8"
             ],
             [
              0.3333333333333333,
              "#9c179e"
             ],
             [
              0.4444444444444444,
              "#bd3786"
             ],
             [
              0.5555555555555556,
              "#d8576b"
             ],
             [
              0.6666666666666666,
              "#ed7953"
             ],
             [
              0.7777777777777778,
              "#fb9f3a"
             ],
             [
              0.8888888888888888,
              "#fdca26"
             ],
             [
              1.0,
              "#f0f921"
             ]
            ]
           }
          ],
          "contourcarpet": [
           {
            "type": "contourcarpet",
            "colorbar": {
             "outlinewidth": 0,
             "ticks": ""
            }
           }
          ],
          "contour": [
           {
            "type": "contour",
            "colorbar": {
             "outlinewidth": 0,
             "ticks": ""
            },
            "colorscale": [
             [
              0.0,
              "#0d0887"
             ],
             [
              0.1111111111111111,
              "#46039f"
             ],
             [
              0.2222222222222222,
              "#7201a8"
             ],
             [
              0.3333333333333333,
              "#9c179e"
             ],
             [
              0.4444444444444444,
              "#bd3786"
             ],
             [
              0.5555555555555556,
              "#d8576b"
             ],
             [
              0.6666666666666666,
              "#ed7953"
             ],
             [
              0.7777777777777778,
              "#fb9f3a"
             ],
             [
              0.8888888888888888,
              "#fdca26"
             ],
             [
              1.0,
              "#f0f921"
             ]
            ]
           }
          ],
          "surface": [
           {
            "type": "surface",
            "colorbar": {
             "outlinewidth": 0,
             "ticks": ""
            },
            "colorscale": [
             [
              0.0,
              "#0d0887"
             ],
             [
              0.1111111111111111,
              "#46039f"
             ],
             [
              0.2222222222222222,
              "#7201a8"
             ],
             [
              0.3333333333333333,
              "#9c179e"
             ],
             [
              0.4444444444444444,
              "#bd3786"
             ],
             [
              0.5555555555555556,
              "#d8576b"
             ],
             [
              0.6666666666666666,
              "#ed7953"
             ],
             [
              0.7777777777777778,
              "#fb9f3a"
             ],
             [
              0.8888888888888888,
              "#fdca26"
             ],
             [
              1.0,
              "#f0f921"
             ]
            ]
           }
          ],
          "mesh3d": [
           {
            "type": "mesh3d",
            "colorbar": {
             "outlinewidth": 0,
             "ticks": ""
            }
           }
          ],
          "scatter": [
           {
            "marker": {
             "line": {
              "color": "#283442"
             }
            },
            "type": "scatter"
           }
          ],
          "parcoords": [
           {
            "type": "parcoords",
            "line": {
             "colorbar": {
              "outlinewidth": 0,
              "ticks": ""
             }
            }
           }
          ],
          "scatterpolargl": [
           {
            "type": "scatterpolargl",
            "marker": {
             "colorbar": {
              "outlinewidth": 0,
              "ticks": ""
             }
            }
           }
          ],
          "bar": [
           {
            "error_x": {
             "color": "#f2f5fa"
            },
            "error_y": {
             "color": "#f2f5fa"
            },
            "marker": {
             "line": {
              "color": "rgb(17,17,17)",
              "width": 0.5
             },
             "pattern": {
              "fillmode": "overlay",
              "size": 10,
              "solidity": 0.2
             }
            },
            "type": "bar"
           }
          ],
          "scattergeo": [
           {
            "type": "scattergeo",
            "marker": {
             "colorbar": {
              "outlinewidth": 0,
              "ticks": ""
             }
            }
           }
          ],
          "scatterpolar": [
           {
            "type": "scatterpolar",
            "marker": {
             "colorbar": {
              "outlinewidth": 0,
              "ticks": ""
             }
            }
           }
          ],
          "histogram": [
           {
            "marker": {
             "pattern": {
              "fillmode": "overlay",
              "size": 10,
              "solidity": 0.2
             }
            },
            "type": "histogram"
           }
          ],
          "scattergl": [
           {
            "marker": {
             "line": {
              "color": "#283442"
             }
            },
            "type": "scattergl"
           }
          ],
          "scatter3d": [
           {
            "type": "scatter3d",
            "line": {
             "colorbar": {
              "outlinewidth": 0,
              "ticks": ""
             }
            },
            "marker": {
             "colorbar": {
              "outlinewidth": 0,
              "ticks": ""
             }
            }
           }
          ],
          "scattermap": [
           {
            "type": "scattermap",
            "marker": {
             "colorbar": {
              "outlinewidth": 0,
              "ticks": ""
             }
            }
           }
          ],
          "scattermapbox": [
           {
            "type": "scattermapbox",
            "marker": {
             "colorbar": {
              "outlinewidth": 0,
              "ticks": ""
             }
            }
           }
          ],
          "scatterternary": [
           {
            "type": "scatterternary",
            "marker": {
             "colorbar": {
              "outlinewidth": 0,
              "ticks": ""
             }
            }
           }
          ],
          "scattercarpet": [
           {
            "type": "scattercarpet",
            "marker": {
             "colorbar": {
              "outlinewidth": 0,
              "ticks": ""
             }
            }
           }
          ],
          "carpet": [
           {
            "aaxis": {
             "endlinecolor": "#A2B1C6",
             "gridcolor": "#506784",
             "linecolor": "#506784",
             "minorgridcolor": "#506784",
             "startlinecolor": "#A2B1C6"
            },
            "baxis": {
             "endlinecolor": "#A2B1C6",
             "gridcolor": "#506784",
             "linecolor": "#506784",
             "minorgridcolor": "#506784",
             "startlinecolor": "#A2B1C6"
            },
            "type": "carpet"
           }
          ],
          "table": [
           {
            "cells": {
             "fill": {
              "color": "#506784"
             },
             "line": {
              "color": "rgb(17,17,17)"
             }
            },
            "header": {
             "fill": {
              "color": "#2a3f5f"
             },
             "line": {
              "color": "rgb(17,17,17)"
             }
            },
            "type": "table"
           }
          ],
          "barpolar": [
           {
            "marker": {
             "line": {
              "color": "rgb(17,17,17)",
              "width": 0.5
             },
             "pattern": {
              "fillmode": "overlay",
              "size": 10,
              "solidity": 0.2
             }
            },
            "type": "barpolar"
           }
          ],
          "pie": [
           {
            "automargin": true,
            "type": "pie"
           }
          ]
         },
         "layout": {
          "autotypenumbers": "strict",
          "colorway": [
           "#636efa",
           "#EF553B",
           "#00cc96",
           "#ab63fa",
           "#FFA15A",
           "#19d3f3",
           "#FF6692",
           "#B6E880",
           "#FF97FF",
           "#FECB52"
          ],
          "font": {
           "color": "#f2f5fa"
          },
          "hovermode": "closest",
          "hoverlabel": {
           "align": "left"
          },
          "paper_bgcolor": "rgb(17,17,17)",
          "plot_bgcolor": "rgb(17,17,17)",
          "polar": {
           "bgcolor": "rgb(17,17,17)",
           "angularaxis": {
            "gridcolor": "#506784",
            "linecolor": "#506784",
            "ticks": ""
           },
           "radialaxis": {
            "gridcolor": "#506784",
            "linecolor": "#506784",
            "ticks": ""
           }
          },
          "ternary": {
           "bgcolor": "rgb(17,17,17)",
           "aaxis": {
            "gridcolor": "#506784",
            "linecolor": "#506784",
            "ticks": ""
           },
           "baxis": {
            "gridcolor": "#506784",
            "linecolor": "#506784",
            "ticks": ""
           },
           "caxis": {
            "gridcolor": "#506784",
            "linecolor": "#506784",
            "ticks": ""
           }
          },
          "coloraxis": {
           "colorbar": {
            "outlinewidth": 0,
            "ticks": ""
           }
          },
          "colorscale": {
           "sequential": [
            [
             0.0,
             "#0d0887"
            ],
            [
             0.1111111111111111,
             "#46039f"
            ],
            [
             0.2222222222222222,
             "#7201a8"
            ],
            [
             0.3333333333333333,
             "#9c179e"
            ],
            [
             0.4444444444444444,
             "#bd3786"
            ],
            [
             0.5555555555555556,
             "#d8576b"
            ],
            [
             0.6666666666666666,
             "#ed7953"
            ],
            [
             0.7777777777777778,
             "#fb9f3a"
            ],
            [
             0.8888888888888888,
             "#fdca26"
            ],
            [
             1.0,
             "#f0f921"
            ]
           ],
           "sequentialminus": [
            [
             0.0,
             "#0d0887"
            ],
            [
             0.1111111111111111,
             "#46039f"
            ],
            [
             0.2222222222222222,
             "#7201a8"
            ],
            [
             0.3333333333333333,
             "#9c179e"
            ],
            [
             0.4444444444444444,
             "#bd3786"
            ],
            [
             0.5555555555555556,
             "#d8576b"
            ],
            [
             0.6666666666666666,
             "#ed7953"
            ],
            [
             0.7777777777777778,
             "#fb9f3a"
            ],
            [
             0.8888888888888888,
             "#fdca26"
            ],
            [
             1.0,
             "#f0f921"
            ]
           ],
           "diverging": [
            [
             0,
             "#8e0152"
            ],
            [
             0.1,
             "#c51b7d"
            ],
            [
             0.2,
             "#de77ae"
            ],
            [
             0.3,
             "#f1b6da"
            ],
            [
             0.4,
             "#fde0ef"
            ],
            [
             0.5,
             "#f7f7f7"
            ],
            [
             0.6,
             "#e6f5d0"
            ],
            [
             0.7,
             "#b8e186"
            ],
            [
             0.8,
             "#7fbc41"
            ],
            [
             0.9,
             "#4d9221"
            ],
            [
             1,
             "#276419"
            ]
           ]
          },
          "xaxis": {
           "gridcolor": "#283442",
           "linecolor": "#506784",
           "ticks": "",
           "title": {
            "standoff": 15
           },
           "zerolinecolor": "#283442",
           "automargin": true,
           "zerolinewidth": 2
          },
          "yaxis": {
           "gridcolor": "#283442",
           "linecolor": "#506784",
           "ticks": "",
           "title": {
            "standoff": 15
           },
           "zerolinecolor": "#283442",
           "automargin": true,
           "zerolinewidth": 2
          },
          "scene": {
           "xaxis": {
            "backgroundcolor": "rgb(17,17,17)",
            "gridcolor": "#506784",
            "linecolor": "#506784",
            "showbackground": true,
            "ticks": "",
            "zerolinecolor": "#C8D4E3",
            "gridwidth": 2
           },
           "yaxis": {
            "backgroundcolor": "rgb(17,17,17)",
            "gridcolor": "#506784",
            "linecolor": "#506784",
            "showbackground": true,
            "ticks": "",
            "zerolinecolor": "#C8D4E3",
            "gridwidth": 2
           },
           "zaxis": {
            "backgroundcolor": "rgb(17,17,17)",
            "gridcolor": "#506784",
            "linecolor": "#506784",
            "showbackground": true,
            "ticks": "",
            "zerolinecolor": "#C8D4E3",
            "gridwidth": 2
           }
          },
          "shapedefaults": {
           "line": {
            "color": "#f2f5fa"
           }
          },
          "annotationdefaults": {
           "arrowcolor": "#f2f5fa",
           "arrowhead": 0,
           "arrowwidth": 1
          },
          "geo": {
           "bgcolor": "rgb(17,17,17)",
           "landcolor": "rgb(17,17,17)",
           "subunitcolor": "#506784",
           "showland": true,
           "showlakes": true,
           "lakecolor": "rgb(17,17,17)"
          },
          "title": {
           "x": 0.05
          },
          "updatemenudefaults": {
           "bgcolor": "#506784",
           "borderwidth": 0
          },
          "sliderdefaults": {
           "bgcolor": "#C8D4E3",
           "borderwidth": 1,
           "bordercolor": "rgb(17,17,17)",
           "tickwidth": 0
          },
          "mapbox": {
           "style": "dark"
          }
         }
        },
        "xaxis": {
         "anchor": "y",
         "domain": [
          0.0,
          1.0
         ],
         "title": {
          "text": "memory"
         }
        },
        "yaxis": {
         "anchor": "x",
         "domain": [
          0.0,
          1.0
         ],
         "title": {
          "text": "count"
         }
        },
        "legend": {
         "tracegroupgap": 0
        },
        "title": {
         "text": "memory distribution"
        },
        "barmode": "relative"
       },
       "config": {
        "plotlyServerURL": "https://plot.ly"
       }
      }
     },
     "metadata": {},
     "output_type": "display_data",
     "jetTransient": {
      "display_id": null
     }
    },
    {
     "data": {
      "application/vnd.plotly.v1+json": {
       "data": [
        {
         "bingroup": "x",
         "hovertemplate": "weight=%{x}<br>count=%{y}<extra></extra>",
         "legendgroup": "",
         "marker": {
          "color": "#636efa",
          "pattern": {
           "shape": ""
          }
         },
         "name": "",
         "orientation": "v",
         "showlegend": false,
         "x": {
          "dtype": "i2",
          "bdata": "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"
         },
         "xaxis": "x",
         "yaxis": "y",
         "type": "histogram"
        }
       ],
       "layout": {
        "template": {
         "data": {
          "histogram2dcontour": [
           {
            "type": "histogram2dcontour",
            "colorbar": {
             "outlinewidth": 0,
             "ticks": ""
            },
            "colorscale": [
             [
              0.0,
              "#0d0887"
             ],
             [
              0.1111111111111111,
              "#46039f"
             ],
             [
              0.2222222222222222,
              "#7201a8"
             ],
             [
              0.3333333333333333,
              "#9c179e"
             ],
             [
              0.4444444444444444,
              "#bd3786"
             ],
             [
              0.5555555555555556,
              "#d8576b"
             ],
             [
              0.6666666666666666,
              "#ed7953"
             ],
             [
              0.7777777777777778,
              "#fb9f3a"
             ],
             [
              0.8888888888888888,
              "#fdca26"
             ],
             [
              1.0,
              "#f0f921"
             ]
            ]
           }
          ],
          "choropleth": [
           {
            "type": "choropleth",
            "colorbar": {
             "outlinewidth": 0,
             "ticks": ""
            }
           }
          ],
          "histogram2d": [
           {
            "type": "histogram2d",
            "colorbar": {
             "outlinewidth": 0,
             "ticks": ""
            },
            "colorscale": [
             [
              0.0,
              "#0d0887"
             ],
             [
              0.1111111111111111,
              "#46039f"
             ],
             [
              0.2222222222222222,
              "#7201a8"
             ],
             [
              0.3333333333333333,
              "#9c179e"
             ],
             [
              0.4444444444444444,
              "#bd3786"
             ],
             [
              0.5555555555555556,
              "#d8576b"
             ],
             [
              0.6666666666666666,
              "#ed7953"
             ],
             [
              0.7777777777777778,
              "#fb9f3a"
             ],
             [
              0.8888888888888888,
              "#fdca26"
             ],
             [
              1.0,
              "#f0f921"
             ]
            ]
           }
          ],
          "heatmap": [
           {
            "type": "heatmap",
            "colorbar": {
             "outlinewidth": 0,
             "ticks": ""
            },
            "colorscale": [
             [
              0.0,
              "#0d0887"
             ],
             [
              0.1111111111111111,
              "#46039f"
             ],
             [
              0.2222222222222222,
              "#7201a8"
             ],
             [
              0.3333333333333333,
              "#9c179e"
             ],
             [
              0.4444444444444444,
              "#bd3786"
             ],
             [
              0.5555555555555556,
              "#d8576b"
             ],
             [
              0.6666666666666666,
              "#ed7953"
             ],
             [
              0.7777777777777778,
              "#fb9f3a"
             ],
             [
              0.8888888888888888,
              "#fdca26"
             ],
             [
              1.0,
              "#f0f921"
             ]
            ]
           }
          ],
          "contourcarpet": [
           {
            "type": "contourcarpet",
            "colorbar": {
             "outlinewidth": 0,
             "ticks": ""
            }
           }
          ],
          "contour": [
           {
            "type": "contour",
            "colorbar": {
             "outlinewidth": 0,
             "ticks": ""
            },
            "colorscale": [
             [
              0.0,
              "#0d0887"
             ],
             [
              0.1111111111111111,
              "#46039f"
             ],
             [
              0.2222222222222222,
              "#7201a8"
             ],
             [
              0.3333333333333333,
              "#9c179e"
             ],
             [
              0.4444444444444444,
              "#bd3786"
             ],
             [
              0.5555555555555556,
              "#d8576b"
             ],
             [
              0.6666666666666666,
              "#ed7953"
             ],
             [
              0.7777777777777778,
              "#fb9f3a"
             ],
             [
              0.8888888888888888,
              "#fdca26"
             ],
             [
              1.0,
              "#f0f921"
             ]
            ]
           }
          ],
          "surface": [
           {
            "type": "surface",
            "colorbar": {
             "outlinewidth": 0,
             "ticks": ""
            },
            "colorscale": [
             [
              0.0,
              "#0d0887"
             ],
             [
              0.1111111111111111,
              "#46039f"
             ],
             [
              0.2222222222222222,
              "#7201a8"
             ],
             [
              0.3333333333333333,
              "#9c179e"
             ],
             [
              0.4444444444444444,
              "#bd3786"
             ],
             [
              0.5555555555555556,
              "#d8576b"
             ],
             [
              0.6666666666666666,
              "#ed7953"
             ],
             [
              0.7777777777777778,
              "#fb9f3a"
             ],
             [
              0.8888888888888888,
              "#fdca26"
             ],
             [
              1.0,
              "#f0f921"
             ]
            ]
           }
          ],
          "mesh3d": [
           {
            "type": "mesh3d",
            "colorbar": {
             "outlinewidth": 0,
             "ticks": ""
            }
           }
          ],
          "scatter": [
           {
            "marker": {
             "line": {
              "color": "#283442"
             }
            },
            "type": "scatter"
           }
          ],
          "parcoords": [
           {
            "type": "parcoords",
            "line": {
             "colorbar": {
              "outlinewidth": 0,
              "ticks": ""
             }
            }
           }
          ],
          "scatterpolargl": [
           {
            "type": "scatterpolargl",
            "marker": {
             "colorbar": {
              "outlinewidth": 0,
              "ticks": ""
             }
            }
           }
          ],
          "bar": [
           {
            "error_x": {
             "color": "#f2f5fa"
            },
            "error_y": {
             "color": "#f2f5fa"
            },
            "marker": {
             "line": {
              "color": "rgb(17,17,17)",
              "width": 0.5
             },
             "pattern": {
              "fillmode": "overlay",
              "size": 10,
              "solidity": 0.2
             }
            },
            "type": "bar"
           }
          ],
          "scattergeo": [
           {
            "type": "scattergeo",
            "marker": {
             "colorbar": {
              "outlinewidth": 0,
              "ticks": ""
             }
            }
           }
          ],
          "scatterpolar": [
           {
            "type": "scatterpolar",
            "marker": {
             "colorbar": {
              "outlinewidth": 0,
              "ticks": ""
             }
            }
           }
          ],
          "histogram": [
           {
            "marker": {
             "pattern": {
              "fillmode": "overlay",
              "size": 10,
              "solidity": 0.2
             }
            },
            "type": "histogram"
           }
          ],
          "scattergl": [
           {
            "marker": {
             "line": {
              "color": "#283442"
             }
            },
            "type": "scattergl"
           }
          ],
          "scatter3d": [
           {
            "type": "scatter3d",
            "line": {
             "colorbar": {
              "outlinewidth": 0,
              "ticks": ""
             }
            },
            "marker": {
             "colorbar": {
              "outlinewidth": 0,
              "ticks": ""
             }
            }
           }
          ],
          "scattermap": [
           {
            "type": "scattermap",
            "marker": {
             "colorbar": {
              "outlinewidth": 0,
              "ticks": ""
             }
            }
           }
          ],
          "scattermapbox": [
           {
            "type": "scattermapbox",
            "marker": {
             "colorbar": {
              "outlinewidth": 0,
              "ticks": ""
             }
            }
           }
          ],
          "scatterternary": [
           {
            "type": "scatterternary",
            "marker": {
             "colorbar": {
              "outlinewidth": 0,
              "ticks": ""
             }
            }
           }
          ],
          "scattercarpet": [
           {
            "type": "scattercarpet",
            "marker": {
             "colorbar": {
              "outlinewidth": 0,
              "ticks": ""
             }
            }
           }
          ],
          "carpet": [
           {
            "aaxis": {
             "endlinecolor": "#A2B1C6",
             "gridcolor": "#506784",
             "linecolor": "#506784",
             "minorgridcolor": "#506784",
             "startlinecolor": "#A2B1C6"
            },
            "baxis": {
             "endlinecolor": "#A2B1C6",
             "gridcolor": "#506784",
             "linecolor": "#506784",
             "minorgridcolor": "#506784",
             "startlinecolor": "#A2B1C6"
            },
            "type": "carpet"
           }
          ],
          "table": [
           {
            "cells": {
             "fill": {
              "color": "#506784"
             },
             "line": {
              "color": "rgb(17,17,17)"
             }
            },
            "header": {
             "fill": {
              "color": "#2a3f5f"
             },
             "line": {
              "color": "rgb(17,17,17)"
             }
            },
            "type": "table"
           }
          ],
          "barpolar": [
           {
            "marker": {
             "line": {
              "color": "rgb(17,17,17)",
              "width": 0.5
             },
             "pattern": {
              "fillmode": "overlay",
              "size": 10,
              "solidity": 0.2
             }
            },
            "type": "barpolar"
           }
          ],
          "pie": [
           {
            "automargin": true,
            "type": "pie"
           }
          ]
         },
         "layout": {
          "autotypenumbers": "strict",
          "colorway": [
           "#636efa",
           "#EF553B",
           "#00cc96",
           "#ab63fa",
           "#FFA15A",
           "#19d3f3",
           "#FF6692",
           "#B6E880",
           "#FF97FF",
           "#FECB52"
          ],
          "font": {
           "color": "#f2f5fa"
          },
          "hovermode": "closest",
          "hoverlabel": {
           "align": "left"
          },
          "paper_bgcolor": "rgb(17,17,17)",
          "plot_bgcolor": "rgb(17,17,17)",
          "polar": {
           "bgcolor": "rgb(17,17,17)",
           "angularaxis": {
            "gridcolor": "#506784",
            "linecolor": "#506784",
            "ticks": ""
           },
           "radialaxis": {
            "gridcolor": "#506784",
            "linecolor": "#506784",
            "ticks": ""
           }
          },
          "ternary": {
           "bgcolor": "rgb(17,17,17)",
           "aaxis": {
            "gridcolor": "#506784",
            "linecolor": "#506784",
            "ticks": ""
           },
           "baxis": {
            "gridcolor": "#506784",
            "linecolor": "#506784",
            "ticks": ""
           },
           "caxis": {
            "gridcolor": "#506784",
            "linecolor": "#506784",
            "ticks": ""
           }
          },
          "coloraxis": {
           "colorbar": {
            "outlinewidth": 0,
            "ticks": ""
           }
          },
          "colorscale": {
           "sequential": [
            [
             0.0,
             "#0d0887"
            ],
            [
             0.1111111111111111,
             "#46039f"
            ],
            [
             0.2222222222222222,
             "#7201a8"
            ],
            [
             0.3333333333333333,
             "#9c179e"
            ],
            [
             0.4444444444444444,
             "#bd3786"
            ],
            [
             0.5555555555555556,
             "#d8576b"
            ],
            [
             0.6666666666666666,
             "#ed7953"
            ],
            [
             0.7777777777777778,
             "#fb9f3a"
            ],
            [
             0.8888888888888888,
             "#fdca26"
            ],
            [
             1.0,
             "#f0f921"
            ]
           ],
           "sequentialminus": [
            [
             0.0,
             "#0d0887"
            ],
            [
             0.1111111111111111,
             "#46039f"
            ],
            [
             0.2222222222222222,
             "#7201a8"
            ],
            [
             0.3333333333333333,
             "#9c179e"
            ],
            [
             0.4444444444444444,
             "#bd3786"
            ],
            [
             0.5555555555555556,
             "#d8576b"
            ],
            [
             0.6666666666666666,
             "#ed7953"
            ],
            [
             0.7777777777777778,
             "#fb9f3a"
            ],
            [
             0.8888888888888888,
             "#fdca26"
            ],
            [
             1.0,
             "#f0f921"
            ]
           ],
           "diverging": [
            [
             0,
             "#8e0152"
            ],
            [
             0.1,
             "#c51b7d"
            ],
            [
             0.2,
             "#de77ae"
            ],
            [
             0.3,
             "#f1b6da"
            ],
            [
             0.4,
             "#fde0ef"
            ],
            [
             0.5,
             "#f7f7f7"
            ],
            [
             0.6,
             "#e6f5d0"
            ],
            [
             0.7,
             "#b8e186"
            ],
            [
             0.8,
             "#7fbc41"
            ],
            [
             0.9,
             "#4d9221"
            ],
            [
             1,
             "#276419"
            ]
           ]
          },
          "xaxis": {
           "gridcolor": "#283442",
           "linecolor": "#506784",
           "ticks": "",
           "title": {
            "standoff": 15
           },
           "zerolinecolor": "#283442",
           "automargin": true,
           "zerolinewidth": 2
          },
          "yaxis": {
           "gridcolor": "#283442",
           "linecolor": "#506784",
           "ticks": "",
           "title": {
            "standoff": 15
           },
           "zerolinecolor": "#283442",
           "automargin": true,
           "zerolinewidth": 2
          },
          "scene": {
           "xaxis": {
            "backgroundcolor": "rgb(17,17,17)",
            "gridcolor": "#506784",
            "linecolor": "#506784",
            "showbackground": true,
            "ticks": "",
            "zerolinecolor": "#C8D4E3",
            "gridwidth": 2
           },
           "yaxis": {
            "backgroundcolor": "rgb(17,17,17)",
            "gridcolor": "#506784",
            "linecolor": "#506784",
            "showbackground": true,
            "ticks": "",
            "zerolinecolor": "#C8D4E3",
            "gridwidth": 2
           },
           "zaxis": {
            "backgroundcolor": "rgb(17,17,17)",
            "gridcolor": "#506784",
            "linecolor": "#506784",
            "showbackground": true,
            "ticks": "",
            "zerolinecolor": "#C8D4E3",
            "gridwidth": 2
           }
          },
          "shapedefaults": {
           "line": {
            "color": "#f2f5fa"
           }
          },
          "annotationdefaults": {
           "arrowcolor": "#f2f5fa",
           "arrowhead": 0,
           "arrowwidth": 1
          },
          "geo": {
           "bgcolor": "rgb(17,17,17)",
           "landcolor": "rgb(17,17,17)",
           "subunitcolor": "#506784",
           "showland": true,
           "showlakes": true,
           "lakecolor": "rgb(17,17,17)"
          },
          "title": {
           "x": 0.05
          },
          "updatemenudefaults": {
           "bgcolor": "#506784",
           "borderwidth": 0
          },
          "sliderdefaults": {
           "bgcolor": "#C8D4E3",
           "borderwidth": 1,
           "bordercolor": "rgb(17,17,17)",
           "tickwidth": 0
          },
          "mapbox": {
           "style": "dark"
          }
         }
        },
        "xaxis": {
         "anchor": "y",
         "domain": [
          0.0,
          1.0
         ],
         "title": {
          "text": "weight"
         }
        },
        "yaxis": {
         "anchor": "x",
         "domain": [
          0.0,
          1.0
         ],
         "title": {
          "text": "count"
         }
        },
        "legend": {
         "tracegroupgap": 0
        },
        "title": {
         "text": "weight distribution"
        },
        "barmode": "relative"
       },
       "config": {
        "plotlyServerURL": "https://plot.ly"
       }
      }
     },
     "metadata": {},
     "output_type": "display_data",
     "jetTransient": {
      "display_id": null
     }
    },
    {
     "data": {
      "application/vnd.plotly.v1+json": {
       "data": [
        {
         "bingroup": "x",
         "hovertemplate": "pixel_height=%{x}<br>count=%{y}<extra></extra>",
         "legendgroup": "",
         "marker": {
          "color": "#636efa",
          "pattern": {
           "shape": ""
          }
         },
         "name": "",
         "orientation": "v",
         "showlegend": false,
         "x": {
          "dtype": "i2",
          "bdata": "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"
         },
         "xaxis": "x",
         "yaxis": "y",
         "type": "histogram"
        }
       ],
       "layout": {
        "template": {
         "data": {
          "histogram2dcontour": [
           {
            "type": "histogram2dcontour",
            "colorbar": {
             "outlinewidth": 0,
             "ticks": ""
            },
            "colorscale": [
             [
              0.0,
              "#0d0887"
             ],
             [
              0.1111111111111111,
              "#46039f"
             ],
             [
              0.2222222222222222,
              "#7201a8"
             ],
             [
              0.3333333333333333,
              "#9c179e"
             ],
             [
              0.4444444444444444,
              "#bd3786"
             ],
             [
              0.5555555555555556,
              "#d8576b"
             ],
             [
              0.6666666666666666,
              "#ed7953"
             ],
             [
              0.7777777777777778,
              "#fb9f3a"
             ],
             [
              0.8888888888888888,
              "#fdca26"
             ],
             [
              1.0,
              "#f0f921"
             ]
            ]
           }
          ],
          "choropleth": [
           {
            "type": "choropleth",
            "colorbar": {
             "outlinewidth": 0,
             "ticks": ""
            }
           }
          ],
          "histogram2d": [
           {
            "type": "histogram2d",
            "colorbar": {
             "outlinewidth": 0,
             "ticks": ""
            },
            "colorscale": [
             [
              0.0,
              "#0d0887"
             ],
             [
              0.1111111111111111,
              "#46039f"
             ],
             [
              0.2222222222222222,
              "#7201a8"
             ],
             [
              0.3333333333333333,
              "#9c179e"
             ],
             [
              0.4444444444444444,
              "#bd3786"
             ],
             [
              0.5555555555555556,
              "#d8576b"
             ],
             [
              0.6666666666666666,
              "#ed7953"
             ],
             [
              0.7777777777777778,
              "#fb9f3a"
             ],
             [
              0.8888888888888888,
              "#fdca26"
             ],
             [
              1.0,
              "#f0f921"
             ]
            ]
           }
          ],
          "heatmap": [
           {
            "type": "heatmap",
            "colorbar": {
             "outlinewidth": 0,
             "ticks": ""
            },
            "colorscale": [
             [
              0.0,
              "#0d0887"
             ],
             [
              0.1111111111111111,
              "#46039f"
             ],
             [
              0.2222222222222222,
              "#7201a8"
             ],
             [
              0.3333333333333333,
              "#9c179e"
             ],
             [
              0.4444444444444444,
              "#bd3786"
             ],
             [
              0.5555555555555556,
              "#d8576b"
             ],
             [
              0.6666666666666666,
              "#ed7953"
             ],
             [
              0.7777777777777778,
              "#fb9f3a"
             ],
             [
              0.8888888888888888,
              "#fdca26"
             ],
             [
              1.0,
              "#f0f921"
             ]
            ]
           }
          ],
          "contourcarpet": [
           {
            "type": "contourcarpet",
            "colorbar": {
             "outlinewidth": 0,
             "ticks": ""
            }
           }
          ],
          "contour": [
           {
            "type": "contour",
            "colorbar": {
             "outlinewidth": 0,
             "ticks": ""
            },
            "colorscale": [
             [
              0.0,
              "#0d0887"
             ],
             [
              0.1111111111111111,
              "#46039f"
             ],
             [
              0.2222222222222222,
              "#7201a8"
             ],
             [
              0.3333333333333333,
              "#9c179e"
             ],
             [
              0.4444444444444444,
              "#bd3786"
             ],
             [
              0.5555555555555556,
              "#d8576b"
             ],
             [
              0.6666666666666666,
              "#ed7953"
             ],
             [
              0.7777777777777778,
              "#fb9f3a"
             ],
             [
              0.8888888888888888,
              "#fdca26"
             ],
             [
              1.0,
              "#f0f921"
             ]
            ]
           }
          ],
          "surface": [
           {
            "type": "surface",
            "colorbar": {
             "outlinewidth": 0,
             "ticks": ""
            },
            "colorscale": [
             [
              0.0,
              "#0d0887"
             ],
             [
              0.1111111111111111,
              "#46039f"
             ],
             [
              0.2222222222222222,
              "#7201a8"
             ],
             [
              0.3333333333333333,
              "#9c179e"
             ],
             [
              0.4444444444444444,
              "#bd3786"
             ],
             [
              0.5555555555555556,
              "#d8576b"
             ],
             [
              0.6666666666666666,
              "#ed7953"
             ],
             [
              0.7777777777777778,
              "#fb9f3a"
             ],
             [
              0.8888888888888888,
              "#fdca26"
             ],
             [
              1.0,
              "#f0f921"
             ]
            ]
           }
          ],
          "mesh3d": [
           {
            "type": "mesh3d",
            "colorbar": {
             "outlinewidth": 0,
             "ticks": ""
            }
           }
          ],
          "scatter": [
           {
            "marker": {
             "line": {
              "color": "#283442"
             }
            },
            "type": "scatter"
           }
          ],
          "parcoords": [
           {
            "type": "parcoords",
            "line": {
             "colorbar": {
              "outlinewidth": 0,
              "ticks": ""
             }
            }
           }
          ],
          "scatterpolargl": [
           {
            "type": "scatterpolargl",
            "marker": {
             "colorbar": {
              "outlinewidth": 0,
              "ticks": ""
             }
            }
           }
          ],
          "bar": [
           {
            "error_x": {
             "color": "#f2f5fa"
            },
            "error_y": {
             "color": "#f2f5fa"
            },
            "marker": {
             "line": {
              "color": "rgb(17,17,17)",
              "width": 0.5
             },
             "pattern": {
              "fillmode": "overlay",
              "size": 10,
              "solidity": 0.2
             }
            },
            "type": "bar"
           }
          ],
          "scattergeo": [
           {
            "type": "scattergeo",
            "marker": {
             "colorbar": {
              "outlinewidth": 0,
              "ticks": ""
             }
            }
           }
          ],
          "scatterpolar": [
           {
            "type": "scatterpolar",
            "marker": {
             "colorbar": {
              "outlinewidth": 0,
              "ticks": ""
             }
            }
           }
          ],
          "histogram": [
           {
            "marker": {
             "pattern": {
              "fillmode": "overlay",
              "size": 10,
              "solidity": 0.2
             }
            },
            "type": "histogram"
           }
          ],
          "scattergl": [
           {
            "marker": {
             "line": {
              "color": "#283442"
             }
            },
            "type": "scattergl"
           }
          ],
          "scatter3d": [
           {
            "type": "scatter3d",
            "line": {
             "colorbar": {
              "outlinewidth": 0,
              "ticks": ""
             }
            },
            "marker": {
             "colorbar": {
              "outlinewidth": 0,
              "ticks": ""
             }
            }
           }
          ],
          "scattermap": [
           {
            "type": "scattermap",
            "marker": {
             "colorbar": {
              "outlinewidth": 0,
              "ticks": ""
             }
            }
           }
          ],
          "scattermapbox": [
           {
            "type": "scattermapbox",
            "marker": {
             "colorbar": {
              "outlinewidth": 0,
              "ticks": ""
             }
            }
           }
          ],
          "scatterternary": [
           {
            "type": "scatterternary",
            "marker": {
             "colorbar": {
              "outlinewidth": 0,
              "ticks": ""
             }
            }
           }
          ],
          "scattercarpet": [
           {
            "type": "scattercarpet",
            "marker": {
             "colorbar": {
              "outlinewidth": 0,
              "ticks": ""
             }
            }
           }
          ],
          "carpet": [
           {
            "aaxis": {
             "endlinecolor": "#A2B1C6",
             "gridcolor": "#506784",
             "linecolor": "#506784",
             "minorgridcolor": "#506784",
             "startlinecolor": "#A2B1C6"
            },
            "baxis": {
             "endlinecolor": "#A2B1C6",
             "gridcolor": "#506784",
             "linecolor": "#506784",
             "minorgridcolor": "#506784",
             "startlinecolor": "#A2B1C6"
            },
            "type": "carpet"
           }
          ],
          "table": [
           {
            "cells": {
             "fill": {
              "color": "#506784"
             },
             "line": {
              "color": "rgb(17,17,17)"
             }
            },
            "header": {
             "fill": {
              "color": "#2a3f5f"
             },
             "line": {
              "color": "rgb(17,17,17)"
             }
            },
            "type": "table"
           }
          ],
          "barpolar": [
           {
            "marker": {
             "line": {
              "color": "rgb(17,17,17)",
              "width": 0.5
             },
             "pattern": {
              "fillmode": "overlay",
              "size": 10,
              "solidity": 0.2
             }
            },
            "type": "barpolar"
           }
          ],
          "pie": [
           {
            "automargin": true,
            "type": "pie"
           }
          ]
         },
         "layout": {
          "autotypenumbers": "strict",
          "colorway": [
           "#636efa",
           "#EF553B",
           "#00cc96",
           "#ab63fa",
           "#FFA15A",
           "#19d3f3",
           "#FF6692",
           "#B6E880",
           "#FF97FF",
           "#FECB52"
          ],
          "font": {
           "color": "#f2f5fa"
          },
          "hovermode": "closest",
          "hoverlabel": {
           "align": "left"
          },
          "paper_bgcolor": "rgb(17,17,17)",
          "plot_bgcolor": "rgb(17,17,17)",
          "polar": {
           "bgcolor": "rgb(17,17,17)",
           "angularaxis": {
            "gridcolor": "#506784",
            "linecolor": "#506784",
            "ticks": ""
           },
           "radialaxis": {
            "gridcolor": "#506784",
            "linecolor": "#506784",
            "ticks": ""
           }
          },
          "ternary": {
           "bgcolor": "rgb(17,17,17)",
           "aaxis": {
            "gridcolor": "#506784",
            "linecolor": "#506784",
            "ticks": ""
           },
           "baxis": {
            "gridcolor": "#506784",
            "linecolor": "#506784",
            "ticks": ""
           },
           "caxis": {
            "gridcolor": "#506784",
            "linecolor": "#506784",
            "ticks": ""
           }
          },
          "coloraxis": {
           "colorbar": {
            "outlinewidth": 0,
            "ticks": ""
           }
          },
          "colorscale": {
           "sequential": [
            [
             0.0,
             "#0d0887"
            ],
            [
             0.1111111111111111,
             "#46039f"
            ],
            [
             0.2222222222222222,
             "#7201a8"
            ],
            [
             0.3333333333333333,
             "#9c179e"
            ],
            [
             0.4444444444444444,
             "#bd3786"
            ],
            [
             0.5555555555555556,
             "#d8576b"
            ],
            [
             0.6666666666666666,
             "#ed7953"
            ],
            [
             0.7777777777777778,
             "#fb9f3a"
            ],
            [
             0.8888888888888888,
             "#fdca26"
            ],
            [
             1.0,
             "#f0f921"
            ]
           ],
           "sequentialminus": [
            [
             0.0,
             "#0d0887"
            ],
            [
             0.1111111111111111,
             "#46039f"
            ],
            [
             0.2222222222222222,
             "#7201a8"
            ],
            [
             0.3333333333333333,
             "#9c179e"
            ],
            [
             0.4444444444444444,
             "#bd3786"
            ],
            [
             0.5555555555555556,
             "#d8576b"
            ],
            [
             0.6666666666666666,
             "#ed7953"
            ],
            [
             0.7777777777777778,
             "#fb9f3a"
            ],
            [
             0.8888888888888888,
             "#fdca26"
            ],
            [
             1.0,
             "#f0f921"
            ]
           ],
           "diverging": [
            [
             0,
             "#8e0152"
            ],
            [
             0.1,
             "#c51b7d"
            ],
            [
             0.2,
             "#de77ae"
            ],
            [
             0.3,
             "#f1b6da"
            ],
            [
             0.4,
             "#fde0ef"
            ],
            [
             0.5,
             "#f7f7f7"
            ],
            [
             0.6,
             "#e6f5d0"
            ],
            [
             0.7,
             "#b8e186"
            ],
            [
             0.8,
             "#7fbc41"
            ],
            [
             0.9,
             "#4d9221"
            ],
            [
             1,
             "#276419"
            ]
           ]
          },
          "xaxis": {
           "gridcolor": "#283442",
           "linecolor": "#506784",
           "ticks": "",
           "title": {
            "standoff": 15
           },
           "zerolinecolor": "#283442",
           "automargin": true,
           "zerolinewidth": 2
          },
          "yaxis": {
           "gridcolor": "#283442",
           "linecolor": "#506784",
           "ticks": "",
           "title": {
            "standoff": 15
           },
           "zerolinecolor": "#283442",
           "automargin": true,
           "zerolinewidth": 2
          },
          "scene": {
           "xaxis": {
            "backgroundcolor": "rgb(17,17,17)",
            "gridcolor": "#506784",
            "linecolor": "#506784",
            "showbackground": true,
            "ticks": "",
            "zerolinecolor": "#C8D4E3",
            "gridwidth": 2
           },
           "yaxis": {
            "backgroundcolor": "rgb(17,17,17)",
            "gridcolor": "#506784",
            "linecolor": "#506784",
            "showbackground": true,
            "ticks": "",
            "zerolinecolor": "#C8D4E3",
            "gridwidth": 2
           },
           "zaxis": {
            "backgroundcolor": "rgb(17,17,17)",
            "gridcolor": "#506784",
            "linecolor": "#506784",
            "showbackground": true,
            "ticks": "",
            "zerolinecolor": "#C8D4E3",
            "gridwidth": 2
           }
          },
          "shapedefaults": {
           "line": {
            "color": "#f2f5fa"
           }
          },
          "annotationdefaults": {
           "arrowcolor": "#f2f5fa",
           "arrowhead": 0,
           "arrowwidth": 1
          },
          "geo": {
           "bgcolor": "rgb(17,17,17)",
           "landcolor": "rgb(17,17,17)",
           "subunitcolor": "#506784",
           "showland": true,
           "showlakes": true,
           "lakecolor": "rgb(17,17,17)"
          },
          "title": {
           "x": 0.05
          },
          "updatemenudefaults": {
           "bgcolor": "#506784",
           "borderwidth": 0
          },
          "sliderdefaults": {
           "bgcolor": "#C8D4E3",
           "borderwidth": 1,
           "bordercolor": "rgb(17,17,17)",
           "tickwidth": 0
          },
          "mapbox": {
           "style": "dark"
          }
         }
        },
        "xaxis": {
         "anchor": "y",
         "domain": [
          0.0,
          1.0
         ],
         "title": {
          "text": "pixel_height"
         }
        },
        "yaxis": {
         "anchor": "x",
         "domain": [
          0.0,
          1.0
         ],
         "title": {
          "text": "count"
         }
        },
        "legend": {
         "tracegroupgap": 0
        },
        "title": {
         "text": "pixel_height distribution"
        },
        "barmode": "relative"
       },
       "config": {
        "plotlyServerURL": "https://plot.ly"
       }
      }
     },
     "metadata": {},
     "output_type": "display_data",
     "jetTransient": {
      "display_id": null
     }
    },
    {
     "data": {
      "application/vnd.plotly.v1+json": {
       "data": [
        {
         "bingroup": "x",
         "hovertemplate": "pixel_width=%{x}<br>count=%{y}<extra></extra>",
         "legendgroup": "",
         "marker": {
          "color": "#636efa",
          "pattern": {
           "shape": ""
          }
         },
         "name": "",
         "orientation": "v",
         "showlegend": false,
         "x": {
          "dtype": "i2",
          "bdata": "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"
         },
         "xaxis": "x",
         "yaxis": "y",
         "type": "histogram"
        }
       ],
       "layout": {
        "template": {
         "data": {
          "histogram2dcontour": [
           {
            "type": "histogram2dcontour",
            "colorbar": {
             "outlinewidth": 0,
             "ticks": ""
            },
            "colorscale": [
             [
              0.0,
              "#0d0887"
             ],
             [
              0.1111111111111111,
              "#46039f"
             ],
             [
              0.2222222222222222,
              "#7201a8"
             ],
             [
              0.3333333333333333,
              "#9c179e"
             ],
             [
              0.4444444444444444,
              "#bd3786"
             ],
             [
              0.5555555555555556,
              "#d8576b"
             ],
             [
              0.6666666666666666,
              "#ed7953"
             ],
             [
              0.7777777777777778,
              "#fb9f3a"
             ],
             [
              0.8888888888888888,
              "#fdca26"
             ],
             [
              1.0,
              "#f0f921"
             ]
            ]
           }
          ],
          "choropleth": [
           {
            "type": "choropleth",
            "colorbar": {
             "outlinewidth": 0,
             "ticks": ""
            }
           }
          ],
          "histogram2d": [
           {
            "type": "histogram2d",
            "colorbar": {
             "outlinewidth": 0,
             "ticks": ""
            },
            "colorscale": [
             [
              0.0,
              "#0d0887"
             ],
             [
              0.1111111111111111,
              "#46039f"
             ],
             [
              0.2222222222222222,
              "#7201a8"
             ],
             [
              0.3333333333333333,
              "#9c179e"
             ],
             [
              0.4444444444444444,
              "#bd3786"
             ],
             [
              0.5555555555555556,
              "#d8576b"
             ],
             [
              0.6666666666666666,
              "#ed7953"
             ],
             [
              0.7777777777777778,
              "#fb9f3a"
             ],
             [
              0.8888888888888888,
              "#fdca26"
             ],
             [
              1.0,
              "#f0f921"
             ]
            ]
           }
          ],
          "heatmap": [
           {
            "type": "heatmap",
            "colorbar": {
             "outlinewidth": 0,
             "ticks": ""
            },
            "colorscale": [
             [
              0.0,
              "#0d0887"
             ],
             [
              0.1111111111111111,
              "#46039f"
             ],
             [
              0.2222222222222222,
              "#7201a8"
             ],
             [
              0.3333333333333333,
              "#9c179e"
             ],
             [
              0.4444444444444444,
              "#bd3786"
             ],
             [
              0.5555555555555556,
              "#d8576b"
             ],
             [
              0.6666666666666666,
              "#ed7953"
             ],
             [
              0.7777777777777778,
              "#fb9f3a"
             ],
             [
              0.8888888888888888,
              "#fdca26"
             ],
             [
              1.0,
              "#f0f921"
             ]
            ]
           }
          ],
          "contourcarpet": [
           {
            "type": "contourcarpet",
            "colorbar": {
             "outlinewidth": 0,
             "ticks": ""
            }
           }
          ],
          "contour": [
           {
            "type": "contour",
            "colorbar": {
             "outlinewidth": 0,
             "ticks": ""
            },
            "colorscale": [
             [
              0.0,
              "#0d0887"
             ],
             [
              0.1111111111111111,
              "#46039f"
             ],
             [
              0.2222222222222222,
              "#7201a8"
             ],
             [
              0.3333333333333333,
              "#9c179e"
             ],
             [
              0.4444444444444444,
              "#bd3786"
             ],
             [
              0.5555555555555556,
              "#d8576b"
             ],
             [
              0.6666666666666666,
              "#ed7953"
             ],
             [
              0.7777777777777778,
              "#fb9f3a"
             ],
             [
              0.8888888888888888,
              "#fdca26"
             ],
             [
              1.0,
              "#f0f921"
             ]
            ]
           }
          ],
          "surface": [
           {
            "type": "surface",
            "colorbar": {
             "outlinewidth": 0,
             "ticks": ""
            },
            "colorscale": [
             [
              0.0,
              "#0d0887"
             ],
             [
              0.1111111111111111,
              "#46039f"
             ],
             [
              0.2222222222222222,
              "#7201a8"
             ],
             [
              0.3333333333333333,
              "#9c179e"
             ],
             [
              0.4444444444444444,
              "#bd3786"
             ],
             [
              0.5555555555555556,
              "#d8576b"
             ],
             [
              0.6666666666666666,
              "#ed7953"
             ],
             [
              0.7777777777777778,
              "#fb9f3a"
             ],
             [
              0.8888888888888888,
              "#fdca26"
             ],
             [
              1.0,
              "#f0f921"
             ]
            ]
           }
          ],
          "mesh3d": [
           {
            "type": "mesh3d",
            "colorbar": {
             "outlinewidth": 0,
             "ticks": ""
            }
           }
          ],
          "scatter": [
           {
            "marker": {
             "line": {
              "color": "#283442"
             }
            },
            "type": "scatter"
           }
          ],
          "parcoords": [
           {
            "type": "parcoords",
            "line": {
             "colorbar": {
              "outlinewidth": 0,
              "ticks": ""
             }
            }
           }
          ],
          "scatterpolargl": [
           {
            "type": "scatterpolargl",
            "marker": {
             "colorbar": {
              "outlinewidth": 0,
              "ticks": ""
             }
            }
           }
          ],
          "bar": [
           {
            "error_x": {
             "color": "#f2f5fa"
            },
            "error_y": {
             "color": "#f2f5fa"
            },
            "marker": {
             "line": {
              "color": "rgb(17,17,17)",
              "width": 0.5
             },
             "pattern": {
              "fillmode": "overlay",
              "size": 10,
              "solidity": 0.2
             }
            },
            "type": "bar"
           }
          ],
          "scattergeo": [
           {
            "type": "scattergeo",
            "marker": {
             "colorbar": {
              "outlinewidth": 0,
              "ticks": ""
             }
            }
           }
          ],
          "scatterpolar": [
           {
            "type": "scatterpolar",
            "marker": {
             "colorbar": {
              "outlinewidth": 0,
              "ticks": ""
             }
            }
           }
          ],
          "histogram": [
           {
            "marker": {
             "pattern": {
              "fillmode": "overlay",
              "size": 10,
              "solidity": 0.2
             }
            },
            "type": "histogram"
           }
          ],
          "scattergl": [
           {
            "marker": {
             "line": {
              "color": "#283442"
             }
            },
            "type": "scattergl"
           }
          ],
          "scatter3d": [
           {
            "type": "scatter3d",
            "line": {
             "colorbar": {
              "outlinewidth": 0,
              "ticks": ""
             }
            },
            "marker": {
             "colorbar": {
              "outlinewidth": 0,
              "ticks": ""
             }
            }
           }
          ],
          "scattermap": [
           {
            "type": "scattermap",
            "marker": {
             "colorbar": {
              "outlinewidth": 0,
              "ticks": ""
             }
            }
           }
          ],
          "scattermapbox": [
           {
            "type": "scattermapbox",
            "marker": {
             "colorbar": {
              "outlinewidth": 0,
              "ticks": ""
             }
            }
           }
          ],
          "scatterternary": [
           {
            "type": "scatterternary",
            "marker": {
             "colorbar": {
              "outlinewidth": 0,
              "ticks": ""
             }
            }
           }
          ],
          "scattercarpet": [
           {
            "type": "scattercarpet",
            "marker": {
             "colorbar": {
              "outlinewidth": 0,
              "ticks": ""
             }
            }
           }
          ],
          "carpet": [
           {
            "aaxis": {
             "endlinecolor": "#A2B1C6",
             "gridcolor": "#506784",
             "linecolor": "#506784",
             "minorgridcolor": "#506784",
             "startlinecolor": "#A2B1C6"
            },
            "baxis": {
             "endlinecolor": "#A2B1C6",
             "gridcolor": "#506784",
             "linecolor": "#506784",
             "minorgridcolor": "#506784",
             "startlinecolor": "#A2B1C6"
            },
            "type": "carpet"
           }
          ],
          "table": [
           {
            "cells": {
             "fill": {
              "color": "#506784"
             },
             "line": {
              "color": "rgb(17,17,17)"
             }
            },
            "header": {
             "fill": {
              "color": "#2a3f5f"
             },
             "line": {
              "color": "rgb(17,17,17)"
             }
            },
            "type": "table"
           }
          ],
          "barpolar": [
           {
            "marker": {
             "line": {
              "color": "rgb(17,17,17)",
              "width": 0.5
             },
             "pattern": {
              "fillmode": "overlay",
              "size": 10,
              "solidity": 0.2
             }
            },
            "type": "barpolar"
           }
          ],
          "pie": [
           {
            "automargin": true,
            "type": "pie"
           }
          ]
         },
         "layout": {
          "autotypenumbers": "strict",
          "colorway": [
           "#636efa",
           "#EF553B",
           "#00cc96",
           "#ab63fa",
           "#FFA15A",
           "#19d3f3",
           "#FF6692",
           "#B6E880",
           "#FF97FF",
           "#FECB52"
          ],
          "font": {
           "color": "#f2f5fa"
          },
          "hovermode": "closest",
          "hoverlabel": {
           "align": "left"
          },
          "paper_bgcolor": "rgb(17,17,17)",
          "plot_bgcolor": "rgb(17,17,17)",
          "polar": {
           "bgcolor": "rgb(17,17,17)",
           "angularaxis": {
            "gridcolor": "#506784",
            "linecolor": "#506784",
            "ticks": ""
           },
           "radialaxis": {
            "gridcolor": "#506784",
            "linecolor": "#506784",
            "ticks": ""
           }
          },
          "ternary": {
           "bgcolor": "rgb(17,17,17)",
           "aaxis": {
            "gridcolor": "#506784",
            "linecolor": "#506784",
            "ticks": ""
           },
           "baxis": {
            "gridcolor": "#506784",
            "linecolor": "#506784",
            "ticks": ""
           },
           "caxis": {
            "gridcolor": "#506784",
            "linecolor": "#506784",
            "ticks": ""
           }
          },
          "coloraxis": {
           "colorbar": {
            "outlinewidth": 0,
            "ticks": ""
           }
          },
          "colorscale": {
           "sequential": [
            [
             0.0,
             "#0d0887"
            ],
            [
             0.1111111111111111,
             "#46039f"
            ],
            [
             0.2222222222222222,
             "#7201a8"
            ],
            [
             0.3333333333333333,
             "#9c179e"
            ],
            [
             0.4444444444444444,
             "#bd3786"
            ],
            [
             0.5555555555555556,
             "#d8576b"
            ],
            [
             0.6666666666666666,
             "#ed7953"
            ],
            [
             0.7777777777777778,
             "#fb9f3a"
            ],
            [
             0.8888888888888888,
             "#fdca26"
            ],
            [
             1.0,
             "#f0f921"
            ]
           ],
           "sequentialminus": [
            [
             0.0,
             "#0d0887"
            ],
            [
             0.1111111111111111,
             "#46039f"
            ],
            [
             0.2222222222222222,
             "#7201a8"
            ],
            [
             0.3333333333333333,
             "#9c179e"
            ],
            [
             0.4444444444444444,
             "#bd3786"
            ],
            [
             0.5555555555555556,
             "#d8576b"
            ],
            [
             0.6666666666666666,
             "#ed7953"
            ],
            [
             0.7777777777777778,
             "#fb9f3a"
            ],
            [
             0.8888888888888888,
             "#fdca26"
            ],
            [
             1.0,
             "#f0f921"
            ]
           ],
           "diverging": [
            [
             0,
             "#8e0152"
            ],
            [
             0.1,
             "#c51b7d"
            ],
            [
             0.2,
             "#de77ae"
            ],
            [
             0.3,
             "#f1b6da"
            ],
            [
             0.4,
             "#fde0ef"
            ],
            [
             0.5,
             "#f7f7f7"
            ],
            [
             0.6,
             "#e6f5d0"
            ],
            [
             0.7,
             "#b8e186"
            ],
            [
             0.8,
             "#7fbc41"
            ],
            [
             0.9,
             "#4d9221"
            ],
            [
             1,
             "#276419"
            ]
           ]
          },
          "xaxis": {
           "gridcolor": "#283442",
           "linecolor": "#506784",
           "ticks": "",
           "title": {
            "standoff": 15
           },
           "zerolinecolor": "#283442",
           "automargin": true,
           "zerolinewidth": 2
          },
          "yaxis": {
           "gridcolor": "#283442",
           "linecolor": "#506784",
           "ticks": "",
           "title": {
            "standoff": 15
           },
           "zerolinecolor": "#283442",
           "automargin": true,
           "zerolinewidth": 2
          },
          "scene": {
           "xaxis": {
            "backgroundcolor": "rgb(17,17,17)",
            "gridcolor": "#506784",
            "linecolor": "#506784",
            "showbackground": true,
            "ticks": "",
            "zerolinecolor": "#C8D4E3",
            "gridwidth": 2
           },
           "yaxis": {
            "backgroundcolor": "rgb(17,17,17)",
            "gridcolor": "#506784",
            "linecolor": "#506784",
            "showbackground": true,
            "ticks": "",
            "zerolinecolor": "#C8D4E3",
            "gridwidth": 2
           },
           "zaxis": {
            "backgroundcolor": "rgb(17,17,17)",
            "gridcolor": "#506784",
            "linecolor": "#506784",
            "showbackground": true,
            "ticks": "",
            "zerolinecolor": "#C8D4E3",
            "gridwidth": 2
           }
          },
          "shapedefaults": {
           "line": {
            "color": "#f2f5fa"
           }
          },
          "annotationdefaults": {
           "arrowcolor": "#f2f5fa",
           "arrowhead": 0,
           "arrowwidth": 1
          },
          "geo": {
           "bgcolor": "rgb(17,17,17)",
           "landcolor": "rgb(17,17,17)",
           "subunitcolor": "#506784",
           "showland": true,
           "showlakes": true,
           "lakecolor": "rgb(17,17,17)"
          },
          "title": {
           "x": 0.05
          },
          "updatemenudefaults": {
           "bgcolor": "#506784",
           "borderwidth": 0
          },
          "sliderdefaults": {
           "bgcolor": "#C8D4E3",
           "borderwidth": 1,
           "bordercolor": "rgb(17,17,17)",
           "tickwidth": 0
          },
          "mapbox": {
           "style": "dark"
          }
         }
        },
        "xaxis": {
         "anchor": "y",
         "domain": [
          0.0,
          1.0
         ],
         "title": {
          "text": "pixel_width"
         }
        },
        "yaxis": {
         "anchor": "x",
         "domain": [
          0.0,
          1.0
         ],
         "title": {
          "text": "count"
         }
        },
        "legend": {
         "tracegroupgap": 0
        },
        "title": {
         "text": "pixel_width distribution"
        },
        "barmode": "relative"
       },
       "config": {
        "plotlyServerURL": "https://plot.ly"
       }
      }
     },
     "metadata": {},
     "output_type": "display_data",
     "jetTransient": {
      "display_id": null
     }
    }
   ],
   "execution_count": 16
  },
  {
   "metadata": {
    "ExecuteTime": {
     "end_time": "2025-10-01T13:37:25.160134Z",
     "start_time": "2025-10-01T13:37:24.969682Z"
    }
   },
   "cell_type": "code",
   "source": [
    "# 4. Boxplots by price\n",
    "for feature in features:\n",
    "    fig = px.box(df, x='price_range', y=feature, title=f'{feature} by price')\n",
    "    fig.show()"
   ],
   "id": "5a535fe8ed4ed783",
   "outputs": [
    {
     "data": {
      "application/vnd.plotly.v1+json": {
       "data": [
        {
         "alignmentgroup": "True",
         "hovertemplate": "price_range=%{x}<br>battery_power=%{y}<extra></extra>",
         "legendgroup": "",
         "marker": {
          "color": "#636efa"
         },
         "name": "",
         "notched": false,
         "offsetgroup": "",
         "orientation": "v",
         "showlegend": false,
         "x": {
          "dtype": "i1",
          "bdata": "AQICAgEBAwAAAAMDAQIAAAMDAQEDAwEAAQIDAwIAAwABAwABAQMCAgIDAQEAAQMBAAMCAgMBAgIAAwECAQAAAgIDAwMAAwMCAAMAAQAAAwEDAgMBAQEAAwICAwIAAAEDAAIAAQMBAQAAAQMDAwMBAQACAwMCAQABAgMDAwIDAgEDAAMBAgECAgEDAAACAAMCAAMBAwICAQMBAgABAAADAQICAAACAwECAwEDAQICAwIAAwIBAAACAwMAAgMBAwECAwMCAgIDAQEAAQACAgICAQMDAgIAAgADAAEBAwAAAwIDAwMCAgMDAwABAgABAwEAAgIDAgMDAAEBAAICAQAAAgABAAMBAQAAAwEDAQIBAAADAQICAwEAAAMDAQECAQMDAQEDAwIDAAEDAQABAwAAAwABAQIAAgMCAwACAwEAAAEAAwMAAAACAQIBAQEBAQICAwACAgIBAgMAAQICAgIBAwACAgECAAADAQADAgAAAgMCAQMBAwADAgABAAMBAgICAgMDAQIDAwEDAwEDAwABAwIDAwICAwMAAgIAAwECAwIBAQEAAQICAAICAAMBAQMBAwEAAAMBAwAAAQMBAAACAgIBAQEDAAMCAQMBAAICAQAAAwMAAAEDAwEAAgIDAAMDAAMAAwEAAgIBAgADAgABAgMBAgMAAwEAAAECAgICAwMAAQECAQMDAwMBAwMDAwIDAgIAAAMBAgIAAgIBAAMBAQEBAQICAQMBAAEAAAICAgADAQIBAgAAAQMDAwMDAwACAgAAAwMDAAADAAABAgACAwEDAgACAgAAAQMAAQECAgACAgABAwACAgMBAwICAQICAQEAAQABAAMBAQMBAwIBAQACAAIAAgABAwECAgABAAMCAQMCAAABAgAAAAIDAQIBAAAAAgMCAwADAgECAQACAAABAwADAQEBAwICAAADAAMDAgMDAwACAQIAAwEAAQMBAwMBAAEBAgEDAwACAAMCAAACAQIDAwIBAgIDAQIDAwEBAgECAAIAAwAAAAMDAAICAwEDAAECAAAAAwIAAgIBAAIAAwMCAwADAgMCAgEAAwMBAAACAQIDAwMDAAAAAQACAAECAAADAwEDAwIDAwEBAwADAwMDAgIDAgEDAgMAAAMAAAMCAQACAQICAQICAAIAAgICAwAAAwMBAAEAAAMDAwACAgECAgIAAwEBAwMBAgMCAgADAwACAgADAwABAQABAgEDAQAAAwIAAQABAgEBAgIAAwIDAQIDAwICAgMAAAEAAwAAAgEBAQMAAQMDAwEDAgMBAQIDAAABAQEAAwIAAQMAAwEAAwMBAAAAAwMBAQEBAAADAgADAwIAAAACAwABAwECAAACAAIAAwMBAwMBAAAAAAEBAgICAQIAAAMAAQEAAwIAAQIDAgMBAQEBAwEBAgIBAgMBAgABAAMAAAAAAQMAAQEAAwMCAQABAgICAQEAAQICAgAAAQMBAwAAAQADAQAAAgMDAQMDAQMCAAICAwMDAwECAgECAAIDAgIBAAEBAAIAAgICAgECAgABAQIBAQMAAQMAAgACAgICAgAAAgECAAMBAwICAwIAAwMBAAADAgIAAwIAAwIAAQICAQACAAIBAgEBAwABAQIAAwECAgEDAgACAgIDAAADAgECAAACAwIAAAACAwACAgEBAQIBAAIBAwMAAAIDAQMBAAMDAAEDAQECAwADAAEBAwIAAAMBAwECAgMAAwEBAAMAAgACAgMCAAMBAAMDAQEAAwEDAQECAAEDAwMDAQMAAQEAAQMBAQIBAQEBAgICAwMCAQECAQIDAgADAwECAwIBAQIBAQAAAAACAQECAAIAAgIAAwEAAwABAwMAAAEBAwIDAAIBAAAAAAMAAAADAAICAAEBAgAAAQEAAgICAAEDAAACAgMBAQEBAgEBAwADAAEAAAAAAwIBAAIBAAABAgABAQIBAQECAQMDAAMCAAECAwMAAQEBAQMBAgACAwEDAQECAAECAwABAwAAAAAAAwECAgIBAQMAAQICAwEBAwABAAEDAwMDAQEAAQICAwEBAAMDAAICAQICAAIDAwMCAgMCAgEBAQIAAQADAgACAgICAQAAAAECAQADAgADAgABAgEAAAACAAMBAQIDAwIBAgECAwACAwEAAwEAAgECAQIDAgMCAwMDAwICAgMBAQEAAAMCAQADAwEAAwIBAgMCAgMBAQEBAAIBAAEAAwADAQEDAwEBAQMCAQMBAQIDAAEBAwIBAgIDAgEBAQMDAwADAgMBAwIBAgMDAAAAAgIAAgACAQMDAAECAAIAAgICAAIAAgACAQIDAQMAAAICAwMBAgEBAwAAAgEAAQIBAwABAwACAwMCAAMBAQACAgIAAwMAAwIDAAIAAgEDAwADAgACAQIDAQEDAAEBAwABAAECAAEDAwECAQAAAQABAAABAwMBAAIAAwECAgECAwMAAAECAgIBAgEAAgMAAAMAAwAAAwMAAwAAAAADAwIAAAAAAwACAwIDAwIDAQACAAABAQECAgAAAwABAgADAQAAAwABAAMDAAECAgIDAAEDAwEDAAEAAAIBAAIAAwEAAgECAQMAAgMBAQECAQMCAgICAwEAAAAAAgECAQABAwADAAMDAQIAAgEBAAIBAAICAQADAQMAAgEBAQECAgEDAQABAQADAAMDAAIDAAMBAQEBAQEBAQEBAQEBAQEBAQEBAQEBAQEBAQEBAQEBAQEBAQEBAQEBAQEBAQEBAQEBAQEBAQEBAQEBAQEBAQEBAQEBAQEBAQEBAQEBAQEBAQEBAQEBAQEBAQEBAQEBAQEBAQEBAQEBAQEBAQEBAQEBAQEBAQEBAQEBAQEBAQEBAQEBAQEBAQEBAQEBAQEBAQEBAQEBAQEBAQEBAQEBAQEBAQEBAQEBAQEBAQEBAQEBAQEBAQEBAQEBAQEBAQEBAQEBAQEBAQEBAQEBAQEBAQEBAQEBAQEBAQEBAQEBAQEBAQEBAQEBAQEBAQEBAQEBAQEBAQEBAQEBAQEBAQEBAQEBAQEBAQEBAQEBAQEBAQEBAQEBAQEBAQEBAQEBAQEBAQEBAQEBAQEBAQEBAQEBAQEBAQEBAQEBAQEBAQEBAQEBAQEBAQEBAQEBAQEBAQEBAQEBAQEBAQEBAQEBAQEBAQEBAQEBAQEBAQEBAQEBAQEBAQEBAQEBAQEBAQEBAQEBAQEBAQEBAQEBAQEBAQEBAQEBAQEBAQEBAQEBAQEBAQEBAQEBAQEBAQEBAQEBAQEBAQEBAQEBAQEBAQEBAQEBAQEBAQEBAQEBAQEBAQEBAQEBAQEBAQEBAQEBAQEBAQEBAQEBAQEBAQEBAQEBAQEBAQEBAQEBAQEBAQEBAQEBAQEBAQEBAQEBAQEBAQEBAQEBAQEBAQEBAQEBAQEBAQEBAQEBAQEBAQEBAQEBAQEBAQEBAQEBAQEBAQEBAQEBAQEBAQEBAQEBAQEBAQEBAQEBAQEBAQEBAQEBAQEBAQEBAQEBAQEBAQEBAQEBAQEBAQEBAQEBAQEBAQEBAQEBAQEBAQEBAQEBAQEBAQEBAQEBAQEBAQEBAQEBAQEBAQEBAQEBAQEBAQEBAQEBAQEBAQEBAQEBAQEBAQEBAQEBAQEBAQEBAQEBAQEBAQEBAQEBAQEBAQEBAQEBAQEBAQEBAQEBAQEBAQEBAQEBAQEBAQEBAQEBAQEBAQEBAQEBAQEBAQEBAQEBAQEBAQEBAQEBAQEBAQEBAQEBAQEBAQEBAQEBAQEBAQEBAQEBAQEBAQEBAQEBAQEBAQEBAQEBAQEBAQEBAQEBAQEBAQEBAQEBAQEBAQEBAQEBAQEBAQEBAQEBAQEBAQEBAQEBAQEBAQEBAQEBAQEBAQEBAQEBAQEBAQEBAQEBAQEBAQEBAQEBAQEBAQEBAQEBAQEBAQEBAQEBAQEBAQEBAQEBAQEBAQEBAQEBAQEBAQEBAQEBAQEBAQEBAQEBAQEBAQEBAQEBAQEBAQEBAQEBAQEBAQEBAQEBAQEBAQEBAQEBAQEBAQEBAQEBAQEBAQEBAQEBAQEBAQEBAQE="
         },
         "x0": " ",
         "xaxis": "x",
         "y": {
          "dtype": "i2",
          "bdata": "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"
         },
         "y0": " ",
         "yaxis": "y",
         "type": "box"
        }
       ],
       "layout": {
        "template": {
         "data": {
          "histogram2dcontour": [
           {
            "type": "histogram2dcontour",
            "colorbar": {
             "outlinewidth": 0,
             "ticks": ""
            },
            "colorscale": [
             [
              0.0,
              "#0d0887"
             ],
             [
              0.1111111111111111,
              "#46039f"
             ],
             [
              0.2222222222222222,
              "#7201a8"
             ],
             [
              0.3333333333333333,
              "#9c179e"
             ],
             [
              0.4444444444444444,
              "#bd3786"
             ],
             [
              0.5555555555555556,
              "#d8576b"
             ],
             [
              0.6666666666666666,
              "#ed7953"
             ],
             [
              0.7777777777777778,
              "#fb9f3a"
             ],
             [
              0.8888888888888888,
              "#fdca26"
             ],
             [
              1.0,
              "#f0f921"
             ]
            ]
           }
          ],
          "choropleth": [
           {
            "type": "choropleth",
            "colorbar": {
             "outlinewidth": 0,
             "ticks": ""
            }
           }
          ],
          "histogram2d": [
           {
            "type": "histogram2d",
            "colorbar": {
             "outlinewidth": 0,
             "ticks": ""
            },
            "colorscale": [
             [
              0.0,
              "#0d0887"
             ],
             [
              0.1111111111111111,
              "#46039f"
             ],
             [
              0.2222222222222222,
              "#7201a8"
             ],
             [
              0.3333333333333333,
              "#9c179e"
             ],
             [
              0.4444444444444444,
              "#bd3786"
             ],
             [
              0.5555555555555556,
              "#d8576b"
             ],
             [
              0.6666666666666666,
              "#ed7953"
             ],
             [
              0.7777777777777778,
              "#fb9f3a"
             ],
             [
              0.8888888888888888,
              "#fdca26"
             ],
             [
              1.0,
              "#f0f921"
             ]
            ]
           }
          ],
          "heatmap": [
           {
            "type": "heatmap",
            "colorbar": {
             "outlinewidth": 0,
             "ticks": ""
            },
            "colorscale": [
             [
              0.0,
              "#0d0887"
             ],
             [
              0.1111111111111111,
              "#46039f"
             ],
             [
              0.2222222222222222,
              "#7201a8"
             ],
             [
              0.3333333333333333,
              "#9c179e"
             ],
             [
              0.4444444444444444,
              "#bd3786"
             ],
             [
              0.5555555555555556,
              "#d8576b"
             ],
             [
              0.6666666666666666,
              "#ed7953"
             ],
             [
              0.7777777777777778,
              "#fb9f3a"
             ],
             [
              0.8888888888888888,
              "#fdca26"
             ],
             [
              1.0,
              "#f0f921"
             ]
            ]
           }
          ],
          "contourcarpet": [
           {
            "type": "contourcarpet",
            "colorbar": {
             "outlinewidth": 0,
             "ticks": ""
            }
           }
          ],
          "contour": [
           {
            "type": "contour",
            "colorbar": {
             "outlinewidth": 0,
             "ticks": ""
            },
            "colorscale": [
             [
              0.0,
              "#0d0887"
             ],
             [
              0.1111111111111111,
              "#46039f"
             ],
             [
              0.2222222222222222,
              "#7201a8"
             ],
             [
              0.3333333333333333,
              "#9c179e"
             ],
             [
              0.4444444444444444,
              "#bd3786"
             ],
             [
              0.5555555555555556,
              "#d8576b"
             ],
             [
              0.6666666666666666,
              "#ed7953"
             ],
             [
              0.7777777777777778,
              "#fb9f3a"
             ],
             [
              0.8888888888888888,
              "#fdca26"
             ],
             [
              1.0,
              "#f0f921"
             ]
            ]
           }
          ],
          "surface": [
           {
            "type": "surface",
            "colorbar": {
             "outlinewidth": 0,
             "ticks": ""
            },
            "colorscale": [
             [
              0.0,
              "#0d0887"
             ],
             [
              0.1111111111111111,
              "#46039f"
             ],
             [
              0.2222222222222222,
              "#7201a8"
             ],
             [
              0.3333333333333333,
              "#9c179e"
             ],
             [
              0.4444444444444444,
              "#bd3786"
             ],
             [
              0.5555555555555556,
              "#d8576b"
             ],
             [
              0.6666666666666666,
              "#ed7953"
             ],
             [
              0.7777777777777778,
              "#fb9f3a"
             ],
             [
              0.8888888888888888,
              "#fdca26"
             ],
             [
              1.0,
              "#f0f921"
             ]
            ]
           }
          ],
          "mesh3d": [
           {
            "type": "mesh3d",
            "colorbar": {
             "outlinewidth": 0,
             "ticks": ""
            }
           }
          ],
          "scatter": [
           {
            "marker": {
             "line": {
              "color": "#283442"
             }
            },
            "type": "scatter"
           }
          ],
          "parcoords": [
           {
            "type": "parcoords",
            "line": {
             "colorbar": {
              "outlinewidth": 0,
              "ticks": ""
             }
            }
           }
          ],
          "scatterpolargl": [
           {
            "type": "scatterpolargl",
            "marker": {
             "colorbar": {
              "outlinewidth": 0,
              "ticks": ""
             }
            }
           }
          ],
          "bar": [
           {
            "error_x": {
             "color": "#f2f5fa"
            },
            "error_y": {
             "color": "#f2f5fa"
            },
            "marker": {
             "line": {
              "color": "rgb(17,17,17)",
              "width": 0.5
             },
             "pattern": {
              "fillmode": "overlay",
              "size": 10,
              "solidity": 0.2
             }
            },
            "type": "bar"
           }
          ],
          "scattergeo": [
           {
            "type": "scattergeo",
            "marker": {
             "colorbar": {
              "outlinewidth": 0,
              "ticks": ""
             }
            }
           }
          ],
          "scatterpolar": [
           {
            "type": "scatterpolar",
            "marker": {
             "colorbar": {
              "outlinewidth": 0,
              "ticks": ""
             }
            }
           }
          ],
          "histogram": [
           {
            "marker": {
             "pattern": {
              "fillmode": "overlay",
              "size": 10,
              "solidity": 0.2
             }
            },
            "type": "histogram"
           }
          ],
          "scattergl": [
           {
            "marker": {
             "line": {
              "color": "#283442"
             }
            },
            "type": "scattergl"
           }
          ],
          "scatter3d": [
           {
            "type": "scatter3d",
            "line": {
             "colorbar": {
              "outlinewidth": 0,
              "ticks": ""
             }
            },
            "marker": {
             "colorbar": {
              "outlinewidth": 0,
              "ticks": ""
             }
            }
           }
          ],
          "scattermap": [
           {
            "type": "scattermap",
            "marker": {
             "colorbar": {
              "outlinewidth": 0,
              "ticks": ""
             }
            }
           }
          ],
          "scattermapbox": [
           {
            "type": "scattermapbox",
            "marker": {
             "colorbar": {
              "outlinewidth": 0,
              "ticks": ""
             }
            }
           }
          ],
          "scatterternary": [
           {
            "type": "scatterternary",
            "marker": {
             "colorbar": {
              "outlinewidth": 0,
              "ticks": ""
             }
            }
           }
          ],
          "scattercarpet": [
           {
            "type": "scattercarpet",
            "marker": {
             "colorbar": {
              "outlinewidth": 0,
              "ticks": ""
             }
            }
           }
          ],
          "carpet": [
           {
            "aaxis": {
             "endlinecolor": "#A2B1C6",
             "gridcolor": "#506784",
             "linecolor": "#506784",
             "minorgridcolor": "#506784",
             "startlinecolor": "#A2B1C6"
            },
            "baxis": {
             "endlinecolor": "#A2B1C6",
             "gridcolor": "#506784",
             "linecolor": "#506784",
             "minorgridcolor": "#506784",
             "startlinecolor": "#A2B1C6"
            },
            "type": "carpet"
           }
          ],
          "table": [
           {
            "cells": {
             "fill": {
              "color": "#506784"
             },
             "line": {
              "color": "rgb(17,17,17)"
             }
            },
            "header": {
             "fill": {
              "color": "#2a3f5f"
             },
             "line": {
              "color": "rgb(17,17,17)"
             }
            },
            "type": "table"
           }
          ],
          "barpolar": [
           {
            "marker": {
             "line": {
              "color": "rgb(17,17,17)",
              "width": 0.5
             },
             "pattern": {
              "fillmode": "overlay",
              "size": 10,
              "solidity": 0.2
             }
            },
            "type": "barpolar"
           }
          ],
          "pie": [
           {
            "automargin": true,
            "type": "pie"
           }
          ]
         },
         "layout": {
          "autotypenumbers": "strict",
          "colorway": [
           "#636efa",
           "#EF553B",
           "#00cc96",
           "#ab63fa",
           "#FFA15A",
           "#19d3f3",
           "#FF6692",
           "#B6E880",
           "#FF97FF",
           "#FECB52"
          ],
          "font": {
           "color": "#f2f5fa"
          },
          "hovermode": "closest",
          "hoverlabel": {
           "align": "left"
          },
          "paper_bgcolor": "rgb(17,17,17)",
          "plot_bgcolor": "rgb(17,17,17)",
          "polar": {
           "bgcolor": "rgb(17,17,17)",
           "angularaxis": {
            "gridcolor": "#506784",
            "linecolor": "#506784",
            "ticks": ""
           },
           "radialaxis": {
            "gridcolor": "#506784",
            "linecolor": "#506784",
            "ticks": ""
           }
          },
          "ternary": {
           "bgcolor": "rgb(17,17,17)",
           "aaxis": {
            "gridcolor": "#506784",
            "linecolor": "#506784",
            "ticks": ""
           },
           "baxis": {
            "gridcolor": "#506784",
            "linecolor": "#506784",
            "ticks": ""
           },
           "caxis": {
            "gridcolor": "#506784",
            "linecolor": "#506784",
            "ticks": ""
           }
          },
          "coloraxis": {
           "colorbar": {
            "outlinewidth": 0,
            "ticks": ""
           }
          },
          "colorscale": {
           "sequential": [
            [
             0.0,
             "#0d0887"
            ],
            [
             0.1111111111111111,
             "#46039f"
            ],
            [
             0.2222222222222222,
             "#7201a8"
            ],
            [
             0.3333333333333333,
             "#9c179e"
            ],
            [
             0.4444444444444444,
             "#bd3786"
            ],
            [
             0.5555555555555556,
             "#d8576b"
            ],
            [
             0.6666666666666666,
             "#ed7953"
            ],
            [
             0.7777777777777778,
             "#fb9f3a"
            ],
            [
             0.8888888888888888,
             "#fdca26"
            ],
            [
             1.0,
             "#f0f921"
            ]
           ],
           "sequentialminus": [
            [
             0.0,
             "#0d0887"
            ],
            [
             0.1111111111111111,
             "#46039f"
            ],
            [
             0.2222222222222222,
             "#7201a8"
            ],
            [
             0.3333333333333333,
             "#9c179e"
            ],
            [
             0.4444444444444444,
             "#bd3786"
            ],
            [
             0.5555555555555556,
             "#d8576b"
            ],
            [
             0.6666666666666666,
             "#ed7953"
            ],
            [
             0.7777777777777778,
             "#fb9f3a"
            ],
            [
             0.8888888888888888,
             "#fdca26"
            ],
            [
             1.0,
             "#f0f921"
            ]
           ],
           "diverging": [
            [
             0,
             "#8e0152"
            ],
            [
             0.1,
             "#c51b7d"
            ],
            [
             0.2,
             "#de77ae"
            ],
            [
             0.3,
             "#f1b6da"
            ],
            [
             0.4,
             "#fde0ef"
            ],
            [
             0.5,
             "#f7f7f7"
            ],
            [
             0.6,
             "#e6f5d0"
            ],
            [
             0.7,
             "#b8e186"
            ],
            [
             0.8,
             "#7fbc41"
            ],
            [
             0.9,
             "#4d9221"
            ],
            [
             1,
             "#276419"
            ]
           ]
          },
          "xaxis": {
           "gridcolor": "#283442",
           "linecolor": "#506784",
           "ticks": "",
           "title": {
            "standoff": 15
           },
           "zerolinecolor": "#283442",
           "automargin": true,
           "zerolinewidth": 2
          },
          "yaxis": {
           "gridcolor": "#283442",
           "linecolor": "#506784",
           "ticks": "",
           "title": {
            "standoff": 15
           },
           "zerolinecolor": "#283442",
           "automargin": true,
           "zerolinewidth": 2
          },
          "scene": {
           "xaxis": {
            "backgroundcolor": "rgb(17,17,17)",
            "gridcolor": "#506784",
            "linecolor": "#506784",
            "showbackground": true,
            "ticks": "",
            "zerolinecolor": "#C8D4E3",
            "gridwidth": 2
           },
           "yaxis": {
            "backgroundcolor": "rgb(17,17,17)",
            "gridcolor": "#506784",
            "linecolor": "#506784",
            "showbackground": true,
            "ticks": "",
            "zerolinecolor": "#C8D4E3",
            "gridwidth": 2
           },
           "zaxis": {
            "backgroundcolor": "rgb(17,17,17)",
            "gridcolor": "#506784",
            "linecolor": "#506784",
            "showbackground": true,
            "ticks": "",
            "zerolinecolor": "#C8D4E3",
            "gridwidth": 2
           }
          },
          "shapedefaults": {
           "line": {
            "color": "#f2f5fa"
           }
          },
          "annotationdefaults": {
           "arrowcolor": "#f2f5fa",
           "arrowhead": 0,
           "arrowwidth": 1
          },
          "geo": {
           "bgcolor": "rgb(17,17,17)",
           "landcolor": "rgb(17,17,17)",
           "subunitcolor": "#506784",
           "showland": true,
           "showlakes": true,
           "lakecolor": "rgb(17,17,17)"
          },
          "title": {
           "x": 0.05
          },
          "updatemenudefaults": {
           "bgcolor": "#506784",
           "borderwidth": 0
          },
          "sliderdefaults": {
           "bgcolor": "#C8D4E3",
           "borderwidth": 1,
           "bordercolor": "rgb(17,17,17)",
           "tickwidth": 0
          },
          "mapbox": {
           "style": "dark"
          }
         }
        },
        "xaxis": {
         "anchor": "y",
         "domain": [
          0.0,
          1.0
         ],
         "title": {
          "text": "price_range"
         }
        },
        "yaxis": {
         "anchor": "x",
         "domain": [
          0.0,
          1.0
         ],
         "title": {
          "text": "battery_power"
         }
        },
        "legend": {
         "tracegroupgap": 0
        },
        "title": {
         "text": "battery_power by price"
        },
        "boxmode": "group"
       },
       "config": {
        "plotlyServerURL": "https://plot.ly"
       }
      }
     },
     "metadata": {},
     "output_type": "display_data",
     "jetTransient": {
      "display_id": null
     }
    },
    {
     "data": {
      "application/vnd.plotly.v1+json": {
       "data": [
        {
         "alignmentgroup": "True",
         "hovertemplate": "price_range=%{x}<br>ram=%{y}<extra></extra>",
         "legendgroup": "",
         "marker": {
          "color": "#636efa"
         },
         "name": "",
         "notched": false,
         "offsetgroup": "",
         "orientation": "v",
         "showlegend": false,
         "x": {
          "dtype": "i1",
          "bdata": "AQICAgEBAwAAAAMDAQIAAAMDAQEDAwEAAQIDAwIAAwABAwABAQMCAgIDAQEAAQMBAAMCAgMBAgIAAwECAQAAAgIDAwMAAwMCAAMAAQAAAwEDAgMBAQEAAwICAwIAAAEDAAIAAQMBAQAAAQMDAwMBAQACAwMCAQABAgMDAwIDAgEDAAMBAgECAgEDAAACAAMCAAMBAwICAQMBAgABAAADAQICAAACAwECAwEDAQICAwIAAwIBAAACAwMAAgMBAwECAwMCAgIDAQEAAQACAgICAQMDAgIAAgADAAEBAwAAAwIDAwMCAgMDAwABAgABAwEAAgIDAgMDAAEBAAICAQAAAgABAAMBAQAAAwEDAQIBAAADAQICAwEAAAMDAQECAQMDAQEDAwIDAAEDAQABAwAAAwABAQIAAgMCAwACAwEAAAEAAwMAAAACAQIBAQEBAQICAwACAgIBAgMAAQICAgIBAwACAgECAAADAQADAgAAAgMCAQMBAwADAgABAAMBAgICAgMDAQIDAwEDAwEDAwABAwIDAwICAwMAAgIAAwECAwIBAQEAAQICAAICAAMBAQMBAwEAAAMBAwAAAQMBAAACAgIBAQEDAAMCAQMBAAICAQAAAwMAAAEDAwEAAgIDAAMDAAMAAwEAAgIBAgADAgABAgMBAgMAAwEAAAECAgICAwMAAQECAQMDAwMBAwMDAwIDAgIAAAMBAgIAAgIBAAMBAQEBAQICAQMBAAEAAAICAgADAQIBAgAAAQMDAwMDAwACAgAAAwMDAAADAAABAgACAwEDAgACAgAAAQMAAQECAgACAgABAwACAgMBAwICAQICAQEAAQABAAMBAQMBAwIBAQACAAIAAgABAwECAgABAAMCAQMCAAABAgAAAAIDAQIBAAAAAgMCAwADAgECAQACAAABAwADAQEBAwICAAADAAMDAgMDAwACAQIAAwEAAQMBAwMBAAEBAgEDAwACAAMCAAACAQIDAwIBAgIDAQIDAwEBAgECAAIAAwAAAAMDAAICAwEDAAECAAAAAwIAAgIBAAIAAwMCAwADAgMCAgEAAwMBAAACAQIDAwMDAAAAAQACAAECAAADAwEDAwIDAwEBAwADAwMDAgIDAgEDAgMAAAMAAAMCAQACAQICAQICAAIAAgICAwAAAwMBAAEAAAMDAwACAgECAgIAAwEBAwMBAgMCAgADAwACAgADAwABAQABAgEDAQAAAwIAAQABAgEBAgIAAwIDAQIDAwICAgMAAAEAAwAAAgEBAQMAAQMDAwEDAgMBAQIDAAABAQEAAwIAAQMAAwEAAwMBAAAAAwMBAQEBAAADAgADAwIAAAACAwABAwECAAACAAIAAwMBAwMBAAAAAAEBAgICAQIAAAMAAQEAAwIAAQIDAgMBAQEBAwEBAgIBAgMBAgABAAMAAAAAAQMAAQEAAwMCAQABAgICAQEAAQICAgAAAQMBAwAAAQADAQAAAgMDAQMDAQMCAAICAwMDAwECAgECAAIDAgIBAAEBAAIAAgICAgECAgABAQIBAQMAAQMAAgACAgICAgAAAgECAAMBAwICAwIAAwMBAAADAgIAAwIAAwIAAQICAQACAAIBAgEBAwABAQIAAwECAgEDAgACAgIDAAADAgECAAACAwIAAAACAwACAgEBAQIBAAIBAwMAAAIDAQMBAAMDAAEDAQECAwADAAEBAwIAAAMBAwECAgMAAwEBAAMAAgACAgMCAAMBAAMDAQEAAwEDAQECAAEDAwMDAQMAAQEAAQMBAQIBAQEBAgICAwMCAQECAQIDAgADAwECAwIBAQIBAQAAAAACAQECAAIAAgIAAwEAAwABAwMAAAEBAwIDAAIBAAAAAAMAAAADAAICAAEBAgAAAQEAAgICAAEDAAACAgMBAQEBAgEBAwADAAEAAAAAAwIBAAIBAAABAgABAQIBAQECAQMDAAMCAAECAwMAAQEBAQMBAgACAwEDAQECAAECAwABAwAAAAAAAwECAgIBAQMAAQICAwEBAwABAAEDAwMDAQEAAQICAwEBAAMDAAICAQICAAIDAwMCAgMCAgEBAQIAAQADAgACAgICAQAAAAECAQADAgADAgABAgEAAAACAAMBAQIDAwIBAgECAwACAwEAAwEAAgECAQIDAgMCAwMDAwICAgMBAQEAAAMCAQADAwEAAwIBAgMCAgMBAQEBAAIBAAEAAwADAQEDAwEBAQMCAQMBAQIDAAEBAwIBAgIDAgEBAQMDAwADAgMBAwIBAgMDAAAAAgIAAgACAQMDAAECAAIAAgICAAIAAgACAQIDAQMAAAICAwMBAgEBAwAAAgEAAQIBAwABAwACAwMCAAMBAQACAgIAAwMAAwIDAAIAAgEDAwADAgACAQIDAQEDAAEBAwABAAECAAEDAwECAQAAAQABAAABAwMBAAIAAwECAgECAwMAAAECAgIBAgEAAgMAAAMAAwAAAwMAAwAAAAADAwIAAAAAAwACAwIDAwIDAQACAAABAQECAgAAAwABAgADAQAAAwABAAMDAAECAgIDAAEDAwEDAAEAAAIBAAIAAwEAAgECAQMAAgMBAQECAQMCAgICAwEAAAAAAgECAQABAwADAAMDAQIAAgEBAAIBAAICAQADAQMAAgEBAQECAgEDAQABAQADAAMDAAIDAAMBAQEBAQEBAQEBAQEBAQEBAQEBAQEBAQEBAQEBAQEBAQEBAQEBAQEBAQEBAQEBAQEBAQEBAQEBAQEBAQEBAQEBAQEBAQEBAQEBAQEBAQEBAQEBAQEBAQEBAQEBAQEBAQEBAQEBAQEBAQEBAQEBAQEBAQEBAQEBAQEBAQEBAQEBAQEBAQEBAQEBAQEBAQEBAQEBAQEBAQEBAQEBAQEBAQEBAQEBAQEBAQEBAQEBAQEBAQEBAQEBAQEBAQEBAQEBAQEBAQEBAQEBAQEBAQEBAQEBAQEBAQEBAQEBAQEBAQEBAQEBAQEBAQEBAQEBAQEBAQEBAQEBAQEBAQEBAQEBAQEBAQEBAQEBAQEBAQEBAQEBAQEBAQEBAQEBAQEBAQEBAQEBAQEBAQEBAQEBAQEBAQEBAQEBAQEBAQEBAQEBAQEBAQEBAQEBAQEBAQEBAQEBAQEBAQEBAQEBAQEBAQEBAQEBAQEBAQEBAQEBAQEBAQEBAQEBAQEBAQEBAQEBAQEBAQEBAQEBAQEBAQEBAQEBAQEBAQEBAQEBAQEBAQEBAQEBAQEBAQEBAQEBAQEBAQEBAQEBAQEBAQEBAQEBAQEBAQEBAQEBAQEBAQEBAQEBAQEBAQEBAQEBAQEBAQEBAQEBAQEBAQEBAQEBAQEBAQEBAQEBAQEBAQEBAQEBAQEBAQEBAQEBAQEBAQEBAQEBAQEBAQEBAQEBAQEBAQEBAQEBAQEBAQEBAQEBAQEBAQEBAQEBAQEBAQEBAQEBAQEBAQEBAQEBAQEBAQEBAQEBAQEBAQEBAQEBAQEBAQEBAQEBAQEBAQEBAQEBAQEBAQEBAQEBAQEBAQEBAQEBAQEBAQEBAQEBAQEBAQEBAQEBAQEBAQEBAQEBAQEBAQEBAQEBAQEBAQEBAQEBAQEBAQEBAQEBAQEBAQEBAQEBAQEBAQEBAQEBAQEBAQEBAQEBAQEBAQEBAQEBAQEBAQEBAQEBAQEBAQEBAQEBAQEBAQEBAQEBAQEBAQEBAQEBAQEBAQEBAQEBAQEBAQEBAQEBAQEBAQEBAQEBAQEBAQEBAQEBAQEBAQEBAQEBAQEBAQEBAQEBAQEBAQEBAQEBAQEBAQEBAQEBAQEBAQEBAQEBAQEBAQEBAQEBAQEBAQEBAQEBAQEBAQEBAQEBAQEBAQEBAQEBAQEBAQEBAQEBAQEBAQEBAQEBAQEBAQEBAQEBAQEBAQEBAQEBAQEBAQEBAQEBAQEBAQEBAQEBAQEBAQEBAQEBAQEBAQEBAQEBAQEBAQEBAQEBAQEBAQEBAQEBAQEBAQEBAQEBAQEBAQEBAQEBAQEBAQEBAQEBAQEBAQEBAQEBAQEBAQEBAQEBAQEBAQEBAQEBAQE="
         },
         "x0": " ",
         "xaxis": "x",
         "y": {
          "dtype": "i2",
          "bdata": "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"
         },
         "y0": " ",
         "yaxis": "y",
         "type": "box"
        }
       ],
       "layout": {
        "template": {
         "data": {
          "histogram2dcontour": [
           {
            "type": "histogram2dcontour",
            "colorbar": {
             "outlinewidth": 0,
             "ticks": ""
            },
            "colorscale": [
             [
              0.0,
              "#0d0887"
             ],
             [
              0.1111111111111111,
              "#46039f"
             ],
             [
              0.2222222222222222,
              "#7201a8"
             ],
             [
              0.3333333333333333,
              "#9c179e"
             ],
             [
              0.4444444444444444,
              "#bd3786"
             ],
             [
              0.5555555555555556,
              "#d8576b"
             ],
             [
              0.6666666666666666,
              "#ed7953"
             ],
             [
              0.7777777777777778,
              "#fb9f3a"
             ],
             [
              0.8888888888888888,
              "#fdca26"
             ],
             [
              1.0,
              "#f0f921"
             ]
            ]
           }
          ],
          "choropleth": [
           {
            "type": "choropleth",
            "colorbar": {
             "outlinewidth": 0,
             "ticks": ""
            }
           }
          ],
          "histogram2d": [
           {
            "type": "histogram2d",
            "colorbar": {
             "outlinewidth": 0,
             "ticks": ""
            },
            "colorscale": [
             [
              0.0,
              "#0d0887"
             ],
             [
              0.1111111111111111,
              "#46039f"
             ],
             [
              0.2222222222222222,
              "#7201a8"
             ],
             [
              0.3333333333333333,
              "#9c179e"
             ],
             [
              0.4444444444444444,
              "#bd3786"
             ],
             [
              0.5555555555555556,
              "#d8576b"
             ],
             [
              0.6666666666666666,
              "#ed7953"
             ],
             [
              0.7777777777777778,
              "#fb9f3a"
             ],
             [
              0.8888888888888888,
              "#fdca26"
             ],
             [
              1.0,
              "#f0f921"
             ]
            ]
           }
          ],
          "heatmap": [
           {
            "type": "heatmap",
            "colorbar": {
             "outlinewidth": 0,
             "ticks": ""
            },
            "colorscale": [
             [
              0.0,
              "#0d0887"
             ],
             [
              0.1111111111111111,
              "#46039f"
             ],
             [
              0.2222222222222222,
              "#7201a8"
             ],
             [
              0.3333333333333333,
              "#9c179e"
             ],
             [
              0.4444444444444444,
              "#bd3786"
             ],
             [
              0.5555555555555556,
              "#d8576b"
             ],
             [
              0.6666666666666666,
              "#ed7953"
             ],
             [
              0.7777777777777778,
              "#fb9f3a"
             ],
             [
              0.8888888888888888,
              "#fdca26"
             ],
             [
              1.0,
              "#f0f921"
             ]
            ]
           }
          ],
          "contourcarpet": [
           {
            "type": "contourcarpet",
            "colorbar": {
             "outlinewidth": 0,
             "ticks": ""
            }
           }
          ],
          "contour": [
           {
            "type": "contour",
            "colorbar": {
             "outlinewidth": 0,
             "ticks": ""
            },
            "colorscale": [
             [
              0.0,
              "#0d0887"
             ],
             [
              0.1111111111111111,
              "#46039f"
             ],
             [
              0.2222222222222222,
              "#7201a8"
             ],
             [
              0.3333333333333333,
              "#9c179e"
             ],
             [
              0.4444444444444444,
              "#bd3786"
             ],
             [
              0.5555555555555556,
              "#d8576b"
             ],
             [
              0.6666666666666666,
              "#ed7953"
             ],
             [
              0.7777777777777778,
              "#fb9f3a"
             ],
             [
              0.8888888888888888,
              "#fdca26"
             ],
             [
              1.0,
              "#f0f921"
             ]
            ]
           }
          ],
          "surface": [
           {
            "type": "surface",
            "colorbar": {
             "outlinewidth": 0,
             "ticks": ""
            },
            "colorscale": [
             [
              0.0,
              "#0d0887"
             ],
             [
              0.1111111111111111,
              "#46039f"
             ],
             [
              0.2222222222222222,
              "#7201a8"
             ],
             [
              0.3333333333333333,
              "#9c179e"
             ],
             [
              0.4444444444444444,
              "#bd3786"
             ],
             [
              0.5555555555555556,
              "#d8576b"
             ],
             [
              0.6666666666666666,
              "#ed7953"
             ],
             [
              0.7777777777777778,
              "#fb9f3a"
             ],
             [
              0.8888888888888888,
              "#fdca26"
             ],
             [
              1.0,
              "#f0f921"
             ]
            ]
           }
          ],
          "mesh3d": [
           {
            "type": "mesh3d",
            "colorbar": {
             "outlinewidth": 0,
             "ticks": ""
            }
           }
          ],
          "scatter": [
           {
            "marker": {
             "line": {
              "color": "#283442"
             }
            },
            "type": "scatter"
           }
          ],
          "parcoords": [
           {
            "type": "parcoords",
            "line": {
             "colorbar": {
              "outlinewidth": 0,
              "ticks": ""
             }
            }
           }
          ],
          "scatterpolargl": [
           {
            "type": "scatterpolargl",
            "marker": {
             "colorbar": {
              "outlinewidth": 0,
              "ticks": ""
             }
            }
           }
          ],
          "bar": [
           {
            "error_x": {
             "color": "#f2f5fa"
            },
            "error_y": {
             "color": "#f2f5fa"
            },
            "marker": {
             "line": {
              "color": "rgb(17,17,17)",
              "width": 0.5
             },
             "pattern": {
              "fillmode": "overlay",
              "size": 10,
              "solidity": 0.2
             }
            },
            "type": "bar"
           }
          ],
          "scattergeo": [
           {
            "type": "scattergeo",
            "marker": {
             "colorbar": {
              "outlinewidth": 0,
              "ticks": ""
             }
            }
           }
          ],
          "scatterpolar": [
           {
            "type": "scatterpolar",
            "marker": {
             "colorbar": {
              "outlinewidth": 0,
              "ticks": ""
             }
            }
           }
          ],
          "histogram": [
           {
            "marker": {
             "pattern": {
              "fillmode": "overlay",
              "size": 10,
              "solidity": 0.2
             }
            },
            "type": "histogram"
           }
          ],
          "scattergl": [
           {
            "marker": {
             "line": {
              "color": "#283442"
             }
            },
            "type": "scattergl"
           }
          ],
          "scatter3d": [
           {
            "type": "scatter3d",
            "line": {
             "colorbar": {
              "outlinewidth": 0,
              "ticks": ""
             }
            },
            "marker": {
             "colorbar": {
              "outlinewidth": 0,
              "ticks": ""
             }
            }
           }
          ],
          "scattermap": [
           {
            "type": "scattermap",
            "marker": {
             "colorbar": {
              "outlinewidth": 0,
              "ticks": ""
             }
            }
           }
          ],
          "scattermapbox": [
           {
            "type": "scattermapbox",
            "marker": {
             "colorbar": {
              "outlinewidth": 0,
              "ticks": ""
             }
            }
           }
          ],
          "scatterternary": [
           {
            "type": "scatterternary",
            "marker": {
             "colorbar": {
              "outlinewidth": 0,
              "ticks": ""
             }
            }
           }
          ],
          "scattercarpet": [
           {
            "type": "scattercarpet",
            "marker": {
             "colorbar": {
              "outlinewidth": 0,
              "ticks": ""
             }
            }
           }
          ],
          "carpet": [
           {
            "aaxis": {
             "endlinecolor": "#A2B1C6",
             "gridcolor": "#506784",
             "linecolor": "#506784",
             "minorgridcolor": "#506784",
             "startlinecolor": "#A2B1C6"
            },
            "baxis": {
             "endlinecolor": "#A2B1C6",
             "gridcolor": "#506784",
             "linecolor": "#506784",
             "minorgridcolor": "#506784",
             "startlinecolor": "#A2B1C6"
            },
            "type": "carpet"
           }
          ],
          "table": [
           {
            "cells": {
             "fill": {
              "color": "#506784"
             },
             "line": {
              "color": "rgb(17,17,17)"
             }
            },
            "header": {
             "fill": {
              "color": "#2a3f5f"
             },
             "line": {
              "color": "rgb(17,17,17)"
             }
            },
            "type": "table"
           }
          ],
          "barpolar": [
           {
            "marker": {
             "line": {
              "color": "rgb(17,17,17)",
              "width": 0.5
             },
             "pattern": {
              "fillmode": "overlay",
              "size": 10,
              "solidity": 0.2
             }
            },
            "type": "barpolar"
           }
          ],
          "pie": [
           {
            "automargin": true,
            "type": "pie"
           }
          ]
         },
         "layout": {
          "autotypenumbers": "strict",
          "colorway": [
           "#636efa",
           "#EF553B",
           "#00cc96",
           "#ab63fa",
           "#FFA15A",
           "#19d3f3",
           "#FF6692",
           "#B6E880",
           "#FF97FF",
           "#FECB52"
          ],
          "font": {
           "color": "#f2f5fa"
          },
          "hovermode": "closest",
          "hoverlabel": {
           "align": "left"
          },
          "paper_bgcolor": "rgb(17,17,17)",
          "plot_bgcolor": "rgb(17,17,17)",
          "polar": {
           "bgcolor": "rgb(17,17,17)",
           "angularaxis": {
            "gridcolor": "#506784",
            "linecolor": "#506784",
            "ticks": ""
           },
           "radialaxis": {
            "gridcolor": "#506784",
            "linecolor": "#506784",
            "ticks": ""
           }
          },
          "ternary": {
           "bgcolor": "rgb(17,17,17)",
           "aaxis": {
            "gridcolor": "#506784",
            "linecolor": "#506784",
            "ticks": ""
           },
           "baxis": {
            "gridcolor": "#506784",
            "linecolor": "#506784",
            "ticks": ""
           },
           "caxis": {
            "gridcolor": "#506784",
            "linecolor": "#506784",
            "ticks": ""
           }
          },
          "coloraxis": {
           "colorbar": {
            "outlinewidth": 0,
            "ticks": ""
           }
          },
          "colorscale": {
           "sequential": [
            [
             0.0,
             "#0d0887"
            ],
            [
             0.1111111111111111,
             "#46039f"
            ],
            [
             0.2222222222222222,
             "#7201a8"
            ],
            [
             0.3333333333333333,
             "#9c179e"
            ],
            [
             0.4444444444444444,
             "#bd3786"
            ],
            [
             0.5555555555555556,
             "#d8576b"
            ],
            [
             0.6666666666666666,
             "#ed7953"
            ],
            [
             0.7777777777777778,
             "#fb9f3a"
            ],
            [
             0.8888888888888888,
             "#fdca26"
            ],
            [
             1.0,
             "#f0f921"
            ]
           ],
           "sequentialminus": [
            [
             0.0,
             "#0d0887"
            ],
            [
             0.1111111111111111,
             "#46039f"
            ],
            [
             0.2222222222222222,
             "#7201a8"
            ],
            [
             0.3333333333333333,
             "#9c179e"
            ],
            [
             0.4444444444444444,
             "#bd3786"
            ],
            [
             0.5555555555555556,
             "#d8576b"
            ],
            [
             0.6666666666666666,
             "#ed7953"
            ],
            [
             0.7777777777777778,
             "#fb9f3a"
            ],
            [
             0.8888888888888888,
             "#fdca26"
            ],
            [
             1.0,
             "#f0f921"
            ]
           ],
           "diverging": [
            [
             0,
             "#8e0152"
            ],
            [
             0.1,
             "#c51b7d"
            ],
            [
             0.2,
             "#de77ae"
            ],
            [
             0.3,
             "#f1b6da"
            ],
            [
             0.4,
             "#fde0ef"
            ],
            [
             0.5,
             "#f7f7f7"
            ],
            [
             0.6,
             "#e6f5d0"
            ],
            [
             0.7,
             "#b8e186"
            ],
            [
             0.8,
             "#7fbc41"
            ],
            [
             0.9,
             "#4d9221"
            ],
            [
             1,
             "#276419"
            ]
           ]
          },
          "xaxis": {
           "gridcolor": "#283442",
           "linecolor": "#506784",
           "ticks": "",
           "title": {
            "standoff": 15
           },
           "zerolinecolor": "#283442",
           "automargin": true,
           "zerolinewidth": 2
          },
          "yaxis": {
           "gridcolor": "#283442",
           "linecolor": "#506784",
           "ticks": "",
           "title": {
            "standoff": 15
           },
           "zerolinecolor": "#283442",
           "automargin": true,
           "zerolinewidth": 2
          },
          "scene": {
           "xaxis": {
            "backgroundcolor": "rgb(17,17,17)",
            "gridcolor": "#506784",
            "linecolor": "#506784",
            "showbackground": true,
            "ticks": "",
            "zerolinecolor": "#C8D4E3",
            "gridwidth": 2
           },
           "yaxis": {
            "backgroundcolor": "rgb(17,17,17)",
            "gridcolor": "#506784",
            "linecolor": "#506784",
            "showbackground": true,
            "ticks": "",
            "zerolinecolor": "#C8D4E3",
            "gridwidth": 2
           },
           "zaxis": {
            "backgroundcolor": "rgb(17,17,17)",
            "gridcolor": "#506784",
            "linecolor": "#506784",
            "showbackground": true,
            "ticks": "",
            "zerolinecolor": "#C8D4E3",
            "gridwidth": 2
           }
          },
          "shapedefaults": {
           "line": {
            "color": "#f2f5fa"
           }
          },
          "annotationdefaults": {
           "arrowcolor": "#f2f5fa",
           "arrowhead": 0,
           "arrowwidth": 1
          },
          "geo": {
           "bgcolor": "rgb(17,17,17)",
           "landcolor": "rgb(17,17,17)",
           "subunitcolor": "#506784",
           "showland": true,
           "showlakes": true,
           "lakecolor": "rgb(17,17,17)"
          },
          "title": {
           "x": 0.05
          },
          "updatemenudefaults": {
           "bgcolor": "#506784",
           "borderwidth": 0
          },
          "sliderdefaults": {
           "bgcolor": "#C8D4E3",
           "borderwidth": 1,
           "bordercolor": "rgb(17,17,17)",
           "tickwidth": 0
          },
          "mapbox": {
           "style": "dark"
          }
         }
        },
        "xaxis": {
         "anchor": "y",
         "domain": [
          0.0,
          1.0
         ],
         "title": {
          "text": "price_range"
         }
        },
        "yaxis": {
         "anchor": "x",
         "domain": [
          0.0,
          1.0
         ],
         "title": {
          "text": "ram"
         }
        },
        "legend": {
         "tracegroupgap": 0
        },
        "title": {
         "text": "ram by price"
        },
        "boxmode": "group"
       },
       "config": {
        "plotlyServerURL": "https://plot.ly"
       }
      }
     },
     "metadata": {},
     "output_type": "display_data",
     "jetTransient": {
      "display_id": null
     }
    },
    {
     "data": {
      "application/vnd.plotly.v1+json": {
       "data": [
        {
         "alignmentgroup": "True",
         "hovertemplate": "price_range=%{x}<br>memory=%{y}<extra></extra>",
         "legendgroup": "",
         "marker": {
          "color": "#636efa"
         },
         "name": "",
         "notched": false,
         "offsetgroup": "",
         "orientation": "v",
         "showlegend": false,
         "x": {
          "dtype": "i1",
          "bdata": "AQICAgEBAwAAAAMDAQIAAAMDAQEDAwEAAQIDAwIAAwABAwABAQMCAgIDAQEAAQMBAAMCAgMBAgIAAwECAQAAAgIDAwMAAwMCAAMAAQAAAwEDAgMBAQEAAwICAwIAAAEDAAIAAQMBAQAAAQMDAwMBAQACAwMCAQABAgMDAwIDAgEDAAMBAgECAgEDAAACAAMCAAMBAwICAQMBAgABAAADAQICAAACAwECAwEDAQICAwIAAwIBAAACAwMAAgMBAwECAwMCAgIDAQEAAQACAgICAQMDAgIAAgADAAEBAwAAAwIDAwMCAgMDAwABAgABAwEAAgIDAgMDAAEBAAICAQAAAgABAAMBAQAAAwEDAQIBAAADAQICAwEAAAMDAQECAQMDAQEDAwIDAAEDAQABAwAAAwABAQIAAgMCAwACAwEAAAEAAwMAAAACAQIBAQEBAQICAwACAgIBAgMAAQICAgIBAwACAgECAAADAQADAgAAAgMCAQMBAwADAgABAAMBAgICAgMDAQIDAwEDAwEDAwABAwIDAwICAwMAAgIAAwECAwIBAQEAAQICAAICAAMBAQMBAwEAAAMBAwAAAQMBAAACAgIBAQEDAAMCAQMBAAICAQAAAwMAAAEDAwEAAgIDAAMDAAMAAwEAAgIBAgADAgABAgMBAgMAAwEAAAECAgICAwMAAQECAQMDAwMBAwMDAwIDAgIAAAMBAgIAAgIBAAMBAQEBAQICAQMBAAEAAAICAgADAQIBAgAAAQMDAwMDAwACAgAAAwMDAAADAAABAgACAwEDAgACAgAAAQMAAQECAgACAgABAwACAgMBAwICAQICAQEAAQABAAMBAQMBAwIBAQACAAIAAgABAwECAgABAAMCAQMCAAABAgAAAAIDAQIBAAAAAgMCAwADAgECAQACAAABAwADAQEBAwICAAADAAMDAgMDAwACAQIAAwEAAQMBAwMBAAEBAgEDAwACAAMCAAACAQIDAwIBAgIDAQIDAwEBAgECAAIAAwAAAAMDAAICAwEDAAECAAAAAwIAAgIBAAIAAwMCAwADAgMCAgEAAwMBAAACAQIDAwMDAAAAAQACAAECAAADAwEDAwIDAwEBAwADAwMDAgIDAgEDAgMAAAMAAAMCAQACAQICAQICAAIAAgICAwAAAwMBAAEAAAMDAwACAgECAgIAAwEBAwMBAgMCAgADAwACAgADAwABAQABAgEDAQAAAwIAAQABAgEBAgIAAwIDAQIDAwICAgMAAAEAAwAAAgEBAQMAAQMDAwEDAgMBAQIDAAABAQEAAwIAAQMAAwEAAwMBAAAAAwMBAQEBAAADAgADAwIAAAACAwABAwECAAACAAIAAwMBAwMBAAAAAAEBAgICAQIAAAMAAQEAAwIAAQIDAgMBAQEBAwEBAgIBAgMBAgABAAMAAAAAAQMAAQEAAwMCAQABAgICAQEAAQICAgAAAQMBAwAAAQADAQAAAgMDAQMDAQMCAAICAwMDAwECAgECAAIDAgIBAAEBAAIAAgICAgECAgABAQIBAQMAAQMAAgACAgICAgAAAgECAAMBAwICAwIAAwMBAAADAgIAAwIAAwIAAQICAQACAAIBAgEBAwABAQIAAwECAgEDAgACAgIDAAADAgECAAACAwIAAAACAwACAgEBAQIBAAIBAwMAAAIDAQMBAAMDAAEDAQECAwADAAEBAwIAAAMBAwECAgMAAwEBAAMAAgACAgMCAAMBAAMDAQEAAwEDAQECAAEDAwMDAQMAAQEAAQMBAQIBAQEBAgICAwMCAQECAQIDAgADAwECAwIBAQIBAQAAAAACAQECAAIAAgIAAwEAAwABAwMAAAEBAwIDAAIBAAAAAAMAAAADAAICAAEBAgAAAQEAAgICAAEDAAACAgMBAQEBAgEBAwADAAEAAAAAAwIBAAIBAAABAgABAQIBAQECAQMDAAMCAAECAwMAAQEBAQMBAgACAwEDAQECAAECAwABAwAAAAAAAwECAgIBAQMAAQICAwEBAwABAAEDAwMDAQEAAQICAwEBAAMDAAICAQICAAIDAwMCAgMCAgEBAQIAAQADAgACAgICAQAAAAECAQADAgADAgABAgEAAAACAAMBAQIDAwIBAgECAwACAwEAAwEAAgECAQIDAgMCAwMDAwICAgMBAQEAAAMCAQADAwEAAwIBAgMCAgMBAQEBAAIBAAEAAwADAQEDAwEBAQMCAQMBAQIDAAEBAwIBAgIDAgEBAQMDAwADAgMBAwIBAgMDAAAAAgIAAgACAQMDAAECAAIAAgICAAIAAgACAQIDAQMAAAICAwMBAgEBAwAAAgEAAQIBAwABAwACAwMCAAMBAQACAgIAAwMAAwIDAAIAAgEDAwADAgACAQIDAQEDAAEBAwABAAECAAEDAwECAQAAAQABAAABAwMBAAIAAwECAgECAwMAAAECAgIBAgEAAgMAAAMAAwAAAwMAAwAAAAADAwIAAAAAAwACAwIDAwIDAQACAAABAQECAgAAAwABAgADAQAAAwABAAMDAAECAgIDAAEDAwEDAAEAAAIBAAIAAwEAAgECAQMAAgMBAQECAQMCAgICAwEAAAAAAgECAQABAwADAAMDAQIAAgEBAAIBAAICAQADAQMAAgEBAQECAgEDAQABAQADAAMDAAIDAAMBAQEBAQEBAQEBAQEBAQEBAQEBAQEBAQEBAQEBAQEBAQEBAQEBAQEBAQEBAQEBAQEBAQEBAQEBAQEBAQEBAQEBAQEBAQEBAQEBAQEBAQEBAQEBAQEBAQEBAQEBAQEBAQEBAQEBAQEBAQEBAQEBAQEBAQEBAQEBAQEBAQEBAQEBAQEBAQEBAQEBAQEBAQEBAQEBAQEBAQEBAQEBAQEBAQEBAQEBAQEBAQEBAQEBAQEBAQEBAQEBAQEBAQEBAQEBAQEBAQEBAQEBAQEBAQEBAQEBAQEBAQEBAQEBAQEBAQEBAQEBAQEBAQEBAQEBAQEBAQEBAQEBAQEBAQEBAQEBAQEBAQEBAQEBAQEBAQEBAQEBAQEBAQEBAQEBAQEBAQEBAQEBAQEBAQEBAQEBAQEBAQEBAQEBAQEBAQEBAQEBAQEBAQEBAQEBAQEBAQEBAQEBAQEBAQEBAQEBAQEBAQEBAQEBAQEBAQEBAQEBAQEBAQEBAQEBAQEBAQEBAQEBAQEBAQEBAQEBAQEBAQEBAQEBAQEBAQEBAQEBAQEBAQEBAQEBAQEBAQEBAQEBAQEBAQEBAQEBAQEBAQEBAQEBAQEBAQEBAQEBAQEBAQEBAQEBAQEBAQEBAQEBAQEBAQEBAQEBAQEBAQEBAQEBAQEBAQEBAQEBAQEBAQEBAQEBAQEBAQEBAQEBAQEBAQEBAQEBAQEBAQEBAQEBAQEBAQEBAQEBAQEBAQEBAQEBAQEBAQEBAQEBAQEBAQEBAQEBAQEBAQEBAQEBAQEBAQEBAQEBAQEBAQEBAQEBAQEBAQEBAQEBAQEBAQEBAQEBAQEBAQEBAQEBAQEBAQEBAQEBAQEBAQEBAQEBAQEBAQEBAQEBAQEBAQEBAQEBAQEBAQEBAQEBAQEBAQEBAQEBAQEBAQEBAQEBAQEBAQEBAQEBAQEBAQEBAQEBAQEBAQEBAQEBAQEBAQEBAQEBAQEBAQEBAQEBAQEBAQEBAQEBAQEBAQEBAQEBAQEBAQEBAQEBAQEBAQEBAQEBAQEBAQEBAQEBAQEBAQEBAQEBAQEBAQEBAQEBAQEBAQEBAQEBAQEBAQEBAQEBAQEBAQEBAQEBAQEBAQEBAQEBAQEBAQEBAQEBAQEBAQEBAQEBAQEBAQEBAQEBAQEBAQEBAQEBAQEBAQEBAQEBAQEBAQEBAQEBAQEBAQEBAQEBAQEBAQEBAQEBAQEBAQEBAQEBAQEBAQEBAQEBAQEBAQEBAQEBAQEBAQEBAQEBAQEBAQEBAQEBAQEBAQEBAQEBAQEBAQEBAQEBAQEBAQEBAQEBAQEBAQEBAQEBAQEBAQEBAQEBAQEBAQEBAQEBAQEBAQEBAQEBAQEBAQEBAQEBAQE="
         },
         "x0": " ",
         "xaxis": "x",
         "y": {
          "dtype": "i1",
          "bdata": "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"
         },
         "y0": " ",
         "yaxis": "y",
         "type": "box"
        }
       ],
       "layout": {
        "template": {
         "data": {
          "histogram2dcontour": [
           {
            "type": "histogram2dcontour",
            "colorbar": {
             "outlinewidth": 0,
             "ticks": ""
            },
            "colorscale": [
             [
              0.0,
              "#0d0887"
             ],
             [
              0.1111111111111111,
              "#46039f"
             ],
             [
              0.2222222222222222,
              "#7201a8"
             ],
             [
              0.3333333333333333,
              "#9c179e"
             ],
             [
              0.4444444444444444,
              "#bd3786"
             ],
             [
              0.5555555555555556,
              "#d8576b"
             ],
             [
              0.6666666666666666,
              "#ed7953"
             ],
             [
              0.7777777777777778,
              "#fb9f3a"
             ],
             [
              0.8888888888888888,
              "#fdca26"
             ],
             [
              1.0,
              "#f0f921"
             ]
            ]
           }
          ],
          "choropleth": [
           {
            "type": "choropleth",
            "colorbar": {
             "outlinewidth": 0,
             "ticks": ""
            }
           }
          ],
          "histogram2d": [
           {
            "type": "histogram2d",
            "colorbar": {
             "outlinewidth": 0,
             "ticks": ""
            },
            "colorscale": [
             [
              0.0,
              "#0d0887"
             ],
             [
              0.1111111111111111,
              "#46039f"
             ],
             [
              0.2222222222222222,
              "#7201a8"
             ],
             [
              0.3333333333333333,
              "#9c179e"
             ],
             [
              0.4444444444444444,
              "#bd3786"
             ],
             [
              0.5555555555555556,
              "#d8576b"
             ],
             [
              0.6666666666666666,
              "#ed7953"
             ],
             [
              0.7777777777777778,
              "#fb9f3a"
             ],
             [
              0.8888888888888888,
              "#fdca26"
             ],
             [
              1.0,
              "#f0f921"
             ]
            ]
           }
          ],
          "heatmap": [
           {
            "type": "heatmap",
            "colorbar": {
             "outlinewidth": 0,
             "ticks": ""
            },
            "colorscale": [
             [
              0.0,
              "#0d0887"
             ],
             [
              0.1111111111111111,
              "#46039f"
             ],
             [
              0.2222222222222222,
              "#7201a8"
             ],
             [
              0.3333333333333333,
              "#9c179e"
             ],
             [
              0.4444444444444444,
              "#bd3786"
             ],
             [
              0.5555555555555556,
              "#d8576b"
             ],
             [
              0.6666666666666666,
              "#ed7953"
             ],
             [
              0.7777777777777778,
              "#fb9f3a"
             ],
             [
              0.8888888888888888,
              "#fdca26"
             ],
             [
              1.0,
              "#f0f921"
             ]
            ]
           }
          ],
          "contourcarpet": [
           {
            "type": "contourcarpet",
            "colorbar": {
             "outlinewidth": 0,
             "ticks": ""
            }
           }
          ],
          "contour": [
           {
            "type": "contour",
            "colorbar": {
             "outlinewidth": 0,
             "ticks": ""
            },
            "colorscale": [
             [
              0.0,
              "#0d0887"
             ],
             [
              0.1111111111111111,
              "#46039f"
             ],
             [
              0.2222222222222222,
              "#7201a8"
             ],
             [
              0.3333333333333333,
              "#9c179e"
             ],
             [
              0.4444444444444444,
              "#bd3786"
             ],
             [
              0.5555555555555556,
              "#d8576b"
             ],
             [
              0.6666666666666666,
              "#ed7953"
             ],
             [
              0.7777777777777778,
              "#fb9f3a"
             ],
             [
              0.8888888888888888,
              "#fdca26"
             ],
             [
              1.0,
              "#f0f921"
             ]
            ]
           }
          ],
          "surface": [
           {
            "type": "surface",
            "colorbar": {
             "outlinewidth": 0,
             "ticks": ""
            },
            "colorscale": [
             [
              0.0,
              "#0d0887"
             ],
             [
              0.1111111111111111,
              "#46039f"
             ],
             [
              0.2222222222222222,
              "#7201a8"
             ],
             [
              0.3333333333333333,
              "#9c179e"
             ],
             [
              0.4444444444444444,
              "#bd3786"
             ],
             [
              0.5555555555555556,
              "#d8576b"
             ],
             [
              0.6666666666666666,
              "#ed7953"
             ],
             [
              0.7777777777777778,
              "#fb9f3a"
             ],
             [
              0.8888888888888888,
              "#fdca26"
             ],
             [
              1.0,
              "#f0f921"
             ]
            ]
           }
          ],
          "mesh3d": [
           {
            "type": "mesh3d",
            "colorbar": {
             "outlinewidth": 0,
             "ticks": ""
            }
           }
          ],
          "scatter": [
           {
            "marker": {
             "line": {
              "color": "#283442"
             }
            },
            "type": "scatter"
           }
          ],
          "parcoords": [
           {
            "type": "parcoords",
            "line": {
             "colorbar": {
              "outlinewidth": 0,
              "ticks": ""
             }
            }
           }
          ],
          "scatterpolargl": [
           {
            "type": "scatterpolargl",
            "marker": {
             "colorbar": {
              "outlinewidth": 0,
              "ticks": ""
             }
            }
           }
          ],
          "bar": [
           {
            "error_x": {
             "color": "#f2f5fa"
            },
            "error_y": {
             "color": "#f2f5fa"
            },
            "marker": {
             "line": {
              "color": "rgb(17,17,17)",
              "width": 0.5
             },
             "pattern": {
              "fillmode": "overlay",
              "size": 10,
              "solidity": 0.2
             }
            },
            "type": "bar"
           }
          ],
          "scattergeo": [
           {
            "type": "scattergeo",
            "marker": {
             "colorbar": {
              "outlinewidth": 0,
              "ticks": ""
             }
            }
           }
          ],
          "scatterpolar": [
           {
            "type": "scatterpolar",
            "marker": {
             "colorbar": {
              "outlinewidth": 0,
              "ticks": ""
             }
            }
           }
          ],
          "histogram": [
           {
            "marker": {
             "pattern": {
              "fillmode": "overlay",
              "size": 10,
              "solidity": 0.2
             }
            },
            "type": "histogram"
           }
          ],
          "scattergl": [
           {
            "marker": {
             "line": {
              "color": "#283442"
             }
            },
            "type": "scattergl"
           }
          ],
          "scatter3d": [
           {
            "type": "scatter3d",
            "line": {
             "colorbar": {
              "outlinewidth": 0,
              "ticks": ""
             }
            },
            "marker": {
             "colorbar": {
              "outlinewidth": 0,
              "ticks": ""
             }
            }
           }
          ],
          "scattermap": [
           {
            "type": "scattermap",
            "marker": {
             "colorbar": {
              "outlinewidth": 0,
              "ticks": ""
             }
            }
           }
          ],
          "scattermapbox": [
           {
            "type": "scattermapbox",
            "marker": {
             "colorbar": {
              "outlinewidth": 0,
              "ticks": ""
             }
            }
           }
          ],
          "scatterternary": [
           {
            "type": "scatterternary",
            "marker": {
             "colorbar": {
              "outlinewidth": 0,
              "ticks": ""
             }
            }
           }
          ],
          "scattercarpet": [
           {
            "type": "scattercarpet",
            "marker": {
             "colorbar": {
              "outlinewidth": 0,
              "ticks": ""
             }
            }
           }
          ],
          "carpet": [
           {
            "aaxis": {
             "endlinecolor": "#A2B1C6",
             "gridcolor": "#506784",
             "linecolor": "#506784",
             "minorgridcolor": "#506784",
             "startlinecolor": "#A2B1C6"
            },
            "baxis": {
             "endlinecolor": "#A2B1C6",
             "gridcolor": "#506784",
             "linecolor": "#506784",
             "minorgridcolor": "#506784",
             "startlinecolor": "#A2B1C6"
            },
            "type": "carpet"
           }
          ],
          "table": [
           {
            "cells": {
             "fill": {
              "color": "#506784"
             },
             "line": {
              "color": "rgb(17,17,17)"
             }
            },
            "header": {
             "fill": {
              "color": "#2a3f5f"
             },
             "line": {
              "color": "rgb(17,17,17)"
             }
            },
            "type": "table"
           }
          ],
          "barpolar": [
           {
            "marker": {
             "line": {
              "color": "rgb(17,17,17)",
              "width": 0.5
             },
             "pattern": {
              "fillmode": "overlay",
              "size": 10,
              "solidity": 0.2
             }
            },
            "type": "barpolar"
           }
          ],
          "pie": [
           {
            "automargin": true,
            "type": "pie"
           }
          ]
         },
         "layout": {
          "autotypenumbers": "strict",
          "colorway": [
           "#636efa",
           "#EF553B",
           "#00cc96",
           "#ab63fa",
           "#FFA15A",
           "#19d3f3",
           "#FF6692",
           "#B6E880",
           "#FF97FF",
           "#FECB52"
          ],
          "font": {
           "color": "#f2f5fa"
          },
          "hovermode": "closest",
          "hoverlabel": {
           "align": "left"
          },
          "paper_bgcolor": "rgb(17,17,17)",
          "plot_bgcolor": "rgb(17,17,17)",
          "polar": {
           "bgcolor": "rgb(17,17,17)",
           "angularaxis": {
            "gridcolor": "#506784",
            "linecolor": "#506784",
            "ticks": ""
           },
           "radialaxis": {
            "gridcolor": "#506784",
            "linecolor": "#506784",
            "ticks": ""
           }
          },
          "ternary": {
           "bgcolor": "rgb(17,17,17)",
           "aaxis": {
            "gridcolor": "#506784",
            "linecolor": "#506784",
            "ticks": ""
           },
           "baxis": {
            "gridcolor": "#506784",
            "linecolor": "#506784",
            "ticks": ""
           },
           "caxis": {
            "gridcolor": "#506784",
            "linecolor": "#506784",
            "ticks": ""
           }
          },
          "coloraxis": {
           "colorbar": {
            "outlinewidth": 0,
            "ticks": ""
           }
          },
          "colorscale": {
           "sequential": [
            [
             0.0,
             "#0d0887"
            ],
            [
             0.1111111111111111,
             "#46039f"
            ],
            [
             0.2222222222222222,
             "#7201a8"
            ],
            [
             0.3333333333333333,
             "#9c179e"
            ],
            [
             0.4444444444444444,
             "#bd3786"
            ],
            [
             0.5555555555555556,
             "#d8576b"
            ],
            [
             0.6666666666666666,
             "#ed7953"
            ],
            [
             0.7777777777777778,
             "#fb9f3a"
            ],
            [
             0.8888888888888888,
             "#fdca26"
            ],
            [
             1.0,
             "#f0f921"
            ]
           ],
           "sequentialminus": [
            [
             0.0,
             "#0d0887"
            ],
            [
             0.1111111111111111,
             "#46039f"
            ],
            [
             0.2222222222222222,
             "#7201a8"
            ],
            [
             0.3333333333333333,
             "#9c179e"
            ],
            [
             0.4444444444444444,
             "#bd3786"
            ],
            [
             0.5555555555555556,
             "#d8576b"
            ],
            [
             0.6666666666666666,
             "#ed7953"
            ],
            [
             0.7777777777777778,
             "#fb9f3a"
            ],
            [
             0.8888888888888888,
             "#fdca26"
            ],
            [
             1.0,
             "#f0f921"
            ]
           ],
           "diverging": [
            [
             0,
             "#8e0152"
            ],
            [
             0.1,
             "#c51b7d"
            ],
            [
             0.2,
             "#de77ae"
            ],
            [
             0.3,
             "#f1b6da"
            ],
            [
             0.4,
             "#fde0ef"
            ],
            [
             0.5,
             "#f7f7f7"
            ],
            [
             0.6,
             "#e6f5d0"
            ],
            [
             0.7,
             "#b8e186"
            ],
            [
             0.8,
             "#7fbc41"
            ],
            [
             0.9,
             "#4d9221"
            ],
            [
             1,
             "#276419"
            ]
           ]
          },
          "xaxis": {
           "gridcolor": "#283442",
           "linecolor": "#506784",
           "ticks": "",
           "title": {
            "standoff": 15
           },
           "zerolinecolor": "#283442",
           "automargin": true,
           "zerolinewidth": 2
          },
          "yaxis": {
           "gridcolor": "#283442",
           "linecolor": "#506784",
           "ticks": "",
           "title": {
            "standoff": 15
           },
           "zerolinecolor": "#283442",
           "automargin": true,
           "zerolinewidth": 2
          },
          "scene": {
           "xaxis": {
            "backgroundcolor": "rgb(17,17,17)",
            "gridcolor": "#506784",
            "linecolor": "#506784",
            "showbackground": true,
            "ticks": "",
            "zerolinecolor": "#C8D4E3",
            "gridwidth": 2
           },
           "yaxis": {
            "backgroundcolor": "rgb(17,17,17)",
            "gridcolor": "#506784",
            "linecolor": "#506784",
            "showbackground": true,
            "ticks": "",
            "zerolinecolor": "#C8D4E3",
            "gridwidth": 2
           },
           "zaxis": {
            "backgroundcolor": "rgb(17,17,17)",
            "gridcolor": "#506784",
            "linecolor": "#506784",
            "showbackground": true,
            "ticks": "",
            "zerolinecolor": "#C8D4E3",
            "gridwidth": 2
           }
          },
          "shapedefaults": {
           "line": {
            "color": "#f2f5fa"
           }
          },
          "annotationdefaults": {
           "arrowcolor": "#f2f5fa",
           "arrowhead": 0,
           "arrowwidth": 1
          },
          "geo": {
           "bgcolor": "rgb(17,17,17)",
           "landcolor": "rgb(17,17,17)",
           "subunitcolor": "#506784",
           "showland": true,
           "showlakes": true,
           "lakecolor": "rgb(17,17,17)"
          },
          "title": {
           "x": 0.05
          },
          "updatemenudefaults": {
           "bgcolor": "#506784",
           "borderwidth": 0
          },
          "sliderdefaults": {
           "bgcolor": "#C8D4E3",
           "borderwidth": 1,
           "bordercolor": "rgb(17,17,17)",
           "tickwidth": 0
          },
          "mapbox": {
           "style": "dark"
          }
         }
        },
        "xaxis": {
         "anchor": "y",
         "domain": [
          0.0,
          1.0
         ],
         "title": {
          "text": "price_range"
         }
        },
        "yaxis": {
         "anchor": "x",
         "domain": [
          0.0,
          1.0
         ],
         "title": {
          "text": "memory"
         }
        },
        "legend": {
         "tracegroupgap": 0
        },
        "title": {
         "text": "memory by price"
        },
        "boxmode": "group"
       },
       "config": {
        "plotlyServerURL": "https://plot.ly"
       }
      }
     },
     "metadata": {},
     "output_type": "display_data",
     "jetTransient": {
      "display_id": null
     }
    },
    {
     "data": {
      "application/vnd.plotly.v1+json": {
       "data": [
        {
         "alignmentgroup": "True",
         "hovertemplate": "price_range=%{x}<br>weight=%{y}<extra></extra>",
         "legendgroup": "",
         "marker": {
          "color": "#636efa"
         },
         "name": "",
         "notched": false,
         "offsetgroup": "",
         "orientation": "v",
         "showlegend": false,
         "x": {
          "dtype": "i1",
          "bdata": "AQICAgEBAwAAAAMDAQIAAAMDAQEDAwEAAQIDAwIAAwABAwABAQMCAgIDAQEAAQMBAAMCAgMBAgIAAwECAQAAAgIDAwMAAwMCAAMAAQAAAwEDAgMBAQEAAwICAwIAAAEDAAIAAQMBAQAAAQMDAwMBAQACAwMCAQABAgMDAwIDAgEDAAMBAgECAgEDAAACAAMCAAMBAwICAQMBAgABAAADAQICAAACAwECAwEDAQICAwIAAwIBAAACAwMAAgMBAwECAwMCAgIDAQEAAQACAgICAQMDAgIAAgADAAEBAwAAAwIDAwMCAgMDAwABAgABAwEAAgIDAgMDAAEBAAICAQAAAgABAAMBAQAAAwEDAQIBAAADAQICAwEAAAMDAQECAQMDAQEDAwIDAAEDAQABAwAAAwABAQIAAgMCAwACAwEAAAEAAwMAAAACAQIBAQEBAQICAwACAgIBAgMAAQICAgIBAwACAgECAAADAQADAgAAAgMCAQMBAwADAgABAAMBAgICAgMDAQIDAwEDAwEDAwABAwIDAwICAwMAAgIAAwECAwIBAQEAAQICAAICAAMBAQMBAwEAAAMBAwAAAQMBAAACAgIBAQEDAAMCAQMBAAICAQAAAwMAAAEDAwEAAgIDAAMDAAMAAwEAAgIBAgADAgABAgMBAgMAAwEAAAECAgICAwMAAQECAQMDAwMBAwMDAwIDAgIAAAMBAgIAAgIBAAMBAQEBAQICAQMBAAEAAAICAgADAQIBAgAAAQMDAwMDAwACAgAAAwMDAAADAAABAgACAwEDAgACAgAAAQMAAQECAgACAgABAwACAgMBAwICAQICAQEAAQABAAMBAQMBAwIBAQACAAIAAgABAwECAgABAAMCAQMCAAABAgAAAAIDAQIBAAAAAgMCAwADAgECAQACAAABAwADAQEBAwICAAADAAMDAgMDAwACAQIAAwEAAQMBAwMBAAEBAgEDAwACAAMCAAACAQIDAwIBAgIDAQIDAwEBAgECAAIAAwAAAAMDAAICAwEDAAECAAAAAwIAAgIBAAIAAwMCAwADAgMCAgEAAwMBAAACAQIDAwMDAAAAAQACAAECAAADAwEDAwIDAwEBAwADAwMDAgIDAgEDAgMAAAMAAAMCAQACAQICAQICAAIAAgICAwAAAwMBAAEAAAMDAwACAgECAgIAAwEBAwMBAgMCAgADAwACAgADAwABAQABAgEDAQAAAwIAAQABAgEBAgIAAwIDAQIDAwICAgMAAAEAAwAAAgEBAQMAAQMDAwEDAgMBAQIDAAABAQEAAwIAAQMAAwEAAwMBAAAAAwMBAQEBAAADAgADAwIAAAACAwABAwECAAACAAIAAwMBAwMBAAAAAAEBAgICAQIAAAMAAQEAAwIAAQIDAgMBAQEBAwEBAgIBAgMBAgABAAMAAAAAAQMAAQEAAwMCAQABAgICAQEAAQICAgAAAQMBAwAAAQADAQAAAgMDAQMDAQMCAAICAwMDAwECAgECAAIDAgIBAAEBAAIAAgICAgECAgABAQIBAQMAAQMAAgACAgICAgAAAgECAAMBAwICAwIAAwMBAAADAgIAAwIAAwIAAQICAQACAAIBAgEBAwABAQIAAwECAgEDAgACAgIDAAADAgECAAACAwIAAAACAwACAgEBAQIBAAIBAwMAAAIDAQMBAAMDAAEDAQECAwADAAEBAwIAAAMBAwECAgMAAwEBAAMAAgACAgMCAAMBAAMDAQEAAwEDAQECAAEDAwMDAQMAAQEAAQMBAQIBAQEBAgICAwMCAQECAQIDAgADAwECAwIBAQIBAQAAAAACAQECAAIAAgIAAwEAAwABAwMAAAEBAwIDAAIBAAAAAAMAAAADAAICAAEBAgAAAQEAAgICAAEDAAACAgMBAQEBAgEBAwADAAEAAAAAAwIBAAIBAAABAgABAQIBAQECAQMDAAMCAAECAwMAAQEBAQMBAgACAwEDAQECAAECAwABAwAAAAAAAwECAgIBAQMAAQICAwEBAwABAAEDAwMDAQEAAQICAwEBAAMDAAICAQICAAIDAwMCAgMCAgEBAQIAAQADAgACAgICAQAAAAECAQADAgADAgABAgEAAAACAAMBAQIDAwIBAgECAwACAwEAAwEAAgECAQIDAgMCAwMDAwICAgMBAQEAAAMCAQADAwEAAwIBAgMCAgMBAQEBAAIBAAEAAwADAQEDAwEBAQMCAQMBAQIDAAEBAwIBAgIDAgEBAQMDAwADAgMBAwIBAgMDAAAAAgIAAgACAQMDAAECAAIAAgICAAIAAgACAQIDAQMAAAICAwMBAgEBAwAAAgEAAQIBAwABAwACAwMCAAMBAQACAgIAAwMAAwIDAAIAAgEDAwADAgACAQIDAQEDAAEBAwABAAECAAEDAwECAQAAAQABAAABAwMBAAIAAwECAgECAwMAAAECAgIBAgEAAgMAAAMAAwAAAwMAAwAAAAADAwIAAAAAAwACAwIDAwIDAQACAAABAQECAgAAAwABAgADAQAAAwABAAMDAAECAgIDAAEDAwEDAAEAAAIBAAIAAwEAAgECAQMAAgMBAQECAQMCAgICAwEAAAAAAgECAQABAwADAAMDAQIAAgEBAAIBAAICAQADAQMAAgEBAQECAgEDAQABAQADAAMDAAIDAAMBAQEBAQEBAQEBAQEBAQEBAQEBAQEBAQEBAQEBAQEBAQEBAQEBAQEBAQEBAQEBAQEBAQEBAQEBAQEBAQEBAQEBAQEBAQEBAQEBAQEBAQEBAQEBAQEBAQEBAQEBAQEBAQEBAQEBAQEBAQEBAQEBAQEBAQEBAQEBAQEBAQEBAQEBAQEBAQEBAQEBAQEBAQEBAQEBAQEBAQEBAQEBAQEBAQEBAQEBAQEBAQEBAQEBAQEBAQEBAQEBAQEBAQEBAQEBAQEBAQEBAQEBAQEBAQEBAQEBAQEBAQEBAQEBAQEBAQEBAQEBAQEBAQEBAQEBAQEBAQEBAQEBAQEBAQEBAQEBAQEBAQEBAQEBAQEBAQEBAQEBAQEBAQEBAQEBAQEBAQEBAQEBAQEBAQEBAQEBAQEBAQEBAQEBAQEBAQEBAQEBAQEBAQEBAQEBAQEBAQEBAQEBAQEBAQEBAQEBAQEBAQEBAQEBAQEBAQEBAQEBAQEBAQEBAQEBAQEBAQEBAQEBAQEBAQEBAQEBAQEBAQEBAQEBAQEBAQEBAQEBAQEBAQEBAQEBAQEBAQEBAQEBAQEBAQEBAQEBAQEBAQEBAQEBAQEBAQEBAQEBAQEBAQEBAQEBAQEBAQEBAQEBAQEBAQEBAQEBAQEBAQEBAQEBAQEBAQEBAQEBAQEBAQEBAQEBAQEBAQEBAQEBAQEBAQEBAQEBAQEBAQEBAQEBAQEBAQEBAQEBAQEBAQEBAQEBAQEBAQEBAQEBAQEBAQEBAQEBAQEBAQEBAQEBAQEBAQEBAQEBAQEBAQEBAQEBAQEBAQEBAQEBAQEBAQEBAQEBAQEBAQEBAQEBAQEBAQEBAQEBAQEBAQEBAQEBAQEBAQEBAQEBAQEBAQEBAQEBAQEBAQEBAQEBAQEBAQEBAQEBAQEBAQEBAQEBAQEBAQEBAQEBAQEBAQEBAQEBAQEBAQEBAQEBAQEBAQEBAQEBAQEBAQEBAQEBAQEBAQEBAQEBAQEBAQEBAQEBAQEBAQEBAQEBAQEBAQEBAQEBAQEBAQEBAQEBAQEBAQEBAQEBAQEBAQEBAQEBAQEBAQEBAQEBAQEBAQEBAQEBAQEBAQEBAQEBAQEBAQEBAQEBAQEBAQEBAQEBAQEBAQEBAQEBAQEBAQEBAQEBAQEBAQEBAQEBAQEBAQEBAQEBAQEBAQEBAQEBAQEBAQEBAQEBAQEBAQEBAQEBAQEBAQEBAQEBAQEBAQEBAQEBAQEBAQEBAQEBAQEBAQEBAQEBAQEBAQEBAQEBAQEBAQEBAQEBAQEBAQEBAQEBAQEBAQEBAQEBAQEBAQEBAQEBAQEBAQEBAQEBAQEBAQEBAQEBAQEBAQEBAQEBAQEBAQEBAQEBAQE="
         },
         "x0": " ",
         "xaxis": "x",
         "y": {
          "dtype": "i2",
          "bdata": "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"
         },
         "y0": " ",
         "yaxis": "y",
         "type": "box"
        }
       ],
       "layout": {
        "template": {
         "data": {
          "histogram2dcontour": [
           {
            "type": "histogram2dcontour",
            "colorbar": {
             "outlinewidth": 0,
             "ticks": ""
            },
            "colorscale": [
             [
              0.0,
              "#0d0887"
             ],
             [
              0.1111111111111111,
              "#46039f"
             ],
             [
              0.2222222222222222,
              "#7201a8"
             ],
             [
              0.3333333333333333,
              "#9c179e"
             ],
             [
              0.4444444444444444,
              "#bd3786"
             ],
             [
              0.5555555555555556,
              "#d8576b"
             ],
             [
              0.6666666666666666,
              "#ed7953"
             ],
             [
              0.7777777777777778,
              "#fb9f3a"
             ],
             [
              0.8888888888888888,
              "#fdca26"
             ],
             [
              1.0,
              "#f0f921"
             ]
            ]
           }
          ],
          "choropleth": [
           {
            "type": "choropleth",
            "colorbar": {
             "outlinewidth": 0,
             "ticks": ""
            }
           }
          ],
          "histogram2d": [
           {
            "type": "histogram2d",
            "colorbar": {
             "outlinewidth": 0,
             "ticks": ""
            },
            "colorscale": [
             [
              0.0,
              "#0d0887"
             ],
             [
              0.1111111111111111,
              "#46039f"
             ],
             [
              0.2222222222222222,
              "#7201a8"
             ],
             [
              0.3333333333333333,
              "#9c179e"
             ],
             [
              0.4444444444444444,
              "#bd3786"
             ],
             [
              0.5555555555555556,
              "#d8576b"
             ],
             [
              0.6666666666666666,
              "#ed7953"
             ],
             [
              0.7777777777777778,
              "#fb9f3a"
             ],
             [
              0.8888888888888888,
              "#fdca26"
             ],
             [
              1.0,
              "#f0f921"
             ]
            ]
           }
          ],
          "heatmap": [
           {
            "type": "heatmap",
            "colorbar": {
             "outlinewidth": 0,
             "ticks": ""
            },
            "colorscale": [
             [
              0.0,
              "#0d0887"
             ],
             [
              0.1111111111111111,
              "#46039f"
             ],
             [
              0.2222222222222222,
              "#7201a8"
             ],
             [
              0.3333333333333333,
              "#9c179e"
             ],
             [
              0.4444444444444444,
              "#bd3786"
             ],
             [
              0.5555555555555556,
              "#d8576b"
             ],
             [
              0.6666666666666666,
              "#ed7953"
             ],
             [
              0.7777777777777778,
              "#fb9f3a"
             ],
             [
              0.8888888888888888,
              "#fdca26"
             ],
             [
              1.0,
              "#f0f921"
             ]
            ]
           }
          ],
          "contourcarpet": [
           {
            "type": "contourcarpet",
            "colorbar": {
             "outlinewidth": 0,
             "ticks": ""
            }
           }
          ],
          "contour": [
           {
            "type": "contour",
            "colorbar": {
             "outlinewidth": 0,
             "ticks": ""
            },
            "colorscale": [
             [
              0.0,
              "#0d0887"
             ],
             [
              0.1111111111111111,
              "#46039f"
             ],
             [
              0.2222222222222222,
              "#7201a8"
             ],
             [
              0.3333333333333333,
              "#9c179e"
             ],
             [
              0.4444444444444444,
              "#bd3786"
             ],
             [
              0.5555555555555556,
              "#d8576b"
             ],
             [
              0.6666666666666666,
              "#ed7953"
             ],
             [
              0.7777777777777778,
              "#fb9f3a"
             ],
             [
              0.8888888888888888,
              "#fdca26"
             ],
             [
              1.0,
              "#f0f921"
             ]
            ]
           }
          ],
          "surface": [
           {
            "type": "surface",
            "colorbar": {
             "outlinewidth": 0,
             "ticks": ""
            },
            "colorscale": [
             [
              0.0,
              "#0d0887"
             ],
             [
              0.1111111111111111,
              "#46039f"
             ],
             [
              0.2222222222222222,
              "#7201a8"
             ],
             [
              0.3333333333333333,
              "#9c179e"
             ],
             [
              0.4444444444444444,
              "#bd3786"
             ],
             [
              0.5555555555555556,
              "#d8576b"
             ],
             [
              0.6666666666666666,
              "#ed7953"
             ],
             [
              0.7777777777777778,
              "#fb9f3a"
             ],
             [
              0.8888888888888888,
              "#fdca26"
             ],
             [
              1.0,
              "#f0f921"
             ]
            ]
           }
          ],
          "mesh3d": [
           {
            "type": "mesh3d",
            "colorbar": {
             "outlinewidth": 0,
             "ticks": ""
            }
           }
          ],
          "scatter": [
           {
            "marker": {
             "line": {
              "color": "#283442"
             }
            },
            "type": "scatter"
           }
          ],
          "parcoords": [
           {
            "type": "parcoords",
            "line": {
             "colorbar": {
              "outlinewidth": 0,
              "ticks": ""
             }
            }
           }
          ],
          "scatterpolargl": [
           {
            "type": "scatterpolargl",
            "marker": {
             "colorbar": {
              "outlinewidth": 0,
              "ticks": ""
             }
            }
           }
          ],
          "bar": [
           {
            "error_x": {
             "color": "#f2f5fa"
            },
            "error_y": {
             "color": "#f2f5fa"
            },
            "marker": {
             "line": {
              "color": "rgb(17,17,17)",
              "width": 0.5
             },
             "pattern": {
              "fillmode": "overlay",
              "size": 10,
              "solidity": 0.2
             }
            },
            "type": "bar"
           }
          ],
          "scattergeo": [
           {
            "type": "scattergeo",
            "marker": {
             "colorbar": {
              "outlinewidth": 0,
              "ticks": ""
             }
            }
           }
          ],
          "scatterpolar": [
           {
            "type": "scatterpolar",
            "marker": {
             "colorbar": {
              "outlinewidth": 0,
              "ticks": ""
             }
            }
           }
          ],
          "histogram": [
           {
            "marker": {
             "pattern": {
              "fillmode": "overlay",
              "size": 10,
              "solidity": 0.2
             }
            },
            "type": "histogram"
           }
          ],
          "scattergl": [
           {
            "marker": {
             "line": {
              "color": "#283442"
             }
            },
            "type": "scattergl"
           }
          ],
          "scatter3d": [
           {
            "type": "scatter3d",
            "line": {
             "colorbar": {
              "outlinewidth": 0,
              "ticks": ""
             }
            },
            "marker": {
             "colorbar": {
              "outlinewidth": 0,
              "ticks": ""
             }
            }
           }
          ],
          "scattermap": [
           {
            "type": "scattermap",
            "marker": {
             "colorbar": {
              "outlinewidth": 0,
              "ticks": ""
             }
            }
           }
          ],
          "scattermapbox": [
           {
            "type": "scattermapbox",
            "marker": {
             "colorbar": {
              "outlinewidth": 0,
              "ticks": ""
             }
            }
           }
          ],
          "scatterternary": [
           {
            "type": "scatterternary",
            "marker": {
             "colorbar": {
              "outlinewidth": 0,
              "ticks": ""
             }
            }
           }
          ],
          "scattercarpet": [
           {
            "type": "scattercarpet",
            "marker": {
             "colorbar": {
              "outlinewidth": 0,
              "ticks": ""
             }
            }
           }
          ],
          "carpet": [
           {
            "aaxis": {
             "endlinecolor": "#A2B1C6",
             "gridcolor": "#506784",
             "linecolor": "#506784",
             "minorgridcolor": "#506784",
             "startlinecolor": "#A2B1C6"
            },
            "baxis": {
             "endlinecolor": "#A2B1C6",
             "gridcolor": "#506784",
             "linecolor": "#506784",
             "minorgridcolor": "#506784",
             "startlinecolor": "#A2B1C6"
            },
            "type": "carpet"
           }
          ],
          "table": [
           {
            "cells": {
             "fill": {
              "color": "#506784"
             },
             "line": {
              "color": "rgb(17,17,17)"
             }
            },
            "header": {
             "fill": {
              "color": "#2a3f5f"
             },
             "line": {
              "color": "rgb(17,17,17)"
             }
            },
            "type": "table"
           }
          ],
          "barpolar": [
           {
            "marker": {
             "line": {
              "color": "rgb(17,17,17)",
              "width": 0.5
             },
             "pattern": {
              "fillmode": "overlay",
              "size": 10,
              "solidity": 0.2
             }
            },
            "type": "barpolar"
           }
          ],
          "pie": [
           {
            "automargin": true,
            "type": "pie"
           }
          ]
         },
         "layout": {
          "autotypenumbers": "strict",
          "colorway": [
           "#636efa",
           "#EF553B",
           "#00cc96",
           "#ab63fa",
           "#FFA15A",
           "#19d3f3",
           "#FF6692",
           "#B6E880",
           "#FF97FF",
           "#FECB52"
          ],
          "font": {
           "color": "#f2f5fa"
          },
          "hovermode": "closest",
          "hoverlabel": {
           "align": "left"
          },
          "paper_bgcolor": "rgb(17,17,17)",
          "plot_bgcolor": "rgb(17,17,17)",
          "polar": {
           "bgcolor": "rgb(17,17,17)",
           "angularaxis": {
            "gridcolor": "#506784",
            "linecolor": "#506784",
            "ticks": ""
           },
           "radialaxis": {
            "gridcolor": "#506784",
            "linecolor": "#506784",
            "ticks": ""
           }
          },
          "ternary": {
           "bgcolor": "rgb(17,17,17)",
           "aaxis": {
            "gridcolor": "#506784",
            "linecolor": "#506784",
            "ticks": ""
           },
           "baxis": {
            "gridcolor": "#506784",
            "linecolor": "#506784",
            "ticks": ""
           },
           "caxis": {
            "gridcolor": "#506784",
            "linecolor": "#506784",
            "ticks": ""
           }
          },
          "coloraxis": {
           "colorbar": {
            "outlinewidth": 0,
            "ticks": ""
           }
          },
          "colorscale": {
           "sequential": [
            [
             0.0,
             "#0d0887"
            ],
            [
             0.1111111111111111,
             "#46039f"
            ],
            [
             0.2222222222222222,
             "#7201a8"
            ],
            [
             0.3333333333333333,
             "#9c179e"
            ],
            [
             0.4444444444444444,
             "#bd3786"
            ],
            [
             0.5555555555555556,
             "#d8576b"
            ],
            [
             0.6666666666666666,
             "#ed7953"
            ],
            [
             0.7777777777777778,
             "#fb9f3a"
            ],
            [
             0.8888888888888888,
             "#fdca26"
            ],
            [
             1.0,
             "#f0f921"
            ]
           ],
           "sequentialminus": [
            [
             0.0,
             "#0d0887"
            ],
            [
             0.1111111111111111,
             "#46039f"
            ],
            [
             0.2222222222222222,
             "#7201a8"
            ],
            [
             0.3333333333333333,
             "#9c179e"
            ],
            [
             0.4444444444444444,
             "#bd3786"
            ],
            [
             0.5555555555555556,
             "#d8576b"
            ],
            [
             0.6666666666666666,
             "#ed7953"
            ],
            [
             0.7777777777777778,
             "#fb9f3a"
            ],
            [
             0.8888888888888888,
             "#fdca26"
            ],
            [
             1.0,
             "#f0f921"
            ]
           ],
           "diverging": [
            [
             0,
             "#8e0152"
            ],
            [
             0.1,
             "#c51b7d"
            ],
            [
             0.2,
             "#de77ae"
            ],
            [
             0.3,
             "#f1b6da"
            ],
            [
             0.4,
             "#fde0ef"
            ],
            [
             0.5,
             "#f7f7f7"
            ],
            [
             0.6,
             "#e6f5d0"
            ],
            [
             0.7,
             "#b8e186"
            ],
            [
             0.8,
             "#7fbc41"
            ],
            [
             0.9,
             "#4d9221"
            ],
            [
             1,
             "#276419"
            ]
           ]
          },
          "xaxis": {
           "gridcolor": "#283442",
           "linecolor": "#506784",
           "ticks": "",
           "title": {
            "standoff": 15
           },
           "zerolinecolor": "#283442",
           "automargin": true,
           "zerolinewidth": 2
          },
          "yaxis": {
           "gridcolor": "#283442",
           "linecolor": "#506784",
           "ticks": "",
           "title": {
            "standoff": 15
           },
           "zerolinecolor": "#283442",
           "automargin": true,
           "zerolinewidth": 2
          },
          "scene": {
           "xaxis": {
            "backgroundcolor": "rgb(17,17,17)",
            "gridcolor": "#506784",
            "linecolor": "#506784",
            "showbackground": true,
            "ticks": "",
            "zerolinecolor": "#C8D4E3",
            "gridwidth": 2
           },
           "yaxis": {
            "backgroundcolor": "rgb(17,17,17)",
            "gridcolor": "#506784",
            "linecolor": "#506784",
            "showbackground": true,
            "ticks": "",
            "zerolinecolor": "#C8D4E3",
            "gridwidth": 2
           },
           "zaxis": {
            "backgroundcolor": "rgb(17,17,17)",
            "gridcolor": "#506784",
            "linecolor": "#506784",
            "showbackground": true,
            "ticks": "",
            "zerolinecolor": "#C8D4E3",
            "gridwidth": 2
           }
          },
          "shapedefaults": {
           "line": {
            "color": "#f2f5fa"
           }
          },
          "annotationdefaults": {
           "arrowcolor": "#f2f5fa",
           "arrowhead": 0,
           "arrowwidth": 1
          },
          "geo": {
           "bgcolor": "rgb(17,17,17)",
           "landcolor": "rgb(17,17,17)",
           "subunitcolor": "#506784",
           "showland": true,
           "showlakes": true,
           "lakecolor": "rgb(17,17,17)"
          },
          "title": {
           "x": 0.05
          },
          "updatemenudefaults": {
           "bgcolor": "#506784",
           "borderwidth": 0
          },
          "sliderdefaults": {
           "bgcolor": "#C8D4E3",
           "borderwidth": 1,
           "bordercolor": "rgb(17,17,17)",
           "tickwidth": 0
          },
          "mapbox": {
           "style": "dark"
          }
         }
        },
        "xaxis": {
         "anchor": "y",
         "domain": [
          0.0,
          1.0
         ],
         "title": {
          "text": "price_range"
         }
        },
        "yaxis": {
         "anchor": "x",
         "domain": [
          0.0,
          1.0
         ],
         "title": {
          "text": "weight"
         }
        },
        "legend": {
         "tracegroupgap": 0
        },
        "title": {
         "text": "weight by price"
        },
        "boxmode": "group"
       },
       "config": {
        "plotlyServerURL": "https://plot.ly"
       }
      }
     },
     "metadata": {},
     "output_type": "display_data",
     "jetTransient": {
      "display_id": null
     }
    },
    {
     "data": {
      "application/vnd.plotly.v1+json": {
       "data": [
        {
         "alignmentgroup": "True",
         "hovertemplate": "price_range=%{x}<br>pixel_height=%{y}<extra></extra>",
         "legendgroup": "",
         "marker": {
          "color": "#636efa"
         },
         "name": "",
         "notched": false,
         "offsetgroup": "",
         "orientation": "v",
         "showlegend": false,
         "x": {
          "dtype": "i1",
          "bdata": "AQICAgEBAwAAAAMDAQIAAAMDAQEDAwEAAQIDAwIAAwABAwABAQMCAgIDAQEAAQMBAAMCAgMBAgIAAwECAQAAAgIDAwMAAwMCAAMAAQAAAwEDAgMBAQEAAwICAwIAAAEDAAIAAQMBAQAAAQMDAwMBAQACAwMCAQABAgMDAwIDAgEDAAMBAgECAgEDAAACAAMCAAMBAwICAQMBAgABAAADAQICAAACAwECAwEDAQICAwIAAwIBAAACAwMAAgMBAwECAwMCAgIDAQEAAQACAgICAQMDAgIAAgADAAEBAwAAAwIDAwMCAgMDAwABAgABAwEAAgIDAgMDAAEBAAICAQAAAgABAAMBAQAAAwEDAQIBAAADAQICAwEAAAMDAQECAQMDAQEDAwIDAAEDAQABAwAAAwABAQIAAgMCAwACAwEAAAEAAwMAAAACAQIBAQEBAQICAwACAgIBAgMAAQICAgIBAwACAgECAAADAQADAgAAAgMCAQMBAwADAgABAAMBAgICAgMDAQIDAwEDAwEDAwABAwIDAwICAwMAAgIAAwECAwIBAQEAAQICAAICAAMBAQMBAwEAAAMBAwAAAQMBAAACAgIBAQEDAAMCAQMBAAICAQAAAwMAAAEDAwEAAgIDAAMDAAMAAwEAAgIBAgADAgABAgMBAgMAAwEAAAECAgICAwMAAQECAQMDAwMBAwMDAwIDAgIAAAMBAgIAAgIBAAMBAQEBAQICAQMBAAEAAAICAgADAQIBAgAAAQMDAwMDAwACAgAAAwMDAAADAAABAgACAwEDAgACAgAAAQMAAQECAgACAgABAwACAgMBAwICAQICAQEAAQABAAMBAQMBAwIBAQACAAIAAgABAwECAgABAAMCAQMCAAABAgAAAAIDAQIBAAAAAgMCAwADAgECAQACAAABAwADAQEBAwICAAADAAMDAgMDAwACAQIAAwEAAQMBAwMBAAEBAgEDAwACAAMCAAACAQIDAwIBAgIDAQIDAwEBAgECAAIAAwAAAAMDAAICAwEDAAECAAAAAwIAAgIBAAIAAwMCAwADAgMCAgEAAwMBAAACAQIDAwMDAAAAAQACAAECAAADAwEDAwIDAwEBAwADAwMDAgIDAgEDAgMAAAMAAAMCAQACAQICAQICAAIAAgICAwAAAwMBAAEAAAMDAwACAgECAgIAAwEBAwMBAgMCAgADAwACAgADAwABAQABAgEDAQAAAwIAAQABAgEBAgIAAwIDAQIDAwICAgMAAAEAAwAAAgEBAQMAAQMDAwEDAgMBAQIDAAABAQEAAwIAAQMAAwEAAwMBAAAAAwMBAQEBAAADAgADAwIAAAACAwABAwECAAACAAIAAwMBAwMBAAAAAAEBAgICAQIAAAMAAQEAAwIAAQIDAgMBAQEBAwEBAgIBAgMBAgABAAMAAAAAAQMAAQEAAwMCAQABAgICAQEAAQICAgAAAQMBAwAAAQADAQAAAgMDAQMDAQMCAAICAwMDAwECAgECAAIDAgIBAAEBAAIAAgICAgECAgABAQIBAQMAAQMAAgACAgICAgAAAgECAAMBAwICAwIAAwMBAAADAgIAAwIAAwIAAQICAQACAAIBAgEBAwABAQIAAwECAgEDAgACAgIDAAADAgECAAACAwIAAAACAwACAgEBAQIBAAIBAwMAAAIDAQMBAAMDAAEDAQECAwADAAEBAwIAAAMBAwECAgMAAwEBAAMAAgACAgMCAAMBAAMDAQEAAwEDAQECAAEDAwMDAQMAAQEAAQMBAQIBAQEBAgICAwMCAQECAQIDAgADAwECAwIBAQIBAQAAAAACAQECAAIAAgIAAwEAAwABAwMAAAEBAwIDAAIBAAAAAAMAAAADAAICAAEBAgAAAQEAAgICAAEDAAACAgMBAQEBAgEBAwADAAEAAAAAAwIBAAIBAAABAgABAQIBAQECAQMDAAMCAAECAwMAAQEBAQMBAgACAwEDAQECAAECAwABAwAAAAAAAwECAgIBAQMAAQICAwEBAwABAAEDAwMDAQEAAQICAwEBAAMDAAICAQICAAIDAwMCAgMCAgEBAQIAAQADAgACAgICAQAAAAECAQADAgADAgABAgEAAAACAAMBAQIDAwIBAgECAwACAwEAAwEAAgECAQIDAgMCAwMDAwICAgMBAQEAAAMCAQADAwEAAwIBAgMCAgMBAQEBAAIBAAEAAwADAQEDAwEBAQMCAQMBAQIDAAEBAwIBAgIDAgEBAQMDAwADAgMBAwIBAgMDAAAAAgIAAgACAQMDAAECAAIAAgICAAIAAgACAQIDAQMAAAICAwMBAgEBAwAAAgEAAQIBAwABAwACAwMCAAMBAQACAgIAAwMAAwIDAAIAAgEDAwADAgACAQIDAQEDAAEBAwABAAECAAEDAwECAQAAAQABAAABAwMBAAIAAwECAgECAwMAAAECAgIBAgEAAgMAAAMAAwAAAwMAAwAAAAADAwIAAAAAAwACAwIDAwIDAQACAAABAQECAgAAAwABAgADAQAAAwABAAMDAAECAgIDAAEDAwEDAAEAAAIBAAIAAwEAAgECAQMAAgMBAQECAQMCAgICAwEAAAAAAgECAQABAwADAAMDAQIAAgEBAAIBAAICAQADAQMAAgEBAQECAgEDAQABAQADAAMDAAIDAAMBAQEBAQEBAQEBAQEBAQEBAQEBAQEBAQEBAQEBAQEBAQEBAQEBAQEBAQEBAQEBAQEBAQEBAQEBAQEBAQEBAQEBAQEBAQEBAQEBAQEBAQEBAQEBAQEBAQEBAQEBAQEBAQEBAQEBAQEBAQEBAQEBAQEBAQEBAQEBAQEBAQEBAQEBAQEBAQEBAQEBAQEBAQEBAQEBAQEBAQEBAQEBAQEBAQEBAQEBAQEBAQEBAQEBAQEBAQEBAQEBAQEBAQEBAQEBAQEBAQEBAQEBAQEBAQEBAQEBAQEBAQEBAQEBAQEBAQEBAQEBAQEBAQEBAQEBAQEBAQEBAQEBAQEBAQEBAQEBAQEBAQEBAQEBAQEBAQEBAQEBAQEBAQEBAQEBAQEBAQEBAQEBAQEBAQEBAQEBAQEBAQEBAQEBAQEBAQEBAQEBAQEBAQEBAQEBAQEBAQEBAQEBAQEBAQEBAQEBAQEBAQEBAQEBAQEBAQEBAQEBAQEBAQEBAQEBAQEBAQEBAQEBAQEBAQEBAQEBAQEBAQEBAQEBAQEBAQEBAQEBAQEBAQEBAQEBAQEBAQEBAQEBAQEBAQEBAQEBAQEBAQEBAQEBAQEBAQEBAQEBAQEBAQEBAQEBAQEBAQEBAQEBAQEBAQEBAQEBAQEBAQEBAQEBAQEBAQEBAQEBAQEBAQEBAQEBAQEBAQEBAQEBAQEBAQEBAQEBAQEBAQEBAQEBAQEBAQEBAQEBAQEBAQEBAQEBAQEBAQEBAQEBAQEBAQEBAQEBAQEBAQEBAQEBAQEBAQEBAQEBAQEBAQEBAQEBAQEBAQEBAQEBAQEBAQEBAQEBAQEBAQEBAQEBAQEBAQEBAQEBAQEBAQEBAQEBAQEBAQEBAQEBAQEBAQEBAQEBAQEBAQEBAQEBAQEBAQEBAQEBAQEBAQEBAQEBAQEBAQEBAQEBAQEBAQEBAQEBAQEBAQEBAQEBAQEBAQEBAQEBAQEBAQEBAQEBAQEBAQEBAQEBAQEBAQEBAQEBAQEBAQEBAQEBAQEBAQEBAQEBAQEBAQEBAQEBAQEBAQEBAQEBAQEBAQEBAQEBAQEBAQEBAQEBAQEBAQEBAQEBAQEBAQEBAQEBAQEBAQEBAQEBAQEBAQEBAQEBAQEBAQEBAQEBAQEBAQEBAQEBAQEBAQEBAQEBAQEBAQEBAQEBAQEBAQEBAQEBAQEBAQEBAQEBAQEBAQEBAQEBAQEBAQEBAQEBAQEBAQEBAQEBAQEBAQEBAQEBAQEBAQEBAQEBAQEBAQEBAQEBAQEBAQEBAQEBAQEBAQEBAQEBAQEBAQEBAQEBAQEBAQEBAQEBAQEBAQEBAQEBAQEBAQEBAQEBAQEBAQEBAQEBAQEBAQEBAQEBAQE="
         },
         "x0": " ",
         "xaxis": "x",
         "y": {
          "dtype": "i2",
          "bdata": "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"
         },
         "y0": " ",
         "yaxis": "y",
         "type": "box"
        }
       ],
       "layout": {
        "template": {
         "data": {
          "histogram2dcontour": [
           {
            "type": "histogram2dcontour",
            "colorbar": {
             "outlinewidth": 0,
             "ticks": ""
            },
            "colorscale": [
             [
              0.0,
              "#0d0887"
             ],
             [
              0.1111111111111111,
              "#46039f"
             ],
             [
              0.2222222222222222,
              "#7201a8"
             ],
             [
              0.3333333333333333,
              "#9c179e"
             ],
             [
              0.4444444444444444,
              "#bd3786"
             ],
             [
              0.5555555555555556,
              "#d8576b"
             ],
             [
              0.6666666666666666,
              "#ed7953"
             ],
             [
              0.7777777777777778,
              "#fb9f3a"
             ],
             [
              0.8888888888888888,
              "#fdca26"
             ],
             [
              1.0,
              "#f0f921"
             ]
            ]
           }
          ],
          "choropleth": [
           {
            "type": "choropleth",
            "colorbar": {
             "outlinewidth": 0,
             "ticks": ""
            }
           }
          ],
          "histogram2d": [
           {
            "type": "histogram2d",
            "colorbar": {
             "outlinewidth": 0,
             "ticks": ""
            },
            "colorscale": [
             [
              0.0,
              "#0d0887"
             ],
             [
              0.1111111111111111,
              "#46039f"
             ],
             [
              0.2222222222222222,
              "#7201a8"
             ],
             [
              0.3333333333333333,
              "#9c179e"
             ],
             [
              0.4444444444444444,
              "#bd3786"
             ],
             [
              0.5555555555555556,
              "#d8576b"
             ],
             [
              0.6666666666666666,
              "#ed7953"
             ],
             [
              0.7777777777777778,
              "#fb9f3a"
             ],
             [
              0.8888888888888888,
              "#fdca26"
             ],
             [
              1.0,
              "#f0f921"
             ]
            ]
           }
          ],
          "heatmap": [
           {
            "type": "heatmap",
            "colorbar": {
             "outlinewidth": 0,
             "ticks": ""
            },
            "colorscale": [
             [
              0.0,
              "#0d0887"
             ],
             [
              0.1111111111111111,
              "#46039f"
             ],
             [
              0.2222222222222222,
              "#7201a8"
             ],
             [
              0.3333333333333333,
              "#9c179e"
             ],
             [
              0.4444444444444444,
              "#bd3786"
             ],
             [
              0.5555555555555556,
              "#d8576b"
             ],
             [
              0.6666666666666666,
              "#ed7953"
             ],
             [
              0.7777777777777778,
              "#fb9f3a"
             ],
             [
              0.8888888888888888,
              "#fdca26"
             ],
             [
              1.0,
              "#f0f921"
             ]
            ]
           }
          ],
          "contourcarpet": [
           {
            "type": "contourcarpet",
            "colorbar": {
             "outlinewidth": 0,
             "ticks": ""
            }
           }
          ],
          "contour": [
           {
            "type": "contour",
            "colorbar": {
             "outlinewidth": 0,
             "ticks": ""
            },
            "colorscale": [
             [
              0.0,
              "#0d0887"
             ],
             [
              0.1111111111111111,
              "#46039f"
             ],
             [
              0.2222222222222222,
              "#7201a8"
             ],
             [
              0.3333333333333333,
              "#9c179e"
             ],
             [
              0.4444444444444444,
              "#bd3786"
             ],
             [
              0.5555555555555556,
              "#d8576b"
             ],
             [
              0.6666666666666666,
              "#ed7953"
             ],
             [
              0.7777777777777778,
              "#fb9f3a"
             ],
             [
              0.8888888888888888,
              "#fdca26"
             ],
             [
              1.0,
              "#f0f921"
             ]
            ]
           }
          ],
          "surface": [
           {
            "type": "surface",
            "colorbar": {
             "outlinewidth": 0,
             "ticks": ""
            },
            "colorscale": [
             [
              0.0,
              "#0d0887"
             ],
             [
              0.1111111111111111,
              "#46039f"
             ],
             [
              0.2222222222222222,
              "#7201a8"
             ],
             [
              0.3333333333333333,
              "#9c179e"
             ],
             [
              0.4444444444444444,
              "#bd3786"
             ],
             [
              0.5555555555555556,
              "#d8576b"
             ],
             [
              0.6666666666666666,
              "#ed7953"
             ],
             [
              0.7777777777777778,
              "#fb9f3a"
             ],
             [
              0.8888888888888888,
              "#fdca26"
             ],
             [
              1.0,
              "#f0f921"
             ]
            ]
           }
          ],
          "mesh3d": [
           {
            "type": "mesh3d",
            "colorbar": {
             "outlinewidth": 0,
             "ticks": ""
            }
           }
          ],
          "scatter": [
           {
            "marker": {
             "line": {
              "color": "#283442"
             }
            },
            "type": "scatter"
           }
          ],
          "parcoords": [
           {
            "type": "parcoords",
            "line": {
             "colorbar": {
              "outlinewidth": 0,
              "ticks": ""
             }
            }
           }
          ],
          "scatterpolargl": [
           {
            "type": "scatterpolargl",
            "marker": {
             "colorbar": {
              "outlinewidth": 0,
              "ticks": ""
             }
            }
           }
          ],
          "bar": [
           {
            "error_x": {
             "color": "#f2f5fa"
            },
            "error_y": {
             "color": "#f2f5fa"
            },
            "marker": {
             "line": {
              "color": "rgb(17,17,17)",
              "width": 0.5
             },
             "pattern": {
              "fillmode": "overlay",
              "size": 10,
              "solidity": 0.2
             }
            },
            "type": "bar"
           }
          ],
          "scattergeo": [
           {
            "type": "scattergeo",
            "marker": {
             "colorbar": {
              "outlinewidth": 0,
              "ticks": ""
             }
            }
           }
          ],
          "scatterpolar": [
           {
            "type": "scatterpolar",
            "marker": {
             "colorbar": {
              "outlinewidth": 0,
              "ticks": ""
             }
            }
           }
          ],
          "histogram": [
           {
            "marker": {
             "pattern": {
              "fillmode": "overlay",
              "size": 10,
              "solidity": 0.2
             }
            },
            "type": "histogram"
           }
          ],
          "scattergl": [
           {
            "marker": {
             "line": {
              "color": "#283442"
             }
            },
            "type": "scattergl"
           }
          ],
          "scatter3d": [
           {
            "type": "scatter3d",
            "line": {
             "colorbar": {
              "outlinewidth": 0,
              "ticks": ""
             }
            },
            "marker": {
             "colorbar": {
              "outlinewidth": 0,
              "ticks": ""
             }
            }
           }
          ],
          "scattermap": [
           {
            "type": "scattermap",
            "marker": {
             "colorbar": {
              "outlinewidth": 0,
              "ticks": ""
             }
            }
           }
          ],
          "scattermapbox": [
           {
            "type": "scattermapbox",
            "marker": {
             "colorbar": {
              "outlinewidth": 0,
              "ticks": ""
             }
            }
           }
          ],
          "scatterternary": [
           {
            "type": "scatterternary",
            "marker": {
             "colorbar": {
              "outlinewidth": 0,
              "ticks": ""
             }
            }
           }
          ],
          "scattercarpet": [
           {
            "type": "scattercarpet",
            "marker": {
             "colorbar": {
              "outlinewidth": 0,
              "ticks": ""
             }
            }
           }
          ],
          "carpet": [
           {
            "aaxis": {
             "endlinecolor": "#A2B1C6",
             "gridcolor": "#506784",
             "linecolor": "#506784",
             "minorgridcolor": "#506784",
             "startlinecolor": "#A2B1C6"
            },
            "baxis": {
             "endlinecolor": "#A2B1C6",
             "gridcolor": "#506784",
             "linecolor": "#506784",
             "minorgridcolor": "#506784",
             "startlinecolor": "#A2B1C6"
            },
            "type": "carpet"
           }
          ],
          "table": [
           {
            "cells": {
             "fill": {
              "color": "#506784"
             },
             "line": {
              "color": "rgb(17,17,17)"
             }
            },
            "header": {
             "fill": {
              "color": "#2a3f5f"
             },
             "line": {
              "color": "rgb(17,17,17)"
             }
            },
            "type": "table"
           }
          ],
          "barpolar": [
           {
            "marker": {
             "line": {
              "color": "rgb(17,17,17)",
              "width": 0.5
             },
             "pattern": {
              "fillmode": "overlay",
              "size": 10,
              "solidity": 0.2
             }
            },
            "type": "barpolar"
           }
          ],
          "pie": [
           {
            "automargin": true,
            "type": "pie"
           }
          ]
         },
         "layout": {
          "autotypenumbers": "strict",
          "colorway": [
           "#636efa",
           "#EF553B",
           "#00cc96",
           "#ab63fa",
           "#FFA15A",
           "#19d3f3",
           "#FF6692",
           "#B6E880",
           "#FF97FF",
           "#FECB52"
          ],
          "font": {
           "color": "#f2f5fa"
          },
          "hovermode": "closest",
          "hoverlabel": {
           "align": "left"
          },
          "paper_bgcolor": "rgb(17,17,17)",
          "plot_bgcolor": "rgb(17,17,17)",
          "polar": {
           "bgcolor": "rgb(17,17,17)",
           "angularaxis": {
            "gridcolor": "#506784",
            "linecolor": "#506784",
            "ticks": ""
           },
           "radialaxis": {
            "gridcolor": "#506784",
            "linecolor": "#506784",
            "ticks": ""
           }
          },
          "ternary": {
           "bgcolor": "rgb(17,17,17)",
           "aaxis": {
            "gridcolor": "#506784",
            "linecolor": "#506784",
            "ticks": ""
           },
           "baxis": {
            "gridcolor": "#506784",
            "linecolor": "#506784",
            "ticks": ""
           },
           "caxis": {
            "gridcolor": "#506784",
            "linecolor": "#506784",
            "ticks": ""
           }
          },
          "coloraxis": {
           "colorbar": {
            "outlinewidth": 0,
            "ticks": ""
           }
          },
          "colorscale": {
           "sequential": [
            [
             0.0,
             "#0d0887"
            ],
            [
             0.1111111111111111,
             "#46039f"
            ],
            [
             0.2222222222222222,
             "#7201a8"
            ],
            [
             0.3333333333333333,
             "#9c179e"
            ],
            [
             0.4444444444444444,
             "#bd3786"
            ],
            [
             0.5555555555555556,
             "#d8576b"
            ],
            [
             0.6666666666666666,
             "#ed7953"
            ],
            [
             0.7777777777777778,
             "#fb9f3a"
            ],
            [
             0.8888888888888888,
             "#fdca26"
            ],
            [
             1.0,
             "#f0f921"
            ]
           ],
           "sequentialminus": [
            [
             0.0,
             "#0d0887"
            ],
            [
             0.1111111111111111,
             "#46039f"
            ],
            [
             0.2222222222222222,
             "#7201a8"
            ],
            [
             0.3333333333333333,
             "#9c179e"
            ],
            [
             0.4444444444444444,
             "#bd3786"
            ],
            [
             0.5555555555555556,
             "#d8576b"
            ],
            [
             0.6666666666666666,
             "#ed7953"
            ],
            [
             0.7777777777777778,
             "#fb9f3a"
            ],
            [
             0.8888888888888888,
             "#fdca26"
            ],
            [
             1.0,
             "#f0f921"
            ]
           ],
           "diverging": [
            [
             0,
             "#8e0152"
            ],
            [
             0.1,
             "#c51b7d"
            ],
            [
             0.2,
             "#de77ae"
            ],
            [
             0.3,
             "#f1b6da"
            ],
            [
             0.4,
             "#fde0ef"
            ],
            [
             0.5,
             "#f7f7f7"
            ],
            [
             0.6,
             "#e6f5d0"
            ],
            [
             0.7,
             "#b8e186"
            ],
            [
             0.8,
             "#7fbc41"
            ],
            [
             0.9,
             "#4d9221"
            ],
            [
             1,
             "#276419"
            ]
           ]
          },
          "xaxis": {
           "gridcolor": "#283442",
           "linecolor": "#506784",
           "ticks": "",
           "title": {
            "standoff": 15
           },
           "zerolinecolor": "#283442",
           "automargin": true,
           "zerolinewidth": 2
          },
          "yaxis": {
           "gridcolor": "#283442",
           "linecolor": "#506784",
           "ticks": "",
           "title": {
            "standoff": 15
           },
           "zerolinecolor": "#283442",
           "automargin": true,
           "zerolinewidth": 2
          },
          "scene": {
           "xaxis": {
            "backgroundcolor": "rgb(17,17,17)",
            "gridcolor": "#506784",
            "linecolor": "#506784",
            "showbackground": true,
            "ticks": "",
            "zerolinecolor": "#C8D4E3",
            "gridwidth": 2
           },
           "yaxis": {
            "backgroundcolor": "rgb(17,17,17)",
            "gridcolor": "#506784",
            "linecolor": "#506784",
            "showbackground": true,
            "ticks": "",
            "zerolinecolor": "#C8D4E3",
            "gridwidth": 2
           },
           "zaxis": {
            "backgroundcolor": "rgb(17,17,17)",
            "gridcolor": "#506784",
            "linecolor": "#506784",
            "showbackground": true,
            "ticks": "",
            "zerolinecolor": "#C8D4E3",
            "gridwidth": 2
           }
          },
          "shapedefaults": {
           "line": {
            "color": "#f2f5fa"
           }
          },
          "annotationdefaults": {
           "arrowcolor": "#f2f5fa",
           "arrowhead": 0,
           "arrowwidth": 1
          },
          "geo": {
           "bgcolor": "rgb(17,17,17)",
           "landcolor": "rgb(17,17,17)",
           "subunitcolor": "#506784",
           "showland": true,
           "showlakes": true,
           "lakecolor": "rgb(17,17,17)"
          },
          "title": {
           "x": 0.05
          },
          "updatemenudefaults": {
           "bgcolor": "#506784",
           "borderwidth": 0
          },
          "sliderdefaults": {
           "bgcolor": "#C8D4E3",
           "borderwidth": 1,
           "bordercolor": "rgb(17,17,17)",
           "tickwidth": 0
          },
          "mapbox": {
           "style": "dark"
          }
         }
        },
        "xaxis": {
         "anchor": "y",
         "domain": [
          0.0,
          1.0
         ],
         "title": {
          "text": "price_range"
         }
        },
        "yaxis": {
         "anchor": "x",
         "domain": [
          0.0,
          1.0
         ],
         "title": {
          "text": "pixel_height"
         }
        },
        "legend": {
         "tracegroupgap": 0
        },
        "title": {
         "text": "pixel_height by price"
        },
        "boxmode": "group"
       },
       "config": {
        "plotlyServerURL": "https://plot.ly"
       }
      }
     },
     "metadata": {},
     "output_type": "display_data",
     "jetTransient": {
      "display_id": null
     }
    },
    {
     "data": {
      "application/vnd.plotly.v1+json": {
       "data": [
        {
         "alignmentgroup": "True",
         "hovertemplate": "price_range=%{x}<br>pixel_width=%{y}<extra></extra>",
         "legendgroup": "",
         "marker": {
          "color": "#636efa"
         },
         "name": "",
         "notched": false,
         "offsetgroup": "",
         "orientation": "v",
         "showlegend": false,
         "x": {
          "dtype": "i1",
          "bdata": "AQICAgEBAwAAAAMDAQIAAAMDAQEDAwEAAQIDAwIAAwABAwABAQMCAgIDAQEAAQMBAAMCAgMBAgIAAwECAQAAAgIDAwMAAwMCAAMAAQAAAwEDAgMBAQEAAwICAwIAAAEDAAIAAQMBAQAAAQMDAwMBAQACAwMCAQABAgMDAwIDAgEDAAMBAgECAgEDAAACAAMCAAMBAwICAQMBAgABAAADAQICAAACAwECAwEDAQICAwIAAwIBAAACAwMAAgMBAwECAwMCAgIDAQEAAQACAgICAQMDAgIAAgADAAEBAwAAAwIDAwMCAgMDAwABAgABAwEAAgIDAgMDAAEBAAICAQAAAgABAAMBAQAAAwEDAQIBAAADAQICAwEAAAMDAQECAQMDAQEDAwIDAAEDAQABAwAAAwABAQIAAgMCAwACAwEAAAEAAwMAAAACAQIBAQEBAQICAwACAgIBAgMAAQICAgIBAwACAgECAAADAQADAgAAAgMCAQMBAwADAgABAAMBAgICAgMDAQIDAwEDAwEDAwABAwIDAwICAwMAAgIAAwECAwIBAQEAAQICAAICAAMBAQMBAwEAAAMBAwAAAQMBAAACAgIBAQEDAAMCAQMBAAICAQAAAwMAAAEDAwEAAgIDAAMDAAMAAwEAAgIBAgADAgABAgMBAgMAAwEAAAECAgICAwMAAQECAQMDAwMBAwMDAwIDAgIAAAMBAgIAAgIBAAMBAQEBAQICAQMBAAEAAAICAgADAQIBAgAAAQMDAwMDAwACAgAAAwMDAAADAAABAgACAwEDAgACAgAAAQMAAQECAgACAgABAwACAgMBAwICAQICAQEAAQABAAMBAQMBAwIBAQACAAIAAgABAwECAgABAAMCAQMCAAABAgAAAAIDAQIBAAAAAgMCAwADAgECAQACAAABAwADAQEBAwICAAADAAMDAgMDAwACAQIAAwEAAQMBAwMBAAEBAgEDAwACAAMCAAACAQIDAwIBAgIDAQIDAwEBAgECAAIAAwAAAAMDAAICAwEDAAECAAAAAwIAAgIBAAIAAwMCAwADAgMCAgEAAwMBAAACAQIDAwMDAAAAAQACAAECAAADAwEDAwIDAwEBAwADAwMDAgIDAgEDAgMAAAMAAAMCAQACAQICAQICAAIAAgICAwAAAwMBAAEAAAMDAwACAgECAgIAAwEBAwMBAgMCAgADAwACAgADAwABAQABAgEDAQAAAwIAAQABAgEBAgIAAwIDAQIDAwICAgMAAAEAAwAAAgEBAQMAAQMDAwEDAgMBAQIDAAABAQEAAwIAAQMAAwEAAwMBAAAAAwMBAQEBAAADAgADAwIAAAACAwABAwECAAACAAIAAwMBAwMBAAAAAAEBAgICAQIAAAMAAQEAAwIAAQIDAgMBAQEBAwEBAgIBAgMBAgABAAMAAAAAAQMAAQEAAwMCAQABAgICAQEAAQICAgAAAQMBAwAAAQADAQAAAgMDAQMDAQMCAAICAwMDAwECAgECAAIDAgIBAAEBAAIAAgICAgECAgABAQIBAQMAAQMAAgACAgICAgAAAgECAAMBAwICAwIAAwMBAAADAgIAAwIAAwIAAQICAQACAAIBAgEBAwABAQIAAwECAgEDAgACAgIDAAADAgECAAACAwIAAAACAwACAgEBAQIBAAIBAwMAAAIDAQMBAAMDAAEDAQECAwADAAEBAwIAAAMBAwECAgMAAwEBAAMAAgACAgMCAAMBAAMDAQEAAwEDAQECAAEDAwMDAQMAAQEAAQMBAQIBAQEBAgICAwMCAQECAQIDAgADAwECAwIBAQIBAQAAAAACAQECAAIAAgIAAwEAAwABAwMAAAEBAwIDAAIBAAAAAAMAAAADAAICAAEBAgAAAQEAAgICAAEDAAACAgMBAQEBAgEBAwADAAEAAAAAAwIBAAIBAAABAgABAQIBAQECAQMDAAMCAAECAwMAAQEBAQMBAgACAwEDAQECAAECAwABAwAAAAAAAwECAgIBAQMAAQICAwEBAwABAAEDAwMDAQEAAQICAwEBAAMDAAICAQICAAIDAwMCAgMCAgEBAQIAAQADAgACAgICAQAAAAECAQADAgADAgABAgEAAAACAAMBAQIDAwIBAgECAwACAwEAAwEAAgECAQIDAgMCAwMDAwICAgMBAQEAAAMCAQADAwEAAwIBAgMCAgMBAQEBAAIBAAEAAwADAQEDAwEBAQMCAQMBAQIDAAEBAwIBAgIDAgEBAQMDAwADAgMBAwIBAgMDAAAAAgIAAgACAQMDAAECAAIAAgICAAIAAgACAQIDAQMAAAICAwMBAgEBAwAAAgEAAQIBAwABAwACAwMCAAMBAQACAgIAAwMAAwIDAAIAAgEDAwADAgACAQIDAQEDAAEBAwABAAECAAEDAwECAQAAAQABAAABAwMBAAIAAwECAgECAwMAAAECAgIBAgEAAgMAAAMAAwAAAwMAAwAAAAADAwIAAAAAAwACAwIDAwIDAQACAAABAQECAgAAAwABAgADAQAAAwABAAMDAAECAgIDAAEDAwEDAAEAAAIBAAIAAwEAAgECAQMAAgMBAQECAQMCAgICAwEAAAAAAgECAQABAwADAAMDAQIAAgEBAAIBAAICAQADAQMAAgEBAQECAgEDAQABAQADAAMDAAIDAAMBAQEBAQEBAQEBAQEBAQEBAQEBAQEBAQEBAQEBAQEBAQEBAQEBAQEBAQEBAQEBAQEBAQEBAQEBAQEBAQEBAQEBAQEBAQEBAQEBAQEBAQEBAQEBAQEBAQEBAQEBAQEBAQEBAQEBAQEBAQEBAQEBAQEBAQEBAQEBAQEBAQEBAQEBAQEBAQEBAQEBAQEBAQEBAQEBAQEBAQEBAQEBAQEBAQEBAQEBAQEBAQEBAQEBAQEBAQEBAQEBAQEBAQEBAQEBAQEBAQEBAQEBAQEBAQEBAQEBAQEBAQEBAQEBAQEBAQEBAQEBAQEBAQEBAQEBAQEBAQEBAQEBAQEBAQEBAQEBAQEBAQEBAQEBAQEBAQEBAQEBAQEBAQEBAQEBAQEBAQEBAQEBAQEBAQEBAQEBAQEBAQEBAQEBAQEBAQEBAQEBAQEBAQEBAQEBAQEBAQEBAQEBAQEBAQEBAQEBAQEBAQEBAQEBAQEBAQEBAQEBAQEBAQEBAQEBAQEBAQEBAQEBAQEBAQEBAQEBAQEBAQEBAQEBAQEBAQEBAQEBAQEBAQEBAQEBAQEBAQEBAQEBAQEBAQEBAQEBAQEBAQEBAQEBAQEBAQEBAQEBAQEBAQEBAQEBAQEBAQEBAQEBAQEBAQEBAQEBAQEBAQEBAQEBAQEBAQEBAQEBAQEBAQEBAQEBAQEBAQEBAQEBAQEBAQEBAQEBAQEBAQEBAQEBAQEBAQEBAQEBAQEBAQEBAQEBAQEBAQEBAQEBAQEBAQEBAQEBAQEBAQEBAQEBAQEBAQEBAQEBAQEBAQEBAQEBAQEBAQEBAQEBAQEBAQEBAQEBAQEBAQEBAQEBAQEBAQEBAQEBAQEBAQEBAQEBAQEBAQEBAQEBAQEBAQEBAQEBAQEBAQEBAQEBAQEBAQEBAQEBAQEBAQEBAQEBAQEBAQEBAQEBAQEBAQEBAQEBAQEBAQEBAQEBAQEBAQEBAQEBAQEBAQEBAQEBAQEBAQEBAQEBAQEBAQEBAQEBAQEBAQEBAQEBAQEBAQEBAQEBAQEBAQEBAQEBAQEBAQEBAQEBAQEBAQEBAQEBAQEBAQEBAQEBAQEBAQEBAQEBAQEBAQEBAQEBAQEBAQEBAQEBAQEBAQEBAQEBAQEBAQEBAQEBAQEBAQEBAQEBAQEBAQEBAQEBAQEBAQEBAQEBAQEBAQEBAQEBAQEBAQEBAQEBAQEBAQEBAQEBAQEBAQEBAQEBAQEBAQEBAQEBAQEBAQEBAQEBAQEBAQEBAQEBAQEBAQEBAQEBAQEBAQEBAQEBAQEBAQEBAQEBAQEBAQEBAQEBAQEBAQEBAQEBAQEBAQEBAQEBAQEBAQEBAQEBAQEBAQEBAQEBAQEBAQEBAQEBAQE="
         },
         "x0": " ",
         "xaxis": "x",
         "y": {
          "dtype": "i2",
          "bdata": "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"
         },
         "y0": " ",
         "yaxis": "y",
         "type": "box"
        }
       ],
       "layout": {
        "template": {
         "data": {
          "histogram2dcontour": [
           {
            "type": "histogram2dcontour",
            "colorbar": {
             "outlinewidth": 0,
             "ticks": ""
            },
            "colorscale": [
             [
              0.0,
              "#0d0887"
             ],
             [
              0.1111111111111111,
              "#46039f"
             ],
             [
              0.2222222222222222,
              "#7201a8"
             ],
             [
              0.3333333333333333,
              "#9c179e"
             ],
             [
              0.4444444444444444,
              "#bd3786"
             ],
             [
              0.5555555555555556,
              "#d8576b"
             ],
             [
              0.6666666666666666,
              "#ed7953"
             ],
             [
              0.7777777777777778,
              "#fb9f3a"
             ],
             [
              0.8888888888888888,
              "#fdca26"
             ],
             [
              1.0,
              "#f0f921"
             ]
            ]
           }
          ],
          "choropleth": [
           {
            "type": "choropleth",
            "colorbar": {
             "outlinewidth": 0,
             "ticks": ""
            }
           }
          ],
          "histogram2d": [
           {
            "type": "histogram2d",
            "colorbar": {
             "outlinewidth": 0,
             "ticks": ""
            },
            "colorscale": [
             [
              0.0,
              "#0d0887"
             ],
             [
              0.1111111111111111,
              "#46039f"
             ],
             [
              0.2222222222222222,
              "#7201a8"
             ],
             [
              0.3333333333333333,
              "#9c179e"
             ],
             [
              0.4444444444444444,
              "#bd3786"
             ],
             [
              0.5555555555555556,
              "#d8576b"
             ],
             [
              0.6666666666666666,
              "#ed7953"
             ],
             [
              0.7777777777777778,
              "#fb9f3a"
             ],
             [
              0.8888888888888888,
              "#fdca26"
             ],
             [
              1.0,
              "#f0f921"
             ]
            ]
           }
          ],
          "heatmap": [
           {
            "type": "heatmap",
            "colorbar": {
             "outlinewidth": 0,
             "ticks": ""
            },
            "colorscale": [
             [
              0.0,
              "#0d0887"
             ],
             [
              0.1111111111111111,
              "#46039f"
             ],
             [
              0.2222222222222222,
              "#7201a8"
             ],
             [
              0.3333333333333333,
              "#9c179e"
             ],
             [
              0.4444444444444444,
              "#bd3786"
             ],
             [
              0.5555555555555556,
              "#d8576b"
             ],
             [
              0.6666666666666666,
              "#ed7953"
             ],
             [
              0.7777777777777778,
              "#fb9f3a"
             ],
             [
              0.8888888888888888,
              "#fdca26"
             ],
             [
              1.0,
              "#f0f921"
             ]
            ]
           }
          ],
          "contourcarpet": [
           {
            "type": "contourcarpet",
            "colorbar": {
             "outlinewidth": 0,
             "ticks": ""
            }
           }
          ],
          "contour": [
           {
            "type": "contour",
            "colorbar": {
             "outlinewidth": 0,
             "ticks": ""
            },
            "colorscale": [
             [
              0.0,
              "#0d0887"
             ],
             [
              0.1111111111111111,
              "#46039f"
             ],
             [
              0.2222222222222222,
              "#7201a8"
             ],
             [
              0.3333333333333333,
              "#9c179e"
             ],
             [
              0.4444444444444444,
              "#bd3786"
             ],
             [
              0.5555555555555556,
              "#d8576b"
             ],
             [
              0.6666666666666666,
              "#ed7953"
             ],
             [
              0.7777777777777778,
              "#fb9f3a"
             ],
             [
              0.8888888888888888,
              "#fdca26"
             ],
             [
              1.0,
              "#f0f921"
             ]
            ]
           }
          ],
          "surface": [
           {
            "type": "surface",
            "colorbar": {
             "outlinewidth": 0,
             "ticks": ""
            },
            "colorscale": [
             [
              0.0,
              "#0d0887"
             ],
             [
              0.1111111111111111,
              "#46039f"
             ],
             [
              0.2222222222222222,
              "#7201a8"
             ],
             [
              0.3333333333333333,
              "#9c179e"
             ],
             [
              0.4444444444444444,
              "#bd3786"
             ],
             [
              0.5555555555555556,
              "#d8576b"
             ],
             [
              0.6666666666666666,
              "#ed7953"
             ],
             [
              0.7777777777777778,
              "#fb9f3a"
             ],
             [
              0.8888888888888888,
              "#fdca26"
             ],
             [
              1.0,
              "#f0f921"
             ]
            ]
           }
          ],
          "mesh3d": [
           {
            "type": "mesh3d",
            "colorbar": {
             "outlinewidth": 0,
             "ticks": ""
            }
           }
          ],
          "scatter": [
           {
            "marker": {
             "line": {
              "color": "#283442"
             }
            },
            "type": "scatter"
           }
          ],
          "parcoords": [
           {
            "type": "parcoords",
            "line": {
             "colorbar": {
              "outlinewidth": 0,
              "ticks": ""
             }
            }
           }
          ],
          "scatterpolargl": [
           {
            "type": "scatterpolargl",
            "marker": {
             "colorbar": {
              "outlinewidth": 0,
              "ticks": ""
             }
            }
           }
          ],
          "bar": [
           {
            "error_x": {
             "color": "#f2f5fa"
            },
            "error_y": {
             "color": "#f2f5fa"
            },
            "marker": {
             "line": {
              "color": "rgb(17,17,17)",
              "width": 0.5
             },
             "pattern": {
              "fillmode": "overlay",
              "size": 10,
              "solidity": 0.2
             }
            },
            "type": "bar"
           }
          ],
          "scattergeo": [
           {
            "type": "scattergeo",
            "marker": {
             "colorbar": {
              "outlinewidth": 0,
              "ticks": ""
             }
            }
           }
          ],
          "scatterpolar": [
           {
            "type": "scatterpolar",
            "marker": {
             "colorbar": {
              "outlinewidth": 0,
              "ticks": ""
             }
            }
           }
          ],
          "histogram": [
           {
            "marker": {
             "pattern": {
              "fillmode": "overlay",
              "size": 10,
              "solidity": 0.2
             }
            },
            "type": "histogram"
           }
          ],
          "scattergl": [
           {
            "marker": {
             "line": {
              "color": "#283442"
             }
            },
            "type": "scattergl"
           }
          ],
          "scatter3d": [
           {
            "type": "scatter3d",
            "line": {
             "colorbar": {
              "outlinewidth": 0,
              "ticks": ""
             }
            },
            "marker": {
             "colorbar": {
              "outlinewidth": 0,
              "ticks": ""
             }
            }
           }
          ],
          "scattermap": [
           {
            "type": "scattermap",
            "marker": {
             "colorbar": {
              "outlinewidth": 0,
              "ticks": ""
             }
            }
           }
          ],
          "scattermapbox": [
           {
            "type": "scattermapbox",
            "marker": {
             "colorbar": {
              "outlinewidth": 0,
              "ticks": ""
             }
            }
           }
          ],
          "scatterternary": [
           {
            "type": "scatterternary",
            "marker": {
             "colorbar": {
              "outlinewidth": 0,
              "ticks": ""
             }
            }
           }
          ],
          "scattercarpet": [
           {
            "type": "scattercarpet",
            "marker": {
             "colorbar": {
              "outlinewidth": 0,
              "ticks": ""
             }
            }
           }
          ],
          "carpet": [
           {
            "aaxis": {
             "endlinecolor": "#A2B1C6",
             "gridcolor": "#506784",
             "linecolor": "#506784",
             "minorgridcolor": "#506784",
             "startlinecolor": "#A2B1C6"
            },
            "baxis": {
             "endlinecolor": "#A2B1C6",
             "gridcolor": "#506784",
             "linecolor": "#506784",
             "minorgridcolor": "#506784",
             "startlinecolor": "#A2B1C6"
            },
            "type": "carpet"
           }
          ],
          "table": [
           {
            "cells": {
             "fill": {
              "color": "#506784"
             },
             "line": {
              "color": "rgb(17,17,17)"
             }
            },
            "header": {
             "fill": {
              "color": "#2a3f5f"
             },
             "line": {
              "color": "rgb(17,17,17)"
             }
            },
            "type": "table"
           }
          ],
          "barpolar": [
           {
            "marker": {
             "line": {
              "color": "rgb(17,17,17)",
              "width": 0.5
             },
             "pattern": {
              "fillmode": "overlay",
              "size": 10,
              "solidity": 0.2
             }
            },
            "type": "barpolar"
           }
          ],
          "pie": [
           {
            "automargin": true,
            "type": "pie"
           }
          ]
         },
         "layout": {
          "autotypenumbers": "strict",
          "colorway": [
           "#636efa",
           "#EF553B",
           "#00cc96",
           "#ab63fa",
           "#FFA15A",
           "#19d3f3",
           "#FF6692",
           "#B6E880",
           "#FF97FF",
           "#FECB52"
          ],
          "font": {
           "color": "#f2f5fa"
          },
          "hovermode": "closest",
          "hoverlabel": {
           "align": "left"
          },
          "paper_bgcolor": "rgb(17,17,17)",
          "plot_bgcolor": "rgb(17,17,17)",
          "polar": {
           "bgcolor": "rgb(17,17,17)",
           "angularaxis": {
            "gridcolor": "#506784",
            "linecolor": "#506784",
            "ticks": ""
           },
           "radialaxis": {
            "gridcolor": "#506784",
            "linecolor": "#506784",
            "ticks": ""
           }
          },
          "ternary": {
           "bgcolor": "rgb(17,17,17)",
           "aaxis": {
            "gridcolor": "#506784",
            "linecolor": "#506784",
            "ticks": ""
           },
           "baxis": {
            "gridcolor": "#506784",
            "linecolor": "#506784",
            "ticks": ""
           },
           "caxis": {
            "gridcolor": "#506784",
            "linecolor": "#506784",
            "ticks": ""
           }
          },
          "coloraxis": {
           "colorbar": {
            "outlinewidth": 0,
            "ticks": ""
           }
          },
          "colorscale": {
           "sequential": [
            [
             0.0,
             "#0d0887"
            ],
            [
             0.1111111111111111,
             "#46039f"
            ],
            [
             0.2222222222222222,
             "#7201a8"
            ],
            [
             0.3333333333333333,
             "#9c179e"
            ],
            [
             0.4444444444444444,
             "#bd3786"
            ],
            [
             0.5555555555555556,
             "#d8576b"
            ],
            [
             0.6666666666666666,
             "#ed7953"
            ],
            [
             0.7777777777777778,
             "#fb9f3a"
            ],
            [
             0.8888888888888888,
             "#fdca26"
            ],
            [
             1.0,
             "#f0f921"
            ]
           ],
           "sequentialminus": [
            [
             0.0,
             "#0d0887"
            ],
            [
             0.1111111111111111,
             "#46039f"
            ],
            [
             0.2222222222222222,
             "#7201a8"
            ],
            [
             0.3333333333333333,
             "#9c179e"
            ],
            [
             0.4444444444444444,
             "#bd3786"
            ],
            [
             0.5555555555555556,
             "#d8576b"
            ],
            [
             0.6666666666666666,
             "#ed7953"
            ],
            [
             0.7777777777777778,
             "#fb9f3a"
            ],
            [
             0.8888888888888888,
             "#fdca26"
            ],
            [
             1.0,
             "#f0f921"
            ]
           ],
           "diverging": [
            [
             0,
             "#8e0152"
            ],
            [
             0.1,
             "#c51b7d"
            ],
            [
             0.2,
             "#de77ae"
            ],
            [
             0.3,
             "#f1b6da"
            ],
            [
             0.4,
             "#fde0ef"
            ],
            [
             0.5,
             "#f7f7f7"
            ],
            [
             0.6,
             "#e6f5d0"
            ],
            [
             0.7,
             "#b8e186"
            ],
            [
             0.8,
             "#7fbc41"
            ],
            [
             0.9,
             "#4d9221"
            ],
            [
             1,
             "#276419"
            ]
           ]
          },
          "xaxis": {
           "gridcolor": "#283442",
           "linecolor": "#506784",
           "ticks": "",
           "title": {
            "standoff": 15
           },
           "zerolinecolor": "#283442",
           "automargin": true,
           "zerolinewidth": 2
          },
          "yaxis": {
           "gridcolor": "#283442",
           "linecolor": "#506784",
           "ticks": "",
           "title": {
            "standoff": 15
           },
           "zerolinecolor": "#283442",
           "automargin": true,
           "zerolinewidth": 2
          },
          "scene": {
           "xaxis": {
            "backgroundcolor": "rgb(17,17,17)",
            "gridcolor": "#506784",
            "linecolor": "#506784",
            "showbackground": true,
            "ticks": "",
            "zerolinecolor": "#C8D4E3",
            "gridwidth": 2
           },
           "yaxis": {
            "backgroundcolor": "rgb(17,17,17)",
            "gridcolor": "#506784",
            "linecolor": "#506784",
            "showbackground": true,
            "ticks": "",
            "zerolinecolor": "#C8D4E3",
            "gridwidth": 2
           },
           "zaxis": {
            "backgroundcolor": "rgb(17,17,17)",
            "gridcolor": "#506784",
            "linecolor": "#506784",
            "showbackground": true,
            "ticks": "",
            "zerolinecolor": "#C8D4E3",
            "gridwidth": 2
           }
          },
          "shapedefaults": {
           "line": {
            "color": "#f2f5fa"
           }
          },
          "annotationdefaults": {
           "arrowcolor": "#f2f5fa",
           "arrowhead": 0,
           "arrowwidth": 1
          },
          "geo": {
           "bgcolor": "rgb(17,17,17)",
           "landcolor": "rgb(17,17,17)",
           "subunitcolor": "#506784",
           "showland": true,
           "showlakes": true,
           "lakecolor": "rgb(17,17,17)"
          },
          "title": {
           "x": 0.05
          },
          "updatemenudefaults": {
           "bgcolor": "#506784",
           "borderwidth": 0
          },
          "sliderdefaults": {
           "bgcolor": "#C8D4E3",
           "borderwidth": 1,
           "bordercolor": "rgb(17,17,17)",
           "tickwidth": 0
          },
          "mapbox": {
           "style": "dark"
          }
         }
        },
        "xaxis": {
         "anchor": "y",
         "domain": [
          0.0,
          1.0
         ],
         "title": {
          "text": "price_range"
         }
        },
        "yaxis": {
         "anchor": "x",
         "domain": [
          0.0,
          1.0
         ],
         "title": {
          "text": "pixel_width"
         }
        },
        "legend": {
         "tracegroupgap": 0
        },
        "title": {
         "text": "pixel_width by price"
        },
        "boxmode": "group"
       },
       "config": {
        "plotlyServerURL": "https://plot.ly"
       }
      }
     },
     "metadata": {},
     "output_type": "display_data",
     "jetTransient": {
      "display_id": null
     }
    }
   ],
   "execution_count": 17
  },
  {
   "metadata": {
    "ExecuteTime": {
     "end_time": "2025-10-01T13:37:25.200712Z",
     "start_time": "2025-10-01T13:37:25.168414Z"
    }
   },
   "cell_type": "code",
   "source": [
    "# 5. Correlation heatmap\n",
    "corr = df.corr()\n",
    "fig = px.imshow(corr, text_auto='.2f', title='Correlation Matrix')\n",
    "fig.show()\n",
    "\n",
    "print(\"\\nCorrelation with price:\")\n",
    "print(corr['price_range'].sort_values(ascending=False))\n"
   ],
   "id": "61a7f750dd592f5",
   "outputs": [
    {
     "data": {
      "application/vnd.plotly.v1+json": {
       "data": [
        {
         "coloraxis": "coloraxis",
         "name": "0",
         "texttemplate": "%{z:.2f}",
         "x": [
          "battery_power",
          "bluetooth",
          "weight",
          "memory",
          "n_cores",
          "ram",
          "dual_sim",
          "wifi",
          "pixel_height",
          "pixel_width",
          "price_range"
         ],
         "y": [
          "battery_power",
          "bluetooth",
          "weight",
          "memory",
          "n_cores",
          "ram",
          "dual_sim",
          "wifi",
          "pixel_height",
          "pixel_width",
          "price_range"
         ],
         "z": {
          "dtype": "f8",
          "bdata": "AAAAAAAA8D9Xpa9JPsrQP9SU+ctW5ZI/6qIDbAJY0T/cql0hKJnJP2OoGoInJNU/5G7+SJa+lb/2Eecc1EVsP/nb8xcy17C/z/SnnJQk0T9A++IS8uLSP1elr0k+ytA/AAAAAAAA8D9dz7g6eFOHPx7eekoPFNM/H0stYyotzz87IXXX9NXVP88nzmxyqaA/BpoPhkECeb9nu9nT/+K0vxv5kMbwwc4/+Tje/khEwj/UlPnLVuWSP13PuDp4U4c/AAAAAAAA8D9QqlcajpVuv1lmbJ9AiHM/RXpgFegYlz81BFbSffx5v9/8Fk8Es3K/Nf1yzGTbYj9RT0INlpuUP2MRa21oxpC/6qIDbAJY0T8e3npKDxTTP1CqVxqOlW6/AAAAAAAA8D/bQpzfIX/LP6ZWWbR8qdc/eyIK65BbZ79R9fBPWx2OPz0XcHxktbK/yYr8yCkN0j8+943bZ+3FP9yqXSEomck/H0stYyotzz9ZZmyfQIhzP9tCnN8hf8s/AAAAAAAA8D8ptN/L1GrSPx6VhQJ/XYe/jruso45XcD9wa9pvTMKxv1vwslmN3s8/Bvo+2Gr4vD9jqBqCJyTVPzshddf01dU/RXpgFegYlz+mVlm0fKnXPym038vUatI/AAAAAAAA8D9uCPvI+z+jP+ozqqoYYpk/fDEuWw0Cvb9fvpoZeW/WP8OYTsMkcuo/5G7+SJa+lb/PJ85scqmgPzUEVtJ9/Hm/eyIK65BbZ78elYUCf12Hv24I+8j7P6M/AAAAAAAA8D/NXb3GHE6SP8+yUXfIpZC/LDBhDu+Cjj8u834r2g2SP/YR5xzURWw/BpoPhkECeb/f/BZPBLNyv1H18E9bHY4/jruso45XcD/qM6qqGGKZP81dvcYcTpI/AAAAAAAA8D86rTjWRaWiP6612aGYGKA/0Rh76q71kz/52/MXMtewv2e72dP/4rS/Nf1yzGTbYj89F3B8ZLWyv3Br2m9MwrG/fDEuWw0Cvb/PslF3yKWQvzqtONZFpaI/AAAAAAAA8D9dbU8I1P7RP5MdhrKABrg/z/SnnJQk0T8b+ZDG8MHOP1FPQg2Wm5Q/yYr8yCkN0j9b8LJZjd7PP1++mhl5b9Y/LDBhDu+Cjj+utdmhmBigP11tTwjU/tE/AAAAAAAA8D/xSTZGnoTQP0D74hLy4tI/+Tje/khEwj9jEWttaMaQvz73jdtn7cU/Bvo+2Gr4vD/DmE7DJHLqPy7zfivaDZI/0Rh76q71kz+THYaygAa4P/FJNkaehNA/AAAAAAAA8D8=",
          "shape": "11, 11"
         },
         "type": "heatmap",
         "xaxis": "x",
         "yaxis": "y",
         "hovertemplate": "x: %{x}<br>y: %{y}<br>color: %{z}<extra></extra>"
        }
       ],
       "layout": {
        "template": {
         "data": {
          "histogram2dcontour": [
           {
            "type": "histogram2dcontour",
            "colorbar": {
             "outlinewidth": 0,
             "ticks": ""
            },
            "colorscale": [
             [
              0.0,
              "#0d0887"
             ],
             [
              0.1111111111111111,
              "#46039f"
             ],
             [
              0.2222222222222222,
              "#7201a8"
             ],
             [
              0.3333333333333333,
              "#9c179e"
             ],
             [
              0.4444444444444444,
              "#bd3786"
             ],
             [
              0.5555555555555556,
              "#d8576b"
             ],
             [
              0.6666666666666666,
              "#ed7953"
             ],
             [
              0.7777777777777778,
              "#fb9f3a"
             ],
             [
              0.8888888888888888,
              "#fdca26"
             ],
             [
              1.0,
              "#f0f921"
             ]
            ]
           }
          ],
          "choropleth": [
           {
            "type": "choropleth",
            "colorbar": {
             "outlinewidth": 0,
             "ticks": ""
            }
           }
          ],
          "histogram2d": [
           {
            "type": "histogram2d",
            "colorbar": {
             "outlinewidth": 0,
             "ticks": ""
            },
            "colorscale": [
             [
              0.0,
              "#0d0887"
             ],
             [
              0.1111111111111111,
              "#46039f"
             ],
             [
              0.2222222222222222,
              "#7201a8"
             ],
             [
              0.3333333333333333,
              "#9c179e"
             ],
             [
              0.4444444444444444,
              "#bd3786"
             ],
             [
              0.5555555555555556,
              "#d8576b"
             ],
             [
              0.6666666666666666,
              "#ed7953"
             ],
             [
              0.7777777777777778,
              "#fb9f3a"
             ],
             [
              0.8888888888888888,
              "#fdca26"
             ],
             [
              1.0,
              "#f0f921"
             ]
            ]
           }
          ],
          "heatmap": [
           {
            "type": "heatmap",
            "colorbar": {
             "outlinewidth": 0,
             "ticks": ""
            },
            "colorscale": [
             [
              0.0,
              "#0d0887"
             ],
             [
              0.1111111111111111,
              "#46039f"
             ],
             [
              0.2222222222222222,
              "#7201a8"
             ],
             [
              0.3333333333333333,
              "#9c179e"
             ],
             [
              0.4444444444444444,
              "#bd3786"
             ],
             [
              0.5555555555555556,
              "#d8576b"
             ],
             [
              0.6666666666666666,
              "#ed7953"
             ],
             [
              0.7777777777777778,
              "#fb9f3a"
             ],
             [
              0.8888888888888888,
              "#fdca26"
             ],
             [
              1.0,
              "#f0f921"
             ]
            ]
           }
          ],
          "contourcarpet": [
           {
            "type": "contourcarpet",
            "colorbar": {
             "outlinewidth": 0,
             "ticks": ""
            }
           }
          ],
          "contour": [
           {
            "type": "contour",
            "colorbar": {
             "outlinewidth": 0,
             "ticks": ""
            },
            "colorscale": [
             [
              0.0,
              "#0d0887"
             ],
             [
              0.1111111111111111,
              "#46039f"
             ],
             [
              0.2222222222222222,
              "#7201a8"
             ],
             [
              0.3333333333333333,
              "#9c179e"
             ],
             [
              0.4444444444444444,
              "#bd3786"
             ],
             [
              0.5555555555555556,
              "#d8576b"
             ],
             [
              0.6666666666666666,
              "#ed7953"
             ],
             [
              0.7777777777777778,
              "#fb9f3a"
             ],
             [
              0.8888888888888888,
              "#fdca26"
             ],
             [
              1.0,
              "#f0f921"
             ]
            ]
           }
          ],
          "surface": [
           {
            "type": "surface",
            "colorbar": {
             "outlinewidth": 0,
             "ticks": ""
            },
            "colorscale": [
             [
              0.0,
              "#0d0887"
             ],
             [
              0.1111111111111111,
              "#46039f"
             ],
             [
              0.2222222222222222,
              "#7201a8"
             ],
             [
              0.3333333333333333,
              "#9c179e"
             ],
             [
              0.4444444444444444,
              "#bd3786"
             ],
             [
              0.5555555555555556,
              "#d8576b"
             ],
             [
              0.6666666666666666,
              "#ed7953"
             ],
             [
              0.7777777777777778,
              "#fb9f3a"
             ],
             [
              0.8888888888888888,
              "#fdca26"
             ],
             [
              1.0,
              "#f0f921"
             ]
            ]
           }
          ],
          "mesh3d": [
           {
            "type": "mesh3d",
            "colorbar": {
             "outlinewidth": 0,
             "ticks": ""
            }
           }
          ],
          "scatter": [
           {
            "marker": {
             "line": {
              "color": "#283442"
             }
            },
            "type": "scatter"
           }
          ],
          "parcoords": [
           {
            "type": "parcoords",
            "line": {
             "colorbar": {
              "outlinewidth": 0,
              "ticks": ""
             }
            }
           }
          ],
          "scatterpolargl": [
           {
            "type": "scatterpolargl",
            "marker": {
             "colorbar": {
              "outlinewidth": 0,
              "ticks": ""
             }
            }
           }
          ],
          "bar": [
           {
            "error_x": {
             "color": "#f2f5fa"
            },
            "error_y": {
             "color": "#f2f5fa"
            },
            "marker": {
             "line": {
              "color": "rgb(17,17,17)",
              "width": 0.5
             },
             "pattern": {
              "fillmode": "overlay",
              "size": 10,
              "solidity": 0.2
             }
            },
            "type": "bar"
           }
          ],
          "scattergeo": [
           {
            "type": "scattergeo",
            "marker": {
             "colorbar": {
              "outlinewidth": 0,
              "ticks": ""
             }
            }
           }
          ],
          "scatterpolar": [
           {
            "type": "scatterpolar",
            "marker": {
             "colorbar": {
              "outlinewidth": 0,
              "ticks": ""
             }
            }
           }
          ],
          "histogram": [
           {
            "marker": {
             "pattern": {
              "fillmode": "overlay",
              "size": 10,
              "solidity": 0.2
             }
            },
            "type": "histogram"
           }
          ],
          "scattergl": [
           {
            "marker": {
             "line": {
              "color": "#283442"
             }
            },
            "type": "scattergl"
           }
          ],
          "scatter3d": [
           {
            "type": "scatter3d",
            "line": {
             "colorbar": {
              "outlinewidth": 0,
              "ticks": ""
             }
            },
            "marker": {
             "colorbar": {
              "outlinewidth": 0,
              "ticks": ""
             }
            }
           }
          ],
          "scattermap": [
           {
            "type": "scattermap",
            "marker": {
             "colorbar": {
              "outlinewidth": 0,
              "ticks": ""
             }
            }
           }
          ],
          "scattermapbox": [
           {
            "type": "scattermapbox",
            "marker": {
             "colorbar": {
              "outlinewidth": 0,
              "ticks": ""
             }
            }
           }
          ],
          "scatterternary": [
           {
            "type": "scatterternary",
            "marker": {
             "colorbar": {
              "outlinewidth": 0,
              "ticks": ""
             }
            }
           }
          ],
          "scattercarpet": [
           {
            "type": "scattercarpet",
            "marker": {
             "colorbar": {
              "outlinewidth": 0,
              "ticks": ""
             }
            }
           }
          ],
          "carpet": [
           {
            "aaxis": {
             "endlinecolor": "#A2B1C6",
             "gridcolor": "#506784",
             "linecolor": "#506784",
             "minorgridcolor": "#506784",
             "startlinecolor": "#A2B1C6"
            },
            "baxis": {
             "endlinecolor": "#A2B1C6",
             "gridcolor": "#506784",
             "linecolor": "#506784",
             "minorgridcolor": "#506784",
             "startlinecolor": "#A2B1C6"
            },
            "type": "carpet"
           }
          ],
          "table": [
           {
            "cells": {
             "fill": {
              "color": "#506784"
             },
             "line": {
              "color": "rgb(17,17,17)"
             }
            },
            "header": {
             "fill": {
              "color": "#2a3f5f"
             },
             "line": {
              "color": "rgb(17,17,17)"
             }
            },
            "type": "table"
           }
          ],
          "barpolar": [
           {
            "marker": {
             "line": {
              "color": "rgb(17,17,17)",
              "width": 0.5
             },
             "pattern": {
              "fillmode": "overlay",
              "size": 10,
              "solidity": 0.2
             }
            },
            "type": "barpolar"
           }
          ],
          "pie": [
           {
            "automargin": true,
            "type": "pie"
           }
          ]
         },
         "layout": {
          "autotypenumbers": "strict",
          "colorway": [
           "#636efa",
           "#EF553B",
           "#00cc96",
           "#ab63fa",
           "#FFA15A",
           "#19d3f3",
           "#FF6692",
           "#B6E880",
           "#FF97FF",
           "#FECB52"
          ],
          "font": {
           "color": "#f2f5fa"
          },
          "hovermode": "closest",
          "hoverlabel": {
           "align": "left"
          },
          "paper_bgcolor": "rgb(17,17,17)",
          "plot_bgcolor": "rgb(17,17,17)",
          "polar": {
           "bgcolor": "rgb(17,17,17)",
           "angularaxis": {
            "gridcolor": "#506784",
            "linecolor": "#506784",
            "ticks": ""
           },
           "radialaxis": {
            "gridcolor": "#506784",
            "linecolor": "#506784",
            "ticks": ""
           }
          },
          "ternary": {
           "bgcolor": "rgb(17,17,17)",
           "aaxis": {
            "gridcolor": "#506784",
            "linecolor": "#506784",
            "ticks": ""
           },
           "baxis": {
            "gridcolor": "#506784",
            "linecolor": "#506784",
            "ticks": ""
           },
           "caxis": {
            "gridcolor": "#506784",
            "linecolor": "#506784",
            "ticks": ""
           }
          },
          "coloraxis": {
           "colorbar": {
            "outlinewidth": 0,
            "ticks": ""
           }
          },
          "colorscale": {
           "sequential": [
            [
             0.0,
             "#0d0887"
            ],
            [
             0.1111111111111111,
             "#46039f"
            ],
            [
             0.2222222222222222,
             "#7201a8"
            ],
            [
             0.3333333333333333,
             "#9c179e"
            ],
            [
             0.4444444444444444,
             "#bd3786"
            ],
            [
             0.5555555555555556,
             "#d8576b"
            ],
            [
             0.6666666666666666,
             "#ed7953"
            ],
            [
             0.7777777777777778,
             "#fb9f3a"
            ],
            [
             0.8888888888888888,
             "#fdca26"
            ],
            [
             1.0,
             "#f0f921"
            ]
           ],
           "sequentialminus": [
            [
             0.0,
             "#0d0887"
            ],
            [
             0.1111111111111111,
             "#46039f"
            ],
            [
             0.2222222222222222,
             "#7201a8"
            ],
            [
             0.3333333333333333,
             "#9c179e"
            ],
            [
             0.4444444444444444,
             "#bd3786"
            ],
            [
             0.5555555555555556,
             "#d8576b"
            ],
            [
             0.6666666666666666,
             "#ed7953"
            ],
            [
             0.7777777777777778,
             "#fb9f3a"
            ],
            [
             0.8888888888888888,
             "#fdca26"
            ],
            [
             1.0,
             "#f0f921"
            ]
           ],
           "diverging": [
            [
             0,
             "#8e0152"
            ],
            [
             0.1,
             "#c51b7d"
            ],
            [
             0.2,
             "#de77ae"
            ],
            [
             0.3,
             "#f1b6da"
            ],
            [
             0.4,
             "#fde0ef"
            ],
            [
             0.5,
             "#f7f7f7"
            ],
            [
             0.6,
             "#e6f5d0"
            ],
            [
             0.7,
             "#b8e186"
            ],
            [
             0.8,
             "#7fbc41"
            ],
            [
             0.9,
             "#4d9221"
            ],
            [
             1,
             "#276419"
            ]
           ]
          },
          "xaxis": {
           "gridcolor": "#283442",
           "linecolor": "#506784",
           "ticks": "",
           "title": {
            "standoff": 15
           },
           "zerolinecolor": "#283442",
           "automargin": true,
           "zerolinewidth": 2
          },
          "yaxis": {
           "gridcolor": "#283442",
           "linecolor": "#506784",
           "ticks": "",
           "title": {
            "standoff": 15
           },
           "zerolinecolor": "#283442",
           "automargin": true,
           "zerolinewidth": 2
          },
          "scene": {
           "xaxis": {
            "backgroundcolor": "rgb(17,17,17)",
            "gridcolor": "#506784",
            "linecolor": "#506784",
            "showbackground": true,
            "ticks": "",
            "zerolinecolor": "#C8D4E3",
            "gridwidth": 2
           },
           "yaxis": {
            "backgroundcolor": "rgb(17,17,17)",
            "gridcolor": "#506784",
            "linecolor": "#506784",
            "showbackground": true,
            "ticks": "",
            "zerolinecolor": "#C8D4E3",
            "gridwidth": 2
           },
           "zaxis": {
            "backgroundcolor": "rgb(17,17,17)",
            "gridcolor": "#506784",
            "linecolor": "#506784",
            "showbackground": true,
            "ticks": "",
            "zerolinecolor": "#C8D4E3",
            "gridwidth": 2
           }
          },
          "shapedefaults": {
           "line": {
            "color": "#f2f5fa"
           }
          },
          "annotationdefaults": {
           "arrowcolor": "#f2f5fa",
           "arrowhead": 0,
           "arrowwidth": 1
          },
          "geo": {
           "bgcolor": "rgb(17,17,17)",
           "landcolor": "rgb(17,17,17)",
           "subunitcolor": "#506784",
           "showland": true,
           "showlakes": true,
           "lakecolor": "rgb(17,17,17)"
          },
          "title": {
           "x": 0.05
          },
          "updatemenudefaults": {
           "bgcolor": "#506784",
           "borderwidth": 0
          },
          "sliderdefaults": {
           "bgcolor": "#C8D4E3",
           "borderwidth": 1,
           "bordercolor": "rgb(17,17,17)",
           "tickwidth": 0
          },
          "mapbox": {
           "style": "dark"
          }
         }
        },
        "xaxis": {
         "anchor": "y",
         "domain": [
          0.0,
          1.0
         ],
         "scaleanchor": "y",
         "constrain": "domain"
        },
        "yaxis": {
         "anchor": "x",
         "domain": [
          0.0,
          1.0
         ],
         "autorange": "reversed",
         "constrain": "domain"
        },
        "coloraxis": {
         "colorscale": [
          [
           0.0,
           "#0d0887"
          ],
          [
           0.1111111111111111,
           "#46039f"
          ],
          [
           0.2222222222222222,
           "#7201a8"
          ],
          [
           0.3333333333333333,
           "#9c179e"
          ],
          [
           0.4444444444444444,
           "#bd3786"
          ],
          [
           0.5555555555555556,
           "#d8576b"
          ],
          [
           0.6666666666666666,
           "#ed7953"
          ],
          [
           0.7777777777777778,
           "#fb9f3a"
          ],
          [
           0.8888888888888888,
           "#fdca26"
          ],
          [
           1.0,
           "#f0f921"
          ]
         ]
        },
        "title": {
         "text": "Correlation Matrix"
        }
       },
       "config": {
        "plotlyServerURL": "https://plot.ly"
       }
      }
     },
     "metadata": {},
     "output_type": "display_data",
     "jetTransient": {
      "display_id": null
     }
    },
    {
     "name": "stdout",
     "output_type": "stream",
     "text": [
      "\n",
      "Correlation with price:\n",
      "price_range      1.000000\n",
      "ram              0.826434\n",
      "battery_power    0.295102\n",
      "pixel_width      0.258094\n",
      "memory           0.171308\n",
      "bluetooth        0.142709\n",
      "n_cores          0.113166\n",
      "pixel_height     0.093849\n",
      "wifi             0.019492\n",
      "dual_sim         0.017631\n",
      "weight          -0.016382\n",
      "Name: price_range, dtype: float64\n"
     ]
    }
   ],
   "execution_count": 18
  },
  {
   "metadata": {
    "ExecuteTime": {
     "end_time": "2025-10-01T13:37:25.251177Z",
     "start_time": "2025-10-01T13:37:25.207418Z"
    }
   },
   "cell_type": "code",
   "source": [
    "# 6. RAM by price (most important)\n",
    "fig = px.histogram(df, x='ram', color='price_range',\n",
    "                   title='RAM by Price Range',\n",
    "                   barmode='overlay', opacity=0.7)\n",
    "fig.show()\n"
   ],
   "id": "1918007ca3f72dcb",
   "outputs": [
    {
     "data": {
      "application/vnd.plotly.v1+json": {
       "data": [
        {
         "bingroup": "x",
         "hovertemplate": "price_range=1<br>ram=%{x}<br>count=%{y}<extra></extra>",
         "legendgroup": "1",
         "marker": {
          "color": "#636efa",
          "opacity": 0.7,
          "pattern": {
           "shape": ""
          }
         },
         "name": "1",
         "orientation": "v",
         "showlegend": true,
         "x": {
          "dtype": "i2",
          "bdata": "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"
         },
         "xaxis": "x",
         "yaxis": "y",
         "type": "histogram"
        },
        {
         "bingroup": "x",
         "hovertemplate": "price_range=2<br>ram=%{x}<br>count=%{y}<extra></extra>",
         "legendgroup": "2",
         "marker": {
          "color": "#EF553B",
          "opacity": 0.7,
          "pattern": {
           "shape": ""
          }
         },
         "name": "2",
         "orientation": "v",
         "showlegend": true,
         "x": {
          "dtype": "i2",
          "bdata": "RworCtEKeAreCkUJYQxmCLQJCwgFCFwL+AleC2QIiwuQCCEKugoeCbMHQQZuDHMMJgq4CS8LkgsiCYwKLAVWCdwIlQtjCIELpQsNCQII+wwMCIEIGgshCZcGwwgcC7MIgQbICXUKwwioCwsKOwgcC20KSQmaCbgM6A0HCbUGqgtaCaELigocCR0KHgmzBJkLdwbuBtAKtAwQC8QJ8QpDDJIHcQxBCXoLJwunCp0LAwofDegIbws4Cn4K2wmbCxQJMQzZDk8L5An5BWMJ9gq/CM8Jrgq8CUoIfQ7NC8UGxAo0CjoJMgofCRMJ2wzNCiQIAAgcDKgKuAmgCDIKAwujB6ILcgogCX4JKAuPCYcLRQ7TBwsOLgpgCyMJaQfFDEUL2QqhBGEM8QpRDF0NlwpgCLYLyQgNDjwM3QzbC3MKTgmFCRALMAoACc4MhwioBg4K5gVBDa8KcQ2WCvoIZgkeCAgJ+QiICWgMqQmfDXIH5AeJCw4KEQplCTENlQu8COgLtA73CLUH9Qk2CgoLwAl8CLcJ5AkEDOkFvgs1BboLTQtfCnYLSQvJB8YIpQwNCXYMIglJDiAIBgz4CRsNsAfzCa8Kfgv8CqkNMQWbB84HeAY2C4IN3AnkBAANngmFCaULTAwNC0UJfQi9Ca8Lkw6ACw8Mmww+CnUG2gsxCtkI1wo2Cu4HjgvwCh4M3Ah9CLoKygV2CKUJDwp0CvUGyAhVCQUMRAkOCoYJcgrWCA0LDQp2CjML9wuvCVoJ/goLCdcJvAyrCL8JgAs5CfcGEAtMDzELnwrEC1EJPgghDBkP8AruCFgJ6QxLCgMKRQ2hC0IIsQntDaYHlgkCCkgK+gmhC1IITgoDC5IKSgmMDE0JagxMCt4HlgWYCTgJPAonDgwJwQyMCkMIIwYXCmML5goJDgcJTgnyCvoL1glbCp4L2AlMB24LcgrCCqsIIwY7CO4NBQsUB0QN4AmNCFQKGAhDClkI+wjDC00KyAiBB3cJegaGCIgIsgqiCm8Mpw1YClcKLAd2CngJBgwACTAIvgrmCOEIMwkYCUUNMgxxCwQIEQqKBx4J0gghB3YKSA2MCjcM1gnTCWoKnwa2DQsM9wbgCSUJ4QofDloH0wfXBiYLKwxMBs4HJwthBtkJYgqOCM8GGAewC7EMqgylCpYJnAlBCooK9Al8C8UKFgwjCdUMEgkgDB8L0AhWBlwLmwq4CW8LUwjyDKIJqQkjCGUKogmECwwKwwxhBmIJhAtJCqYHFw2wDNoJXQcyCicJ4wq/CVcJ3gpbCnEHJQdICYYKkwjKCRkIEQlpDWwKlAnCCZcK5wc2CQkJsAzwBw=="
         },
         "xaxis": "x",
         "yaxis": "y",
         "type": "histogram"
        },
        {
         "bingroup": "x",
         "hovertemplate": "price_range=3<br>ram=%{x}<br>count=%{y}<extra></extra>",
         "legendgroup": "3",
         "marker": {
          "color": "#00cc96",
          "opacity": 0.7,
          "pattern": {
           "shape": ""
          }
         },
         "name": "3",
         "orientation": "v",
         "showlegend": true,
         "x": {
          "dtype": "i2",
          "bdata": "lAxqD/IO4g2oDgML0wyzDtYMzA0FD2UNCw0DDqYMKAx7DyYN/Av6DpkPMg19DngNiA2cDYoMBgsgDigKdAolCtULJwmQDTcLqgzODWINtwzZDtcO8Q5lDuQN1w7lDXYOeA6eCboOVg+uCX0PbQ58C/oOEA6DDxsNLQ7nDS0MBA/8Do4L1ws8Dc4K7gvPDqsOBg94DtgOGA3HDNEJDgywDvgNaQ9ZDEwO7g5SDwYLGA75DFcPog0fDpsOGQ/zC3sNKQ6CChkPcw5jC8AMsQvuCU0PBQ2TDUQOGQxODx0PZA6BDzsMjwz7DFsNQA4yD/4OYQ8UDdcKigx1DlMNSw/pDqYLRA5zDxQPLg7IDKANeQ91DjwOWA4zDhgP7g1YDdsOhA5+DcEOmAqADzcNzgyCD9gKLg9DDHAPZQw5DK0NhQ2GDIUOTQ/XCu0MFw6IDpsNLQ0pDwAMEA9ZDuEOQQxPDkcOJg7hDrsOyg7NDQMOKw20DUoPmgwmD04Ndw93DoIOUAu2DMUJsg7HC4QM7wq8DjYLIw6BDtYOKgs7DXcNqw4gD8wKTA8+D0oPoQz8DpkNlw+iDmUPgg9VD4wO+w5ICW4NIQ3PDbAKfQsIDdQORg7zDM4NXQyNDJ4NHg1VDhwO7AkdD1QNmw0IDvUN8A3mDCwPNA85D1wOeQ0ODscMLww/Dp4P9Qy0DkULgg3LC9INjg5ID8UMZQ9GDBcPsg2QD50LKA7AChwP4wxRCoYJoA7ADdQOoQ6ZCXkOvQ7RDVoM4Aq6ClgO+Q6+DIUKSgtnDREOngw+DhYPKQtHDH0MpwrOC/UMZA+NDeQMFAuYC7IO2QthDlEMNQ58D94LQA13DhMPvAxsDWANIQxRDIkNPA8tDCYNAAqgDSYOdw7wCx0PRgx0Dr4OTw0+D/MNiQw+DjoMyA4tD50Lqw1LD0gMDA2UDKANsAosDUENMgqJDpANXw1sD3sOvg1yDXUPVQ8wDmQLew75DXAOuw5lDkYMbA4BDHYPBw80DzgL4Ax1C1IMHw7rDfYIyQ5bDjYPgAtgDW8KRA2+DR4NhgxvDqMMag8vDx4O8wrsDUYOWg+UDaoMbg2mDdIMLQ47D7gMsQ4aDtALCg2RDSAPJgpBD/oMuwyXD+MNUw3VDW0N+AtYCdQMAg3sDZ4Otw1+D5wNXQ+pDKkNZA4CDoQMigyWDy0MlwvTCGkLPAwiDTQMggxfDJgN8gycDwUPww5ADzANew3BDQMK2Qt+Dd4LmA5nD0cP4QxFDDMJhgz/DhYOVw+sDogM8A0BDnMJog5TDCsP3A23DkYOIAxmDaYJCw9FC0YM+w16D4oP8QtPDw=="
         },
         "xaxis": "x",
         "yaxis": "y",
         "type": "histogram"
        },
        {
         "bingroup": "x",
         "hovertemplate": "price_range=0<br>ram=%{x}<br>count=%{y}<extra></extra>",
         "legendgroup": "0",
         "marker": {
          "color": "#ab63fa",
          "opacity": 0.7,
          "pattern": {
           "shape": ""
          }
         },
         "name": "0",
         "orientation": "v",
         "showlegend": true,
         "x": {
          "dtype": "i2",
          "bdata": "vAJLBAECdQE4Ag0E3gH8Ae4E+AH2BIkDrwHWARoEiAFOAosDqQVWA4IFXQFwA4QFFwS0BBYD6AGaAhwBkwWOARYB+QF2AfoB6gEYAtgCwAX8Ah0DFgSyAv4DxwLSA1ECTAJxAsMC0AIWAT0DnQQ/AhQCMgTNAQ8C1AG6BKEBJgG/AZoCtgS4AzcB1QLKAssClwJCA4sCHAMRA7EEGwSUAzsD2QFsAb4FGgTCAlABogGGBbYHRgIoA2IEcALJAbYBHASXBC0B6QETBD8FcgRcAgIBKgSzBZYDTgLPAa0BxwRXAYMEZQNPAj4CewPYAi4DvQKmBc8C3AMEBL0BMQRdA/kD1APpBPcC2wFiBMECNQI8AcABzgGNBPACGQVeAjQEDwN3BsEDAgKlAzgD5gS2AxEBYgTDAu8CxAGLBckDxwbjA3kEcgIpAZsBmQLkAlEBzQQIAt4DsQGCAwIDMQFoAqMB+AGIATQDewUuAZQBUwJ/BkYExgOJA2sBHgL9ARoBqAEEBRUB5QGiAX4FdQKkAh4BCAPMAqgBgwJJBk4CAwauA1wCAwKOAv0BawLVAqEEjwOQAlwD+gNQBb8CRgKUBDwB5wNNAp4CSAL7BDUBQwGhAZsC+gOmA1wBJgLLAzoCIgK5BLMDzAVbAQQEoQO7BP8BhgVQAUcERQHHBGQBCwLNBEsCMANrApADGQMwAjgBIQJ9AzMDzQShApkDhwG5AV4HrwJ3A44BbQIvAzgCOAQzBN8CrgXNAdYBowNABfUCUgLTAVkBagPhAjsBiwW/A4AD5QFJAwYBEgIDAbACOwKSAW4DxgHHAZEBqQL9AVEEOwUdAd0C9ALRAVMDFAVqAbUBuAKoBnABvwUpBUEC7wK0AdICMwSTAS0EkQIuBUMB+wIYAwIBDAPIAvQDPgF1AokEewUZBdcBUgLtAzsEUQIEBSECvARcAdQDRgN6AY0DXAGXAsEDEwLWAq0CPgXnA0sBpgGwAYAEFwUdAyoBOwHOATkGRAErArMBvgIXBcgBrQMuAkEFqQELARoEcAKcAVMCBwF/ArQBMQMfAl4DvQM5AX0EmANpATUEAAIjAQwC0AHSBCQBSwJvAzICOgU7AUoCJAMPBXUDFARlBg8DAAFjA2ECYgE6BFkE2AMNBI8E3AQcBIgGFgU/ArgBtgX3AcQCNAEoAlICsgIJAYkFPgTjBYECRwbZBHEDAQMzA7MBSgKKAuMCrgJJA58EDQTfA+8F7QHAArkDoAPpASsBVAEfA70BAgPSBFQBKgHIA7gC8wI9BQUDSQOLBhUFGQdoA98FVwGxBccDewI4A+8BkAUoAZwEnAJlAw=="
         },
         "xaxis": "x",
         "yaxis": "y",
         "type": "histogram"
        }
       ],
       "layout": {
        "template": {
         "data": {
          "histogram2dcontour": [
           {
            "type": "histogram2dcontour",
            "colorbar": {
             "outlinewidth": 0,
             "ticks": ""
            },
            "colorscale": [
             [
              0.0,
              "#0d0887"
             ],
             [
              0.1111111111111111,
              "#46039f"
             ],
             [
              0.2222222222222222,
              "#7201a8"
             ],
             [
              0.3333333333333333,
              "#9c179e"
             ],
             [
              0.4444444444444444,
              "#bd3786"
             ],
             [
              0.5555555555555556,
              "#d8576b"
             ],
             [
              0.6666666666666666,
              "#ed7953"
             ],
             [
              0.7777777777777778,
              "#fb9f3a"
             ],
             [
              0.8888888888888888,
              "#fdca26"
             ],
             [
              1.0,
              "#f0f921"
             ]
            ]
           }
          ],
          "choropleth": [
           {
            "type": "choropleth",
            "colorbar": {
             "outlinewidth": 0,
             "ticks": ""
            }
           }
          ],
          "histogram2d": [
           {
            "type": "histogram2d",
            "colorbar": {
             "outlinewidth": 0,
             "ticks": ""
            },
            "colorscale": [
             [
              0.0,
              "#0d0887"
             ],
             [
              0.1111111111111111,
              "#46039f"
             ],
             [
              0.2222222222222222,
              "#7201a8"
             ],
             [
              0.3333333333333333,
              "#9c179e"
             ],
             [
              0.4444444444444444,
              "#bd3786"
             ],
             [
              0.5555555555555556,
              "#d8576b"
             ],
             [
              0.6666666666666666,
              "#ed7953"
             ],
             [
              0.7777777777777778,
              "#fb9f3a"
             ],
             [
              0.8888888888888888,
              "#fdca26"
             ],
             [
              1.0,
              "#f0f921"
             ]
            ]
           }
          ],
          "heatmap": [
           {
            "type": "heatmap",
            "colorbar": {
             "outlinewidth": 0,
             "ticks": ""
            },
            "colorscale": [
             [
              0.0,
              "#0d0887"
             ],
             [
              0.1111111111111111,
              "#46039f"
             ],
             [
              0.2222222222222222,
              "#7201a8"
             ],
             [
              0.3333333333333333,
              "#9c179e"
             ],
             [
              0.4444444444444444,
              "#bd3786"
             ],
             [
              0.5555555555555556,
              "#d8576b"
             ],
             [
              0.6666666666666666,
              "#ed7953"
             ],
             [
              0.7777777777777778,
              "#fb9f3a"
             ],
             [
              0.8888888888888888,
              "#fdca26"
             ],
             [
              1.0,
              "#f0f921"
             ]
            ]
           }
          ],
          "contourcarpet": [
           {
            "type": "contourcarpet",
            "colorbar": {
             "outlinewidth": 0,
             "ticks": ""
            }
           }
          ],
          "contour": [
           {
            "type": "contour",
            "colorbar": {
             "outlinewidth": 0,
             "ticks": ""
            },
            "colorscale": [
             [
              0.0,
              "#0d0887"
             ],
             [
              0.1111111111111111,
              "#46039f"
             ],
             [
              0.2222222222222222,
              "#7201a8"
             ],
             [
              0.3333333333333333,
              "#9c179e"
             ],
             [
              0.4444444444444444,
              "#bd3786"
             ],
             [
              0.5555555555555556,
              "#d8576b"
             ],
             [
              0.6666666666666666,
              "#ed7953"
             ],
             [
              0.7777777777777778,
              "#fb9f3a"
             ],
             [
              0.8888888888888888,
              "#fdca26"
             ],
             [
              1.0,
              "#f0f921"
             ]
            ]
           }
          ],
          "surface": [
           {
            "type": "surface",
            "colorbar": {
             "outlinewidth": 0,
             "ticks": ""
            },
            "colorscale": [
             [
              0.0,
              "#0d0887"
             ],
             [
              0.1111111111111111,
              "#46039f"
             ],
             [
              0.2222222222222222,
              "#7201a8"
             ],
             [
              0.3333333333333333,
              "#9c179e"
             ],
             [
              0.4444444444444444,
              "#bd3786"
             ],
             [
              0.5555555555555556,
              "#d8576b"
             ],
             [
              0.6666666666666666,
              "#ed7953"
             ],
             [
              0.7777777777777778,
              "#fb9f3a"
             ],
             [
              0.8888888888888888,
              "#fdca26"
             ],
             [
              1.0,
              "#f0f921"
             ]
            ]
           }
          ],
          "mesh3d": [
           {
            "type": "mesh3d",
            "colorbar": {
             "outlinewidth": 0,
             "ticks": ""
            }
           }
          ],
          "scatter": [
           {
            "marker": {
             "line": {
              "color": "#283442"
             }
            },
            "type": "scatter"
           }
          ],
          "parcoords": [
           {
            "type": "parcoords",
            "line": {
             "colorbar": {
              "outlinewidth": 0,
              "ticks": ""
             }
            }
           }
          ],
          "scatterpolargl": [
           {
            "type": "scatterpolargl",
            "marker": {
             "colorbar": {
              "outlinewidth": 0,
              "ticks": ""
             }
            }
           }
          ],
          "bar": [
           {
            "error_x": {
             "color": "#f2f5fa"
            },
            "error_y": {
             "color": "#f2f5fa"
            },
            "marker": {
             "line": {
              "color": "rgb(17,17,17)",
              "width": 0.5
             },
             "pattern": {
              "fillmode": "overlay",
              "size": 10,
              "solidity": 0.2
             }
            },
            "type": "bar"
           }
          ],
          "scattergeo": [
           {
            "type": "scattergeo",
            "marker": {
             "colorbar": {
              "outlinewidth": 0,
              "ticks": ""
             }
            }
           }
          ],
          "scatterpolar": [
           {
            "type": "scatterpolar",
            "marker": {
             "colorbar": {
              "outlinewidth": 0,
              "ticks": ""
             }
            }
           }
          ],
          "histogram": [
           {
            "marker": {
             "pattern": {
              "fillmode": "overlay",
              "size": 10,
              "solidity": 0.2
             }
            },
            "type": "histogram"
           }
          ],
          "scattergl": [
           {
            "marker": {
             "line": {
              "color": "#283442"
             }
            },
            "type": "scattergl"
           }
          ],
          "scatter3d": [
           {
            "type": "scatter3d",
            "line": {
             "colorbar": {
              "outlinewidth": 0,
              "ticks": ""
             }
            },
            "marker": {
             "colorbar": {
              "outlinewidth": 0,
              "ticks": ""
             }
            }
           }
          ],
          "scattermap": [
           {
            "type": "scattermap",
            "marker": {
             "colorbar": {
              "outlinewidth": 0,
              "ticks": ""
             }
            }
           }
          ],
          "scattermapbox": [
           {
            "type": "scattermapbox",
            "marker": {
             "colorbar": {
              "outlinewidth": 0,
              "ticks": ""
             }
            }
           }
          ],
          "scatterternary": [
           {
            "type": "scatterternary",
            "marker": {
             "colorbar": {
              "outlinewidth": 0,
              "ticks": ""
             }
            }
           }
          ],
          "scattercarpet": [
           {
            "type": "scattercarpet",
            "marker": {
             "colorbar": {
              "outlinewidth": 0,
              "ticks": ""
             }
            }
           }
          ],
          "carpet": [
           {
            "aaxis": {
             "endlinecolor": "#A2B1C6",
             "gridcolor": "#506784",
             "linecolor": "#506784",
             "minorgridcolor": "#506784",
             "startlinecolor": "#A2B1C6"
            },
            "baxis": {
             "endlinecolor": "#A2B1C6",
             "gridcolor": "#506784",
             "linecolor": "#506784",
             "minorgridcolor": "#506784",
             "startlinecolor": "#A2B1C6"
            },
            "type": "carpet"
           }
          ],
          "table": [
           {
            "cells": {
             "fill": {
              "color": "#506784"
             },
             "line": {
              "color": "rgb(17,17,17)"
             }
            },
            "header": {
             "fill": {
              "color": "#2a3f5f"
             },
             "line": {
              "color": "rgb(17,17,17)"
             }
            },
            "type": "table"
           }
          ],
          "barpolar": [
           {
            "marker": {
             "line": {
              "color": "rgb(17,17,17)",
              "width": 0.5
             },
             "pattern": {
              "fillmode": "overlay",
              "size": 10,
              "solidity": 0.2
             }
            },
            "type": "barpolar"
           }
          ],
          "pie": [
           {
            "automargin": true,
            "type": "pie"
           }
          ]
         },
         "layout": {
          "autotypenumbers": "strict",
          "colorway": [
           "#636efa",
           "#EF553B",
           "#00cc96",
           "#ab63fa",
           "#FFA15A",
           "#19d3f3",
           "#FF6692",
           "#B6E880",
           "#FF97FF",
           "#FECB52"
          ],
          "font": {
           "color": "#f2f5fa"
          },
          "hovermode": "closest",
          "hoverlabel": {
           "align": "left"
          },
          "paper_bgcolor": "rgb(17,17,17)",
          "plot_bgcolor": "rgb(17,17,17)",
          "polar": {
           "bgcolor": "rgb(17,17,17)",
           "angularaxis": {
            "gridcolor": "#506784",
            "linecolor": "#506784",
            "ticks": ""
           },
           "radialaxis": {
            "gridcolor": "#506784",
            "linecolor": "#506784",
            "ticks": ""
           }
          },
          "ternary": {
           "bgcolor": "rgb(17,17,17)",
           "aaxis": {
            "gridcolor": "#506784",
            "linecolor": "#506784",
            "ticks": ""
           },
           "baxis": {
            "gridcolor": "#506784",
            "linecolor": "#506784",
            "ticks": ""
           },
           "caxis": {
            "gridcolor": "#506784",
            "linecolor": "#506784",
            "ticks": ""
           }
          },
          "coloraxis": {
           "colorbar": {
            "outlinewidth": 0,
            "ticks": ""
           }
          },
          "colorscale": {
           "sequential": [
            [
             0.0,
             "#0d0887"
            ],
            [
             0.1111111111111111,
             "#46039f"
            ],
            [
             0.2222222222222222,
             "#7201a8"
            ],
            [
             0.3333333333333333,
             "#9c179e"
            ],
            [
             0.4444444444444444,
             "#bd3786"
            ],
            [
             0.5555555555555556,
             "#d8576b"
            ],
            [
             0.6666666666666666,
             "#ed7953"
            ],
            [
             0.7777777777777778,
             "#fb9f3a"
            ],
            [
             0.8888888888888888,
             "#fdca26"
            ],
            [
             1.0,
             "#f0f921"
            ]
           ],
           "sequentialminus": [
            [
             0.0,
             "#0d0887"
            ],
            [
             0.1111111111111111,
             "#46039f"
            ],
            [
             0.2222222222222222,
             "#7201a8"
            ],
            [
             0.3333333333333333,
             "#9c179e"
            ],
            [
             0.4444444444444444,
             "#bd3786"
            ],
            [
             0.5555555555555556,
             "#d8576b"
            ],
            [
             0.6666666666666666,
             "#ed7953"
            ],
            [
             0.7777777777777778,
             "#fb9f3a"
            ],
            [
             0.8888888888888888,
             "#fdca26"
            ],
            [
             1.0,
             "#f0f921"
            ]
           ],
           "diverging": [
            [
             0,
             "#8e0152"
            ],
            [
             0.1,
             "#c51b7d"
            ],
            [
             0.2,
             "#de77ae"
            ],
            [
             0.3,
             "#f1b6da"
            ],
            [
             0.4,
             "#fde0ef"
            ],
            [
             0.5,
             "#f7f7f7"
            ],
            [
             0.6,
             "#e6f5d0"
            ],
            [
             0.7,
             "#b8e186"
            ],
            [
             0.8,
             "#7fbc41"
            ],
            [
             0.9,
             "#4d9221"
            ],
            [
             1,
             "#276419"
            ]
           ]
          },
          "xaxis": {
           "gridcolor": "#283442",
           "linecolor": "#506784",
           "ticks": "",
           "title": {
            "standoff": 15
           },
           "zerolinecolor": "#283442",
           "automargin": true,
           "zerolinewidth": 2
          },
          "yaxis": {
           "gridcolor": "#283442",
           "linecolor": "#506784",
           "ticks": "",
           "title": {
            "standoff": 15
           },
           "zerolinecolor": "#283442",
           "automargin": true,
           "zerolinewidth": 2
          },
          "scene": {
           "xaxis": {
            "backgroundcolor": "rgb(17,17,17)",
            "gridcolor": "#506784",
            "linecolor": "#506784",
            "showbackground": true,
            "ticks": "",
            "zerolinecolor": "#C8D4E3",
            "gridwidth": 2
           },
           "yaxis": {
            "backgroundcolor": "rgb(17,17,17)",
            "gridcolor": "#506784",
            "linecolor": "#506784",
            "showbackground": true,
            "ticks": "",
            "zerolinecolor": "#C8D4E3",
            "gridwidth": 2
           },
           "zaxis": {
            "backgroundcolor": "rgb(17,17,17)",
            "gridcolor": "#506784",
            "linecolor": "#506784",
            "showbackground": true,
            "ticks": "",
            "zerolinecolor": "#C8D4E3",
            "gridwidth": 2
           }
          },
          "shapedefaults": {
           "line": {
            "color": "#f2f5fa"
           }
          },
          "annotationdefaults": {
           "arrowcolor": "#f2f5fa",
           "arrowhead": 0,
           "arrowwidth": 1
          },
          "geo": {
           "bgcolor": "rgb(17,17,17)",
           "landcolor": "rgb(17,17,17)",
           "subunitcolor": "#506784",
           "showland": true,
           "showlakes": true,
           "lakecolor": "rgb(17,17,17)"
          },
          "title": {
           "x": 0.05
          },
          "updatemenudefaults": {
           "bgcolor": "#506784",
           "borderwidth": 0
          },
          "sliderdefaults": {
           "bgcolor": "#C8D4E3",
           "borderwidth": 1,
           "bordercolor": "rgb(17,17,17)",
           "tickwidth": 0
          },
          "mapbox": {
           "style": "dark"
          }
         }
        },
        "xaxis": {
         "anchor": "y",
         "domain": [
          0.0,
          1.0
         ],
         "title": {
          "text": "ram"
         }
        },
        "yaxis": {
         "anchor": "x",
         "domain": [
          0.0,
          1.0
         ],
         "title": {
          "text": "count"
         }
        },
        "legend": {
         "title": {
          "text": "price_range"
         },
         "tracegroupgap": 0
        },
        "title": {
         "text": "RAM by Price Range"
        },
        "barmode": "overlay"
       },
       "config": {
        "plotlyServerURL": "https://plot.ly"
       }
      }
     },
     "metadata": {},
     "output_type": "display_data",
     "jetTransient": {
      "display_id": null
     }
    }
   ],
   "execution_count": 19
  },
  {
   "metadata": {
    "ExecuteTime": {
     "end_time": "2025-10-01T13:37:25.294827Z",
     "start_time": "2025-10-01T13:37:25.257961Z"
    }
   },
   "cell_type": "code",
   "source": [
    "# 7. RAM vs Battery scatter\n",
    "fig = px.scatter(df, x='ram', y='battery_power', color='price_range',\n",
    "                title='RAM vs Battery Power')\n",
    "fig.show()"
   ],
   "id": "9371fcdb351dc54f",
   "outputs": [
    {
     "data": {
      "application/vnd.plotly.v1+json": {
       "data": [
        {
         "hovertemplate": "ram=%{x}<br>battery_power=%{y}<br>price_range=%{marker.color}<extra></extra>",
         "legendgroup": "",
         "marker": {
          "color": {
           "dtype": "i1",
           "bdata": "AQICAgEBAwAAAAMDAQIAAAMDAQEDAwEAAQIDAwIAAwABAwABAQMCAgIDAQEAAQMBAAMCAgMBAgIAAwECAQAAAgIDAwMAAwMCAAMAAQAAAwEDAgMBAQEAAwICAwIAAAEDAAIAAQMBAQAAAQMDAwMBAQACAwMCAQABAgMDAwIDAgEDAAMBAgECAgEDAAACAAMCAAMBAwICAQMBAgABAAADAQICAAACAwECAwEDAQICAwIAAwIBAAACAwMAAgMBAwECAwMCAgIDAQEAAQACAgICAQMDAgIAAgADAAEBAwAAAwIDAwMCAgMDAwABAgABAwEAAgIDAgMDAAEBAAICAQAAAgABAAMBAQAAAwEDAQIBAAADAQICAwEAAAMDAQECAQMDAQEDAwIDAAEDAQABAwAAAwABAQIAAgMCAwACAwEAAAEAAwMAAAACAQIBAQEBAQICAwACAgIBAgMAAQICAgIBAwACAgECAAADAQADAgAAAgMCAQMBAwADAgABAAMBAgICAgMDAQIDAwEDAwEDAwABAwIDAwICAwMAAgIAAwECAwIBAQEAAQICAAICAAMBAQMBAwEAAAMBAwAAAQMBAAACAgIBAQEDAAMCAQMBAAICAQAAAwMAAAEDAwEAAgIDAAMDAAMAAwEAAgIBAgADAgABAgMBAgMAAwEAAAECAgICAwMAAQECAQMDAwMBAwMDAwIDAgIAAAMBAgIAAgIBAAMBAQEBAQICAQMBAAEAAAICAgADAQIBAgAAAQMDAwMDAwACAgAAAwMDAAADAAABAgACAwEDAgACAgAAAQMAAQECAgACAgABAwACAgMBAwICAQICAQEAAQABAAMBAQMBAwIBAQACAAIAAgABAwECAgABAAMCAQMCAAABAgAAAAIDAQIBAAAAAgMCAwADAgECAQACAAABAwADAQEBAwICAAADAAMDAgMDAwACAQIAAwEAAQMBAwMBAAEBAgEDAwACAAMCAAACAQIDAwIBAgIDAQIDAwEBAgECAAIAAwAAAAMDAAICAwEDAAECAAAAAwIAAgIBAAIAAwMCAwADAgMCAgEAAwMBAAACAQIDAwMDAAAAAQACAAECAAADAwEDAwIDAwEBAwADAwMDAgIDAgEDAgMAAAMAAAMCAQACAQICAQICAAIAAgICAwAAAwMBAAEAAAMDAwACAgECAgIAAwEBAwMBAgMCAgADAwACAgADAwABAQABAgEDAQAAAwIAAQABAgEBAgIAAwIDAQIDAwICAgMAAAEAAwAAAgEBAQMAAQMDAwEDAgMBAQIDAAABAQEAAwIAAQMAAwEAAwMBAAAAAwMBAQEBAAADAgADAwIAAAACAwABAwECAAACAAIAAwMBAwMBAAAAAAEBAgICAQIAAAMAAQEAAwIAAQIDAgMBAQEBAwEBAgIBAgMBAgABAAMAAAAAAQMAAQEAAwMCAQABAgICAQEAAQICAgAAAQMBAwAAAQADAQAAAgMDAQMDAQMCAAICAwMDAwECAgECAAIDAgIBAAEBAAIAAgICAgECAgABAQIBAQMAAQMAAgACAgICAgAAAgECAAMBAwICAwIAAwMBAAADAgIAAwIAAwIAAQICAQACAAIBAgEBAwABAQIAAwECAgEDAgACAgIDAAADAgECAAACAwIAAAACAwACAgEBAQIBAAIBAwMAAAIDAQMBAAMDAAEDAQECAwADAAEBAwIAAAMBAwECAgMAAwEBAAMAAgACAgMCAAMBAAMDAQEAAwEDAQECAAEDAwMDAQMAAQEAAQMBAQIBAQEBAgICAwMCAQECAQIDAgADAwECAwIBAQIBAQAAAAACAQECAAIAAgIAAwEAAwABAwMAAAEBAwIDAAIBAAAAAAMAAAADAAICAAEBAgAAAQEAAgICAAEDAAACAgMBAQEBAgEBAwADAAEAAAAAAwIBAAIBAAABAgABAQIBAQECAQMDAAMCAAECAwMAAQEBAQMBAgACAwEDAQECAAECAwABAwAAAAAAAwECAgIBAQMAAQICAwEBAwABAAEDAwMDAQEAAQICAwEBAAMDAAICAQICAAIDAwMCAgMCAgEBAQIAAQADAgACAgICAQAAAAECAQADAgADAgABAgEAAAACAAMBAQIDAwIBAgECAwACAwEAAwEAAgECAQIDAgMCAwMDAwICAgMBAQEAAAMCAQADAwEAAwIBAgMCAgMBAQEBAAIBAAEAAwADAQEDAwEBAQMCAQMBAQIDAAEBAwIBAgIDAgEBAQMDAwADAgMBAwIBAgMDAAAAAgIAAgACAQMDAAECAAIAAgICAAIAAgACAQIDAQMAAAICAwMBAgEBAwAAAgEAAQIBAwABAwACAwMCAAMBAQACAgIAAwMAAwIDAAIAAgEDAwADAgACAQIDAQEDAAEBAwABAAECAAEDAwECAQAAAQABAAABAwMBAAIAAwECAgECAwMAAAECAgIBAgEAAgMAAAMAAwAAAwMAAwAAAAADAwIAAAAAAwACAwIDAwIDAQACAAABAQECAgAAAwABAgADAQAAAwABAAMDAAECAgIDAAEDAwEDAAEAAAIBAAIAAwEAAgECAQMAAgMBAQECAQMCAgICAwEAAAAAAgECAQABAwADAAMDAQIAAgEBAAIBAAICAQADAQMAAgEBAQECAgEDAQABAQADAAMDAAIDAAMBAQEBAQEBAQEBAQEBAQEBAQEBAQEBAQEBAQEBAQEBAQEBAQEBAQEBAQEBAQEBAQEBAQEBAQEBAQEBAQEBAQEBAQEBAQEBAQEBAQEBAQEBAQEBAQEBAQEBAQEBAQEBAQEBAQEBAQEBAQEBAQEBAQEBAQEBAQEBAQEBAQEBAQEBAQEBAQEBAQEBAQEBAQEBAQEBAQEBAQEBAQEBAQEBAQEBAQEBAQEBAQEBAQEBAQEBAQEBAQEBAQEBAQEBAQEBAQEBAQEBAQEBAQEBAQEBAQEBAQEBAQEBAQEBAQEBAQEBAQEBAQEBAQEBAQEBAQEBAQEBAQEBAQEBAQEBAQEBAQEBAQEBAQEBAQEBAQEBAQEBAQEBAQEBAQEBAQEBAQEBAQEBAQEBAQEBAQEBAQEBAQEBAQEBAQEBAQEBAQEBAQEBAQEBAQEBAQEBAQEBAQEBAQEBAQEBAQEBAQEBAQEBAQEBAQEBAQEBAQEBAQEBAQEBAQEBAQEBAQEBAQEBAQEBAQEBAQEBAQEBAQEBAQEBAQEBAQEBAQEBAQEBAQEBAQEBAQEBAQEBAQEBAQEBAQEBAQEBAQEBAQEBAQEBAQEBAQEBAQEBAQEBAQEBAQEBAQEBAQEBAQEBAQEBAQEBAQEBAQEBAQEBAQEBAQEBAQEBAQEBAQEBAQEBAQEBAQEBAQEBAQEBAQEBAQEBAQEBAQEBAQEBAQEBAQEBAQEBAQEBAQEBAQEBAQEBAQEBAQEBAQEBAQEBAQEBAQEBAQEBAQEBAQEBAQEBAQEBAQEBAQEBAQEBAQEBAQEBAQEBAQEBAQEBAQEBAQEBAQEBAQEBAQEBAQEBAQEBAQEBAQEBAQEBAQEBAQEBAQEBAQEBAQEBAQEBAQEBAQEBAQEBAQEBAQEBAQEBAQEBAQEBAQEBAQEBAQEBAQEBAQEBAQEBAQEBAQEBAQEBAQEBAQEBAQEBAQEBAQEBAQEBAQEBAQEBAQEBAQEBAQEBAQEBAQEBAQEBAQEBAQEBAQEBAQEBAQEBAQEBAQEBAQEBAQEBAQEBAQEBAQEBAQEBAQEBAQEBAQEBAQEBAQEBAQEBAQEBAQEBAQEBAQEBAQEBAQEBAQEBAQEBAQEBAQEBAQEBAQEBAQEBAQEBAQEBAQEBAQEBAQEBAQEBAQEBAQEBAQEBAQEBAQEBAQEBAQEBAQEBAQEBAQEBAQEBAQEBAQEBAQEBAQEBAQEBAQEBAQEBAQEBAQEBAQEBAQEBAQEBAQEBAQEBAQEBAQEBAQEBAQEBAQEBAQEBAQEBAQEBAQEBAQEBAQEBAQEBAQEBAQEBAQEBAQEBAQEBAQEBAQEBAQEBAQEBAQEBAQEBAQEBAQEBAQEBAQEBAQE="
          },
          "coloraxis": "coloraxis",
          "symbol": "circle"
         },
         "mode": "markers",
         "name": "",
         "showlegend": false,
         "x": {
          "dtype": "i2",
          "bdata": "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"
         },
         "xaxis": "x",
         "y": {
          "dtype": "i2",
          "bdata": "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"
         },
         "yaxis": "y",
         "type": "scattergl"
        }
       ],
       "layout": {
        "template": {
         "data": {
          "histogram2dcontour": [
           {
            "type": "histogram2dcontour",
            "colorbar": {
             "outlinewidth": 0,
             "ticks": ""
            },
            "colorscale": [
             [
              0.0,
              "#0d0887"
             ],
             [
              0.1111111111111111,
              "#46039f"
             ],
             [
              0.2222222222222222,
              "#7201a8"
             ],
             [
              0.3333333333333333,
              "#9c179e"
             ],
             [
              0.4444444444444444,
              "#bd3786"
             ],
             [
              0.5555555555555556,
              "#d8576b"
             ],
             [
              0.6666666666666666,
              "#ed7953"
             ],
             [
              0.7777777777777778,
              "#fb9f3a"
             ],
             [
              0.8888888888888888,
              "#fdca26"
             ],
             [
              1.0,
              "#f0f921"
             ]
            ]
           }
          ],
          "choropleth": [
           {
            "type": "choropleth",
            "colorbar": {
             "outlinewidth": 0,
             "ticks": ""
            }
           }
          ],
          "histogram2d": [
           {
            "type": "histogram2d",
            "colorbar": {
             "outlinewidth": 0,
             "ticks": ""
            },
            "colorscale": [
             [
              0.0,
              "#0d0887"
             ],
             [
              0.1111111111111111,
              "#46039f"
             ],
             [
              0.2222222222222222,
              "#7201a8"
             ],
             [
              0.3333333333333333,
              "#9c179e"
             ],
             [
              0.4444444444444444,
              "#bd3786"
             ],
             [
              0.5555555555555556,
              "#d8576b"
             ],
             [
              0.6666666666666666,
              "#ed7953"
             ],
             [
              0.7777777777777778,
              "#fb9f3a"
             ],
             [
              0.8888888888888888,
              "#fdca26"
             ],
             [
              1.0,
              "#f0f921"
             ]
            ]
           }
          ],
          "heatmap": [
           {
            "type": "heatmap",
            "colorbar": {
             "outlinewidth": 0,
             "ticks": ""
            },
            "colorscale": [
             [
              0.0,
              "#0d0887"
             ],
             [
              0.1111111111111111,
              "#46039f"
             ],
             [
              0.2222222222222222,
              "#7201a8"
             ],
             [
              0.3333333333333333,
              "#9c179e"
             ],
             [
              0.4444444444444444,
              "#bd3786"
             ],
             [
              0.5555555555555556,
              "#d8576b"
             ],
             [
              0.6666666666666666,
              "#ed7953"
             ],
             [
              0.7777777777777778,
              "#fb9f3a"
             ],
             [
              0.8888888888888888,
              "#fdca26"
             ],
             [
              1.0,
              "#f0f921"
             ]
            ]
           }
          ],
          "contourcarpet": [
           {
            "type": "contourcarpet",
            "colorbar": {
             "outlinewidth": 0,
             "ticks": ""
            }
           }
          ],
          "contour": [
           {
            "type": "contour",
            "colorbar": {
             "outlinewidth": 0,
             "ticks": ""
            },
            "colorscale": [
             [
              0.0,
              "#0d0887"
             ],
             [
              0.1111111111111111,
              "#46039f"
             ],
             [
              0.2222222222222222,
              "#7201a8"
             ],
             [
              0.3333333333333333,
              "#9c179e"
             ],
             [
              0.4444444444444444,
              "#bd3786"
             ],
             [
              0.5555555555555556,
              "#d8576b"
             ],
             [
              0.6666666666666666,
              "#ed7953"
             ],
             [
              0.7777777777777778,
              "#fb9f3a"
             ],
             [
              0.8888888888888888,
              "#fdca26"
             ],
             [
              1.0,
              "#f0f921"
             ]
            ]
           }
          ],
          "surface": [
           {
            "type": "surface",
            "colorbar": {
             "outlinewidth": 0,
             "ticks": ""
            },
            "colorscale": [
             [
              0.0,
              "#0d0887"
             ],
             [
              0.1111111111111111,
              "#46039f"
             ],
             [
              0.2222222222222222,
              "#7201a8"
             ],
             [
              0.3333333333333333,
              "#9c179e"
             ],
             [
              0.4444444444444444,
              "#bd3786"
             ],
             [
              0.5555555555555556,
              "#d8576b"
             ],
             [
              0.6666666666666666,
              "#ed7953"
             ],
             [
              0.7777777777777778,
              "#fb9f3a"
             ],
             [
              0.8888888888888888,
              "#fdca26"
             ],
             [
              1.0,
              "#f0f921"
             ]
            ]
           }
          ],
          "mesh3d": [
           {
            "type": "mesh3d",
            "colorbar": {
             "outlinewidth": 0,
             "ticks": ""
            }
           }
          ],
          "scatter": [
           {
            "marker": {
             "line": {
              "color": "#283442"
             }
            },
            "type": "scatter"
           }
          ],
          "parcoords": [
           {
            "type": "parcoords",
            "line": {
             "colorbar": {
              "outlinewidth": 0,
              "ticks": ""
             }
            }
           }
          ],
          "scatterpolargl": [
           {
            "type": "scatterpolargl",
            "marker": {
             "colorbar": {
              "outlinewidth": 0,
              "ticks": ""
             }
            }
           }
          ],
          "bar": [
           {
            "error_x": {
             "color": "#f2f5fa"
            },
            "error_y": {
             "color": "#f2f5fa"
            },
            "marker": {
             "line": {
              "color": "rgb(17,17,17)",
              "width": 0.5
             },
             "pattern": {
              "fillmode": "overlay",
              "size": 10,
              "solidity": 0.2
             }
            },
            "type": "bar"
           }
          ],
          "scattergeo": [
           {
            "type": "scattergeo",
            "marker": {
             "colorbar": {
              "outlinewidth": 0,
              "ticks": ""
             }
            }
           }
          ],
          "scatterpolar": [
           {
            "type": "scatterpolar",
            "marker": {
             "colorbar": {
              "outlinewidth": 0,
              "ticks": ""
             }
            }
           }
          ],
          "histogram": [
           {
            "marker": {
             "pattern": {
              "fillmode": "overlay",
              "size": 10,
              "solidity": 0.2
             }
            },
            "type": "histogram"
           }
          ],
          "scattergl": [
           {
            "marker": {
             "line": {
              "color": "#283442"
             }
            },
            "type": "scattergl"
           }
          ],
          "scatter3d": [
           {
            "type": "scatter3d",
            "line": {
             "colorbar": {
              "outlinewidth": 0,
              "ticks": ""
             }
            },
            "marker": {
             "colorbar": {
              "outlinewidth": 0,
              "ticks": ""
             }
            }
           }
          ],
          "scattermap": [
           {
            "type": "scattermap",
            "marker": {
             "colorbar": {
              "outlinewidth": 0,
              "ticks": ""
             }
            }
           }
          ],
          "scattermapbox": [
           {
            "type": "scattermapbox",
            "marker": {
             "colorbar": {
              "outlinewidth": 0,
              "ticks": ""
             }
            }
           }
          ],
          "scatterternary": [
           {
            "type": "scatterternary",
            "marker": {
             "colorbar": {
              "outlinewidth": 0,
              "ticks": ""
             }
            }
           }
          ],
          "scattercarpet": [
           {
            "type": "scattercarpet",
            "marker": {
             "colorbar": {
              "outlinewidth": 0,
              "ticks": ""
             }
            }
           }
          ],
          "carpet": [
           {
            "aaxis": {
             "endlinecolor": "#A2B1C6",
             "gridcolor": "#506784",
             "linecolor": "#506784",
             "minorgridcolor": "#506784",
             "startlinecolor": "#A2B1C6"
            },
            "baxis": {
             "endlinecolor": "#A2B1C6",
             "gridcolor": "#506784",
             "linecolor": "#506784",
             "minorgridcolor": "#506784",
             "startlinecolor": "#A2B1C6"
            },
            "type": "carpet"
           }
          ],
          "table": [
           {
            "cells": {
             "fill": {
              "color": "#506784"
             },
             "line": {
              "color": "rgb(17,17,17)"
             }
            },
            "header": {
             "fill": {
              "color": "#2a3f5f"
             },
             "line": {
              "color": "rgb(17,17,17)"
             }
            },
            "type": "table"
           }
          ],
          "barpolar": [
           {
            "marker": {
             "line": {
              "color": "rgb(17,17,17)",
              "width": 0.5
             },
             "pattern": {
              "fillmode": "overlay",
              "size": 10,
              "solidity": 0.2
             }
            },
            "type": "barpolar"
           }
          ],
          "pie": [
           {
            "automargin": true,
            "type": "pie"
           }
          ]
         },
         "layout": {
          "autotypenumbers": "strict",
          "colorway": [
           "#636efa",
           "#EF553B",
           "#00cc96",
           "#ab63fa",
           "#FFA15A",
           "#19d3f3",
           "#FF6692",
           "#B6E880",
           "#FF97FF",
           "#FECB52"
          ],
          "font": {
           "color": "#f2f5fa"
          },
          "hovermode": "closest",
          "hoverlabel": {
           "align": "left"
          },
          "paper_bgcolor": "rgb(17,17,17)",
          "plot_bgcolor": "rgb(17,17,17)",
          "polar": {
           "bgcolor": "rgb(17,17,17)",
           "angularaxis": {
            "gridcolor": "#506784",
            "linecolor": "#506784",
            "ticks": ""
           },
           "radialaxis": {
            "gridcolor": "#506784",
            "linecolor": "#506784",
            "ticks": ""
           }
          },
          "ternary": {
           "bgcolor": "rgb(17,17,17)",
           "aaxis": {
            "gridcolor": "#506784",
            "linecolor": "#506784",
            "ticks": ""
           },
           "baxis": {
            "gridcolor": "#506784",
            "linecolor": "#506784",
            "ticks": ""
           },
           "caxis": {
            "gridcolor": "#506784",
            "linecolor": "#506784",
            "ticks": ""
           }
          },
          "coloraxis": {
           "colorbar": {
            "outlinewidth": 0,
            "ticks": ""
           }
          },
          "colorscale": {
           "sequential": [
            [
             0.0,
             "#0d0887"
            ],
            [
             0.1111111111111111,
             "#46039f"
            ],
            [
             0.2222222222222222,
             "#7201a8"
            ],
            [
             0.3333333333333333,
             "#9c179e"
            ],
            [
             0.4444444444444444,
             "#bd3786"
            ],
            [
             0.5555555555555556,
             "#d8576b"
            ],
            [
             0.6666666666666666,
             "#ed7953"
            ],
            [
             0.7777777777777778,
             "#fb9f3a"
            ],
            [
             0.8888888888888888,
             "#fdca26"
            ],
            [
             1.0,
             "#f0f921"
            ]
           ],
           "sequentialminus": [
            [
             0.0,
             "#0d0887"
            ],
            [
             0.1111111111111111,
             "#46039f"
            ],
            [
             0.2222222222222222,
             "#7201a8"
            ],
            [
             0.3333333333333333,
             "#9c179e"
            ],
            [
             0.4444444444444444,
             "#bd3786"
            ],
            [
             0.5555555555555556,
             "#d8576b"
            ],
            [
             0.6666666666666666,
             "#ed7953"
            ],
            [
             0.7777777777777778,
             "#fb9f3a"
            ],
            [
             0.8888888888888888,
             "#fdca26"
            ],
            [
             1.0,
             "#f0f921"
            ]
           ],
           "diverging": [
            [
             0,
             "#8e0152"
            ],
            [
             0.1,
             "#c51b7d"
            ],
            [
             0.2,
             "#de77ae"
            ],
            [
             0.3,
             "#f1b6da"
            ],
            [
             0.4,
             "#fde0ef"
            ],
            [
             0.5,
             "#f7f7f7"
            ],
            [
             0.6,
             "#e6f5d0"
            ],
            [
             0.7,
             "#b8e186"
            ],
            [
             0.8,
             "#7fbc41"
            ],
            [
             0.9,
             "#4d9221"
            ],
            [
             1,
             "#276419"
            ]
           ]
          },
          "xaxis": {
           "gridcolor": "#283442",
           "linecolor": "#506784",
           "ticks": "",
           "title": {
            "standoff": 15
           },
           "zerolinecolor": "#283442",
           "automargin": true,
           "zerolinewidth": 2
          },
          "yaxis": {
           "gridcolor": "#283442",
           "linecolor": "#506784",
           "ticks": "",
           "title": {
            "standoff": 15
           },
           "zerolinecolor": "#283442",
           "automargin": true,
           "zerolinewidth": 2
          },
          "scene": {
           "xaxis": {
            "backgroundcolor": "rgb(17,17,17)",
            "gridcolor": "#506784",
            "linecolor": "#506784",
            "showbackground": true,
            "ticks": "",
            "zerolinecolor": "#C8D4E3",
            "gridwidth": 2
           },
           "yaxis": {
            "backgroundcolor": "rgb(17,17,17)",
            "gridcolor": "#506784",
            "linecolor": "#506784",
            "showbackground": true,
            "ticks": "",
            "zerolinecolor": "#C8D4E3",
            "gridwidth": 2
           },
           "zaxis": {
            "backgroundcolor": "rgb(17,17,17)",
            "gridcolor": "#506784",
            "linecolor": "#506784",
            "showbackground": true,
            "ticks": "",
            "zerolinecolor": "#C8D4E3",
            "gridwidth": 2
           }
          },
          "shapedefaults": {
           "line": {
            "color": "#f2f5fa"
           }
          },
          "annotationdefaults": {
           "arrowcolor": "#f2f5fa",
           "arrowhead": 0,
           "arrowwidth": 1
          },
          "geo": {
           "bgcolor": "rgb(17,17,17)",
           "landcolor": "rgb(17,17,17)",
           "subunitcolor": "#506784",
           "showland": true,
           "showlakes": true,
           "lakecolor": "rgb(17,17,17)"
          },
          "title": {
           "x": 0.05
          },
          "updatemenudefaults": {
           "bgcolor": "#506784",
           "borderwidth": 0
          },
          "sliderdefaults": {
           "bgcolor": "#C8D4E3",
           "borderwidth": 1,
           "bordercolor": "rgb(17,17,17)",
           "tickwidth": 0
          },
          "mapbox": {
           "style": "dark"
          }
         }
        },
        "xaxis": {
         "anchor": "y",
         "domain": [
          0.0,
          1.0
         ],
         "title": {
          "text": "ram"
         }
        },
        "yaxis": {
         "anchor": "x",
         "domain": [
          0.0,
          1.0
         ],
         "title": {
          "text": "battery_power"
         }
        },
        "coloraxis": {
         "colorbar": {
          "title": {
           "text": "price_range"
          }
         },
         "colorscale": [
          [
           0.0,
           "#0d0887"
          ],
          [
           0.1111111111111111,
           "#46039f"
          ],
          [
           0.2222222222222222,
           "#7201a8"
          ],
          [
           0.3333333333333333,
           "#9c179e"
          ],
          [
           0.4444444444444444,
           "#bd3786"
          ],
          [
           0.5555555555555556,
           "#d8576b"
          ],
          [
           0.6666666666666666,
           "#ed7953"
          ],
          [
           0.7777777777777778,
           "#fb9f3a"
          ],
          [
           0.8888888888888888,
           "#fdca26"
          ],
          [
           1.0,
           "#f0f921"
          ]
         ]
        },
        "legend": {
         "tracegroupgap": 0
        },
        "title": {
         "text": "RAM vs Battery Power"
        }
       },
       "config": {
        "plotlyServerURL": "https://plot.ly"
       }
      }
     },
     "metadata": {},
     "output_type": "display_data",
     "jetTransient": {
      "display_id": null
     }
    }
   ],
   "execution_count": 20
  }
 ],
 "metadata": {
  "kernelspec": {
   "display_name": "Python 3",
   "language": "python",
   "name": "python3"
  },
  "language_info": {
   "codemirror_mode": {
    "name": "ipython",
    "version": 2
   },
   "file_extension": ".py",
   "mimetype": "text/x-python",
   "name": "python",
   "nbconvert_exporter": "python",
   "pygments_lexer": "ipython2",
   "version": "2.7.6"
  }
 },
 "nbformat": 4,
 "nbformat_minor": 5
}
